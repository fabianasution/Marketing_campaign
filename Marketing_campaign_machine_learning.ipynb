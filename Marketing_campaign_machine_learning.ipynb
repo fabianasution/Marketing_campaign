{
 "cells": [
  {
   "cell_type": "markdown",
   "source": [
    "# GROUP BRAVO FINAL PROJECT (Astry, Fabian)"
   ],
   "metadata": {}
  },
  {
   "cell_type": "markdown",
   "source": [
    "# A. Problem Definition"
   ],
   "metadata": {}
  },
  {
   "cell_type": "markdown",
   "source": [
    "Portuegese Bank notied that during May 2008 to November 2010, only few of Bank client agreed to open term deposit. This impacted on how the bank run the business such as : to put the money in more higher rate of return in financial product or to lend the money out to its other clients, thereby receiving a higher interest rate from the borrowers. The bank will not able to continue its bussiness if they have low in assets (in this case is money deposit from the client)\n",
    "\n",
    "Our team works as Data Scientist in the Portuguese Bank to help business getting more valuable customer who will agree on the future campaign offer, thus increase marketing effieciency. In addition, we will try to define the probability group (in percentage) of customer who will agree to place term deposit."
   ],
   "metadata": {}
  },
  {
   "cell_type": "markdown",
   "source": [
    "# B. Business Questions"
   ],
   "metadata": {}
  },
  {
   "cell_type": "markdown",
   "source": [
    "1. How to predict a successful marketing campaign via Telemarketing in order to increase valuable customer who will agree on future campaign offer ?"
   ],
   "metadata": {}
  },
  {
   "cell_type": "markdown",
   "source": [
    "## Business Questions for Data Analysis\n",
    "1. Which customer age group is the most targeted on previous campaign  ?\n",
    "2. Does marital status impact on decision opening term deposit ?\n",
    "3. Which job type tend to open the term deposit ?\n",
    "4. How customer last education impact on opening term deposit ?\n",
    "5. How the rest categorical feature impact on customer decision  ?\n",
    "6. How socio economic attribute impact on customer decision ?\n",
    "7. Based on previous campaign, when is the best time customer tend to say \"yes\" ?\n"
   ],
   "metadata": {}
  },
  {
   "cell_type": "markdown",
   "source": [
    "# C. About Dataset"
   ],
   "metadata": {}
  },
  {
   "cell_type": "markdown",
   "source": [
    "This dataset is describing Portugal bank marketing campaigns results. Conducted campaigns were based mostly on direct phone calls, offering bank client to place a term deposit.\n",
    "If after all marking afforts client had agreed to place deposit - target variable marked 'yes', otherwise 'no'. It includes following fields:\n",
    "\n",
    "| Field          | Description                                                                           | Data Type |\n",
    "| -------------- | ------------------------------------------------------------------------------------- | ---------|\n",
    "| **Bank Client Data**                                                                                   \n",
    "| age            | Whether a loan is paid off on in collection| Int |\n",
    "| job            | Type of Job                                                   | Categorical |\n",
    "| marital        | Marital Status| Categorical |\n",
    "| education      | Education Background                                       | Categorical |\n",
    "| default        | Does customer have credit in default               | Categorical |\n",
    "| housing        | Does customer have housing loan                                                                     | Categorical |\n",
    "| loan           | Does customer have personal loan\n",
    "| **Last Contact Details related to Campaign**                                                           | Categorical |\n",
    "| contact        | Communication type                                                              | Categorical |\n",
    "| month          | Last contact month                                                              | Categorical |\n",
    "| day_of_week          Last contact days of week                                                             | Categorical |\n",
    "| duration       |   Last contact duration                                                             | Int |\n",
    "| **Attributes**                                                           |\n",
    "| campaign        |  The gender of applicant                                                               | Int |\n",
    "| pdays        | number of contacts performed during this campaign and for this client                                                               | Int |\n",
    "| previous          | number of contacts performed before this campaign and for this client (numeric)                                                             | Int |\n",
    "| poutcome          | outcome of the previous marketing campaign                                                                | Categorical |\n",
    "| **Socio Economic Attr**                                                           |\n",
    "| emp.var.rate       | employment variation rate : Cylical employment variation is essentially the variation of how many people are being hired or fired due to the shifts in the conditions of the economy| Int|\n",
    "| cons.price.idx | consumer price index  :  measure of the average change over time in the prices paid by urban consumers for a market basket of consumer goods and services | Int|\n",
    "| cons.conf.idx | consumer confidence index :  that measures how optimistic or pessimistic consumers are regarding their expected financial situation | Int|\n",
    "| euribor3m | euribor 3 month rate - daily indicator :  serangkaian suku bunga referensi yang diterbitkan setiap hari oleh European Money Markets Institute | Int|\n",
    "| nr.employed | number of employees - quarterly indicator| Int|\n",
    "| y | Target Prediction | \n"
   ],
   "metadata": {}
  },
  {
   "cell_type": "markdown",
   "source": [
    "# D. Data Understanding"
   ],
   "metadata": {}
  },
  {
   "cell_type": "code",
   "execution_count": 93,
   "source": [
    "# Nanti semua import di masukin di awal aja"
   ],
   "outputs": [],
   "metadata": {}
  },
  {
   "cell_type": "code",
   "execution_count": 94,
   "source": [
    "# For Dataset handling\n",
    "import numpy as np\n",
    "import pandas as pd\n",
    "\n",
    "#For Correlation Checking\n",
    "import dython\n",
    "from dython.nominal import associations, cramers_v, correlation_ratio, theils_u\n",
    "\n",
    "# For Checking Distribution Data\n",
    "from scipy.stats import chisquare, kstest, normaltest\n",
    "\n",
    "# For Data Visualization\n",
    "import matplotlib.pyplot as plt\n",
    "import seaborn as sns\n",
    "\n",
    "import warnings\n",
    "warnings.filterwarnings(\"ignore\")"
   ],
   "outputs": [],
   "metadata": {}
  },
  {
   "cell_type": "code",
   "execution_count": 95,
   "source": [
    "df = pd.read_csv('bank-additional-full.csv', delimiter=\";\")"
   ],
   "outputs": [],
   "metadata": {}
  },
  {
   "cell_type": "code",
   "execution_count": 96,
   "source": [
    "pd.set_option('display.max_columns', None)"
   ],
   "outputs": [],
   "metadata": {}
  },
  {
   "cell_type": "code",
   "execution_count": 97,
   "source": [
    "df.head()"
   ],
   "outputs": [
    {
     "output_type": "execute_result",
     "data": {
      "text/html": [
       "<div>\n",
       "<style scoped>\n",
       "    .dataframe tbody tr th:only-of-type {\n",
       "        vertical-align: middle;\n",
       "    }\n",
       "\n",
       "    .dataframe tbody tr th {\n",
       "        vertical-align: top;\n",
       "    }\n",
       "\n",
       "    .dataframe thead th {\n",
       "        text-align: right;\n",
       "    }\n",
       "</style>\n",
       "<table border=\"1\" class=\"dataframe\">\n",
       "  <thead>\n",
       "    <tr style=\"text-align: right;\">\n",
       "      <th></th>\n",
       "      <th>age</th>\n",
       "      <th>job</th>\n",
       "      <th>marital</th>\n",
       "      <th>education</th>\n",
       "      <th>default</th>\n",
       "      <th>housing</th>\n",
       "      <th>loan</th>\n",
       "      <th>contact</th>\n",
       "      <th>month</th>\n",
       "      <th>day_of_week</th>\n",
       "      <th>duration</th>\n",
       "      <th>campaign</th>\n",
       "      <th>pdays</th>\n",
       "      <th>previous</th>\n",
       "      <th>poutcome</th>\n",
       "      <th>emp.var.rate</th>\n",
       "      <th>cons.price.idx</th>\n",
       "      <th>cons.conf.idx</th>\n",
       "      <th>euribor3m</th>\n",
       "      <th>nr.employed</th>\n",
       "      <th>y</th>\n",
       "    </tr>\n",
       "  </thead>\n",
       "  <tbody>\n",
       "    <tr>\n",
       "      <th>0</th>\n",
       "      <td>56</td>\n",
       "      <td>housemaid</td>\n",
       "      <td>married</td>\n",
       "      <td>basic.4y</td>\n",
       "      <td>no</td>\n",
       "      <td>no</td>\n",
       "      <td>no</td>\n",
       "      <td>telephone</td>\n",
       "      <td>may</td>\n",
       "      <td>mon</td>\n",
       "      <td>261</td>\n",
       "      <td>1</td>\n",
       "      <td>999</td>\n",
       "      <td>0</td>\n",
       "      <td>nonexistent</td>\n",
       "      <td>1.1</td>\n",
       "      <td>93.994</td>\n",
       "      <td>-36.4</td>\n",
       "      <td>4.857</td>\n",
       "      <td>5191.0</td>\n",
       "      <td>no</td>\n",
       "    </tr>\n",
       "    <tr>\n",
       "      <th>1</th>\n",
       "      <td>57</td>\n",
       "      <td>services</td>\n",
       "      <td>married</td>\n",
       "      <td>high.school</td>\n",
       "      <td>unknown</td>\n",
       "      <td>no</td>\n",
       "      <td>no</td>\n",
       "      <td>telephone</td>\n",
       "      <td>may</td>\n",
       "      <td>mon</td>\n",
       "      <td>149</td>\n",
       "      <td>1</td>\n",
       "      <td>999</td>\n",
       "      <td>0</td>\n",
       "      <td>nonexistent</td>\n",
       "      <td>1.1</td>\n",
       "      <td>93.994</td>\n",
       "      <td>-36.4</td>\n",
       "      <td>4.857</td>\n",
       "      <td>5191.0</td>\n",
       "      <td>no</td>\n",
       "    </tr>\n",
       "    <tr>\n",
       "      <th>2</th>\n",
       "      <td>37</td>\n",
       "      <td>services</td>\n",
       "      <td>married</td>\n",
       "      <td>high.school</td>\n",
       "      <td>no</td>\n",
       "      <td>yes</td>\n",
       "      <td>no</td>\n",
       "      <td>telephone</td>\n",
       "      <td>may</td>\n",
       "      <td>mon</td>\n",
       "      <td>226</td>\n",
       "      <td>1</td>\n",
       "      <td>999</td>\n",
       "      <td>0</td>\n",
       "      <td>nonexistent</td>\n",
       "      <td>1.1</td>\n",
       "      <td>93.994</td>\n",
       "      <td>-36.4</td>\n",
       "      <td>4.857</td>\n",
       "      <td>5191.0</td>\n",
       "      <td>no</td>\n",
       "    </tr>\n",
       "    <tr>\n",
       "      <th>3</th>\n",
       "      <td>40</td>\n",
       "      <td>admin.</td>\n",
       "      <td>married</td>\n",
       "      <td>basic.6y</td>\n",
       "      <td>no</td>\n",
       "      <td>no</td>\n",
       "      <td>no</td>\n",
       "      <td>telephone</td>\n",
       "      <td>may</td>\n",
       "      <td>mon</td>\n",
       "      <td>151</td>\n",
       "      <td>1</td>\n",
       "      <td>999</td>\n",
       "      <td>0</td>\n",
       "      <td>nonexistent</td>\n",
       "      <td>1.1</td>\n",
       "      <td>93.994</td>\n",
       "      <td>-36.4</td>\n",
       "      <td>4.857</td>\n",
       "      <td>5191.0</td>\n",
       "      <td>no</td>\n",
       "    </tr>\n",
       "    <tr>\n",
       "      <th>4</th>\n",
       "      <td>56</td>\n",
       "      <td>services</td>\n",
       "      <td>married</td>\n",
       "      <td>high.school</td>\n",
       "      <td>no</td>\n",
       "      <td>no</td>\n",
       "      <td>yes</td>\n",
       "      <td>telephone</td>\n",
       "      <td>may</td>\n",
       "      <td>mon</td>\n",
       "      <td>307</td>\n",
       "      <td>1</td>\n",
       "      <td>999</td>\n",
       "      <td>0</td>\n",
       "      <td>nonexistent</td>\n",
       "      <td>1.1</td>\n",
       "      <td>93.994</td>\n",
       "      <td>-36.4</td>\n",
       "      <td>4.857</td>\n",
       "      <td>5191.0</td>\n",
       "      <td>no</td>\n",
       "    </tr>\n",
       "  </tbody>\n",
       "</table>\n",
       "</div>"
      ],
      "text/plain": [
       "   age        job  marital    education  default housing loan    contact  \\\n",
       "0   56  housemaid  married     basic.4y       no      no   no  telephone   \n",
       "1   57   services  married  high.school  unknown      no   no  telephone   \n",
       "2   37   services  married  high.school       no     yes   no  telephone   \n",
       "3   40     admin.  married     basic.6y       no      no   no  telephone   \n",
       "4   56   services  married  high.school       no      no  yes  telephone   \n",
       "\n",
       "  month day_of_week  duration  campaign  pdays  previous     poutcome  \\\n",
       "0   may         mon       261         1    999         0  nonexistent   \n",
       "1   may         mon       149         1    999         0  nonexistent   \n",
       "2   may         mon       226         1    999         0  nonexistent   \n",
       "3   may         mon       151         1    999         0  nonexistent   \n",
       "4   may         mon       307         1    999         0  nonexistent   \n",
       "\n",
       "   emp.var.rate  cons.price.idx  cons.conf.idx  euribor3m  nr.employed   y  \n",
       "0           1.1          93.994          -36.4      4.857       5191.0  no  \n",
       "1           1.1          93.994          -36.4      4.857       5191.0  no  \n",
       "2           1.1          93.994          -36.4      4.857       5191.0  no  \n",
       "3           1.1          93.994          -36.4      4.857       5191.0  no  \n",
       "4           1.1          93.994          -36.4      4.857       5191.0  no  "
      ]
     },
     "metadata": {},
     "execution_count": 97
    }
   ],
   "metadata": {}
  },
  {
   "cell_type": "markdown",
   "source": [
    "## D.1. Checking Data Proportion"
   ],
   "metadata": {}
  },
  {
   "cell_type": "code",
   "execution_count": 98,
   "source": [
    "((df['y'].value_counts()/len(df))*100).round(2)"
   ],
   "outputs": [
    {
     "output_type": "execute_result",
     "data": {
      "text/plain": [
       "no     88.73\n",
       "yes    11.27\n",
       "Name: y, dtype: float64"
      ]
     },
     "metadata": {},
     "execution_count": 98
    }
   ],
   "metadata": {}
  },
  {
   "cell_type": "code",
   "execution_count": 99,
   "source": [
    "sizes = list(df['y'].value_counts().sort_values().values)\n",
    "labels = list(df['y'].value_counts().sort_values().index)\n",
    "\n",
    "explode = [0, 0.1]\n",
    "\n",
    "plt.figure(figsize=(6,6))\n",
    "plt.pie(sizes, labels=labels, explode = explode,\n",
    "        autopct=lambda p:f'{p:.2f}%')\n",
    "plt.title('Deposit Succeed', fontsize=25)\n",
    "plt.tight_layout()\n",
    "plt.show()"
   ],
   "outputs": [
    {
     "output_type": "display_data",
     "data": {
      "image/png": "[encoded data removed]",
      "text/plain": [
       "<Figure size 432x432 with 1 Axes>"
      ]
     },
     "metadata": {}
    }
   ],
   "metadata": {}
  },
  {
   "cell_type": "markdown",
   "source": [
    "We can see the data is imbalanced with proportion 88.73 % and 11.27 % for No and Yes anwers"
   ],
   "metadata": {}
  },
  {
   "cell_type": "markdown",
   "source": [
    "## D.2 Checking Distribution Data"
   ],
   "metadata": {}
  },
  {
   "cell_type": "code",
   "execution_count": 100,
   "source": [
    "cek = [\"age\", \"duration\", \"campaign\",\"pdays\",\"previous\",\"emp.var.rate\",\"cons.conf.idx\"]"
   ],
   "outputs": [],
   "metadata": {}
  },
  {
   "cell_type": "code",
   "execution_count": 101,
   "source": [
    "alpha = 0.05"
   ],
   "outputs": [],
   "metadata": {}
  },
  {
   "cell_type": "code",
   "execution_count": 102,
   "source": [
    "for i in cek:\n",
    "    print ([i])\n",
    "    a, b = normaltest(df[i])\n",
    "    print(\"statistic\", a, \"pvalue\", b)\n",
    "    if b < alpha :\n",
    "        print(\"Distribution not normal\")\n",
    "    else :\n",
    "        print(\"Distribution normal\")\n",
    "\n"
   ],
   "outputs": [
    {
     "output_type": "stream",
     "name": "stdout",
     "text": [
      "['age']\n",
      "statistic 3904.8876514999647 pvalue 0.0\n",
      "Distribution not normal\n",
      "['duration']\n",
      "statistic 30134.609343764896 pvalue 0.0\n",
      "Distribution not normal\n",
      "['campaign']\n",
      "statistic 40280.13051119697 pvalue 0.0\n",
      "Distribution not normal\n",
      "['pdays']\n",
      "statistic 38981.24259450561 pvalue 0.0\n",
      "Distribution not normal\n",
      "['previous']\n",
      "statistic 33221.4758498975 pvalue 0.0\n",
      "Distribution not normal\n",
      "['emp.var.rate']\n",
      "statistic 16401.626424804053 pvalue 0.0\n",
      "Distribution not normal\n",
      "['cons.conf.idx']\n",
      "statistic 936.3737615560685 pvalue 4.6668213776494045e-204\n",
      "Distribution not normal\n"
     ]
    }
   ],
   "metadata": {}
  },
  {
   "cell_type": "markdown",
   "source": [
    "## D.3 Checking Data Info and Statistical Data"
   ],
   "metadata": {}
  },
  {
   "cell_type": "code",
   "execution_count": 103,
   "source": [
    "df.info()"
   ],
   "outputs": [
    {
     "output_type": "stream",
     "name": "stdout",
     "text": [
      "<class 'pandas.core.frame.DataFrame'>\n",
      "RangeIndex: 41188 entries, 0 to 41187\n",
      "Data columns (total 21 columns):\n",
      " #   Column          Non-Null Count  Dtype  \n",
      "---  ------          --------------  -----  \n",
      " 0   age             41188 non-null  int64  \n",
      " 1   job             41188 non-null  object \n",
      " 2   marital         41188 non-null  object \n",
      " 3   education       41188 non-null  object \n",
      " 4   default         41188 non-null  object \n",
      " 5   housing         41188 non-null  object \n",
      " 6   loan            41188 non-null  object \n",
      " 7   contact         41188 non-null  object \n",
      " 8   month           41188 non-null  object \n",
      " 9   day_of_week     41188 non-null  object \n",
      " 10  duration        41188 non-null  int64  \n",
      " 11  campaign        41188 non-null  int64  \n",
      " 12  pdays           41188 non-null  int64  \n",
      " 13  previous        41188 non-null  int64  \n",
      " 14  poutcome        41188 non-null  object \n",
      " 15  emp.var.rate    41188 non-null  float64\n",
      " 16  cons.price.idx  41188 non-null  float64\n",
      " 17  cons.conf.idx   41188 non-null  float64\n",
      " 18  euribor3m       41188 non-null  float64\n",
      " 19  nr.employed     41188 non-null  float64\n",
      " 20  y               41188 non-null  object \n",
      "dtypes: float64(5), int64(5), object(11)\n",
      "memory usage: 6.6+ MB\n"
     ]
    }
   ],
   "metadata": {}
  },
  {
   "cell_type": "markdown",
   "source": [
    "**Statistical Data for Numerical Features**"
   ],
   "metadata": {}
  },
  {
   "cell_type": "code",
   "execution_count": 104,
   "source": [
    "df.describe().T"
   ],
   "outputs": [
    {
     "output_type": "execute_result",
     "data": {
      "text/html": [
       "<div>\n",
       "<style scoped>\n",
       "    .dataframe tbody tr th:only-of-type {\n",
       "        vertical-align: middle;\n",
       "    }\n",
       "\n",
       "    .dataframe tbody tr th {\n",
       "        vertical-align: top;\n",
       "    }\n",
       "\n",
       "    .dataframe thead th {\n",
       "        text-align: right;\n",
       "    }\n",
       "</style>\n",
       "<table border=\"1\" class=\"dataframe\">\n",
       "  <thead>\n",
       "    <tr style=\"text-align: right;\">\n",
       "      <th></th>\n",
       "      <th>count</th>\n",
       "      <th>mean</th>\n",
       "      <th>std</th>\n",
       "      <th>min</th>\n",
       "      <th>25%</th>\n",
       "      <th>50%</th>\n",
       "      <th>75%</th>\n",
       "      <th>max</th>\n",
       "    </tr>\n",
       "  </thead>\n",
       "  <tbody>\n",
       "    <tr>\n",
       "      <th>age</th>\n",
       "      <td>41188.0</td>\n",
       "      <td>40.024060</td>\n",
       "      <td>10.421250</td>\n",
       "      <td>17.000</td>\n",
       "      <td>32.000</td>\n",
       "      <td>38.000</td>\n",
       "      <td>47.000</td>\n",
       "      <td>98.000</td>\n",
       "    </tr>\n",
       "    <tr>\n",
       "      <th>duration</th>\n",
       "      <td>41188.0</td>\n",
       "      <td>258.285010</td>\n",
       "      <td>259.279249</td>\n",
       "      <td>0.000</td>\n",
       "      <td>102.000</td>\n",
       "      <td>180.000</td>\n",
       "      <td>319.000</td>\n",
       "      <td>4918.000</td>\n",
       "    </tr>\n",
       "    <tr>\n",
       "      <th>campaign</th>\n",
       "      <td>41188.0</td>\n",
       "      <td>2.567593</td>\n",
       "      <td>2.770014</td>\n",
       "      <td>1.000</td>\n",
       "      <td>1.000</td>\n",
       "      <td>2.000</td>\n",
       "      <td>3.000</td>\n",
       "      <td>56.000</td>\n",
       "    </tr>\n",
       "    <tr>\n",
       "      <th>pdays</th>\n",
       "      <td>41188.0</td>\n",
       "      <td>962.475454</td>\n",
       "      <td>186.910907</td>\n",
       "      <td>0.000</td>\n",
       "      <td>999.000</td>\n",
       "      <td>999.000</td>\n",
       "      <td>999.000</td>\n",
       "      <td>999.000</td>\n",
       "    </tr>\n",
       "    <tr>\n",
       "      <th>previous</th>\n",
       "      <td>41188.0</td>\n",
       "      <td>0.172963</td>\n",
       "      <td>0.494901</td>\n",
       "      <td>0.000</td>\n",
       "      <td>0.000</td>\n",
       "      <td>0.000</td>\n",
       "      <td>0.000</td>\n",
       "      <td>7.000</td>\n",
       "    </tr>\n",
       "    <tr>\n",
       "      <th>emp.var.rate</th>\n",
       "      <td>41188.0</td>\n",
       "      <td>0.081886</td>\n",
       "      <td>1.570960</td>\n",
       "      <td>-3.400</td>\n",
       "      <td>-1.800</td>\n",
       "      <td>1.100</td>\n",
       "      <td>1.400</td>\n",
       "      <td>1.400</td>\n",
       "    </tr>\n",
       "    <tr>\n",
       "      <th>cons.price.idx</th>\n",
       "      <td>41188.0</td>\n",
       "      <td>93.575664</td>\n",
       "      <td>0.578840</td>\n",
       "      <td>92.201</td>\n",
       "      <td>93.075</td>\n",
       "      <td>93.749</td>\n",
       "      <td>93.994</td>\n",
       "      <td>94.767</td>\n",
       "    </tr>\n",
       "    <tr>\n",
       "      <th>cons.conf.idx</th>\n",
       "      <td>41188.0</td>\n",
       "      <td>-40.502600</td>\n",
       "      <td>4.628198</td>\n",
       "      <td>-50.800</td>\n",
       "      <td>-42.700</td>\n",
       "      <td>-41.800</td>\n",
       "      <td>-36.400</td>\n",
       "      <td>-26.900</td>\n",
       "    </tr>\n",
       "    <tr>\n",
       "      <th>euribor3m</th>\n",
       "      <td>41188.0</td>\n",
       "      <td>3.621291</td>\n",
       "      <td>1.734447</td>\n",
       "      <td>0.634</td>\n",
       "      <td>1.344</td>\n",
       "      <td>4.857</td>\n",
       "      <td>4.961</td>\n",
       "      <td>5.045</td>\n",
       "    </tr>\n",
       "    <tr>\n",
       "      <th>nr.employed</th>\n",
       "      <td>41188.0</td>\n",
       "      <td>5167.035911</td>\n",
       "      <td>72.251528</td>\n",
       "      <td>4963.600</td>\n",
       "      <td>5099.100</td>\n",
       "      <td>5191.000</td>\n",
       "      <td>5228.100</td>\n",
       "      <td>5228.100</td>\n",
       "    </tr>\n",
       "  </tbody>\n",
       "</table>\n",
       "</div>"
      ],
      "text/plain": [
       "                  count         mean         std       min       25%  \\\n",
       "age             41188.0    40.024060   10.421250    17.000    32.000   \n",
       "duration        41188.0   258.285010  259.279249     0.000   102.000   \n",
       "campaign        41188.0     2.567593    2.770014     1.000     1.000   \n",
       "pdays           41188.0   962.475454  186.910907     0.000   999.000   \n",
       "previous        41188.0     0.172963    0.494901     0.000     0.000   \n",
       "emp.var.rate    41188.0     0.081886    1.570960    -3.400    -1.800   \n",
       "cons.price.idx  41188.0    93.575664    0.578840    92.201    93.075   \n",
       "cons.conf.idx   41188.0   -40.502600    4.628198   -50.800   -42.700   \n",
       "euribor3m       41188.0     3.621291    1.734447     0.634     1.344   \n",
       "nr.employed     41188.0  5167.035911   72.251528  4963.600  5099.100   \n",
       "\n",
       "                     50%       75%       max  \n",
       "age               38.000    47.000    98.000  \n",
       "duration         180.000   319.000  4918.000  \n",
       "campaign           2.000     3.000    56.000  \n",
       "pdays            999.000   999.000   999.000  \n",
       "previous           0.000     0.000     7.000  \n",
       "emp.var.rate       1.100     1.400     1.400  \n",
       "cons.price.idx    93.749    93.994    94.767  \n",
       "cons.conf.idx    -41.800   -36.400   -26.900  \n",
       "euribor3m          4.857     4.961     5.045  \n",
       "nr.employed     5191.000  5228.100  5228.100  "
      ]
     },
     "metadata": {},
     "execution_count": 104
    }
   ],
   "metadata": {}
  },
  {
   "cell_type": "markdown",
   "source": [
    "**Statistical Data for Categorical Features**"
   ],
   "metadata": {}
  },
  {
   "cell_type": "code",
   "execution_count": 105,
   "source": [
    "df.describe(include = 'object').T"
   ],
   "outputs": [
    {
     "output_type": "execute_result",
     "data": {
      "text/html": [
       "<div>\n",
       "<style scoped>\n",
       "    .dataframe tbody tr th:only-of-type {\n",
       "        vertical-align: middle;\n",
       "    }\n",
       "\n",
       "    .dataframe tbody tr th {\n",
       "        vertical-align: top;\n",
       "    }\n",
       "\n",
       "    .dataframe thead th {\n",
       "        text-align: right;\n",
       "    }\n",
       "</style>\n",
       "<table border=\"1\" class=\"dataframe\">\n",
       "  <thead>\n",
       "    <tr style=\"text-align: right;\">\n",
       "      <th></th>\n",
       "      <th>count</th>\n",
       "      <th>unique</th>\n",
       "      <th>top</th>\n",
       "      <th>freq</th>\n",
       "    </tr>\n",
       "  </thead>\n",
       "  <tbody>\n",
       "    <tr>\n",
       "      <th>job</th>\n",
       "      <td>41188</td>\n",
       "      <td>12</td>\n",
       "      <td>admin.</td>\n",
       "      <td>10422</td>\n",
       "    </tr>\n",
       "    <tr>\n",
       "      <th>marital</th>\n",
       "      <td>41188</td>\n",
       "      <td>4</td>\n",
       "      <td>married</td>\n",
       "      <td>24928</td>\n",
       "    </tr>\n",
       "    <tr>\n",
       "      <th>education</th>\n",
       "      <td>41188</td>\n",
       "      <td>8</td>\n",
       "      <td>university.degree</td>\n",
       "      <td>12168</td>\n",
       "    </tr>\n",
       "    <tr>\n",
       "      <th>default</th>\n",
       "      <td>41188</td>\n",
       "      <td>3</td>\n",
       "      <td>no</td>\n",
       "      <td>32588</td>\n",
       "    </tr>\n",
       "    <tr>\n",
       "      <th>housing</th>\n",
       "      <td>41188</td>\n",
       "      <td>3</td>\n",
       "      <td>yes</td>\n",
       "      <td>21576</td>\n",
       "    </tr>\n",
       "    <tr>\n",
       "      <th>loan</th>\n",
       "      <td>41188</td>\n",
       "      <td>3</td>\n",
       "      <td>no</td>\n",
       "      <td>33950</td>\n",
       "    </tr>\n",
       "    <tr>\n",
       "      <th>contact</th>\n",
       "      <td>41188</td>\n",
       "      <td>2</td>\n",
       "      <td>cellular</td>\n",
       "      <td>26144</td>\n",
       "    </tr>\n",
       "    <tr>\n",
       "      <th>month</th>\n",
       "      <td>41188</td>\n",
       "      <td>10</td>\n",
       "      <td>may</td>\n",
       "      <td>13769</td>\n",
       "    </tr>\n",
       "    <tr>\n",
       "      <th>day_of_week</th>\n",
       "      <td>41188</td>\n",
       "      <td>5</td>\n",
       "      <td>thu</td>\n",
       "      <td>8623</td>\n",
       "    </tr>\n",
       "    <tr>\n",
       "      <th>poutcome</th>\n",
       "      <td>41188</td>\n",
       "      <td>3</td>\n",
       "      <td>nonexistent</td>\n",
       "      <td>35563</td>\n",
       "    </tr>\n",
       "    <tr>\n",
       "      <th>y</th>\n",
       "      <td>41188</td>\n",
       "      <td>2</td>\n",
       "      <td>no</td>\n",
       "      <td>36548</td>\n",
       "    </tr>\n",
       "  </tbody>\n",
       "</table>\n",
       "</div>"
      ],
      "text/plain": [
       "             count unique                top   freq\n",
       "job          41188     12             admin.  10422\n",
       "marital      41188      4            married  24928\n",
       "education    41188      8  university.degree  12168\n",
       "default      41188      3                 no  32588\n",
       "housing      41188      3                yes  21576\n",
       "loan         41188      3                 no  33950\n",
       "contact      41188      2           cellular  26144\n",
       "month        41188     10                may  13769\n",
       "day_of_week  41188      5                thu   8623\n",
       "poutcome     41188      3        nonexistent  35563\n",
       "y            41188      2                 no  36548"
      ]
     },
     "metadata": {},
     "execution_count": 105
    }
   ],
   "metadata": {}
  },
  {
   "cell_type": "code",
   "execution_count": 106,
   "source": [
    "dataDesc= []\n",
    "\n",
    "for i in df.columns:\n",
    "    dataDesc.append([\n",
    "        i, \n",
    "        df[i].dtypes,\n",
    "        df[i].isna().sum(),\n",
    "        round((((df[i].isna().sum()) / len(df)) * 100),2),\n",
    "        df[i].nunique(),\n",
    "        df[i].sample(20).drop_duplicates().values\n",
    "    ])\n",
    "pd.DataFrame(dataDesc, columns=[\n",
    "    \"Data features\", \n",
    "    \"Data types\",\n",
    "    \"Null\",\n",
    "    \"Null Percentage\",\n",
    "    \"Unique\",\n",
    "    \"Unique Sample\"\n",
    "])"
   ],
   "outputs": [
    {
     "output_type": "execute_result",
     "data": {
      "text/html": [
       "<div>\n",
       "<style scoped>\n",
       "    .dataframe tbody tr th:only-of-type {\n",
       "        vertical-align: middle;\n",
       "    }\n",
       "\n",
       "    .dataframe tbody tr th {\n",
       "        vertical-align: top;\n",
       "    }\n",
       "\n",
       "    .dataframe thead th {\n",
       "        text-align: right;\n",
       "    }\n",
       "</style>\n",
       "<table border=\"1\" class=\"dataframe\">\n",
       "  <thead>\n",
       "    <tr style=\"text-align: right;\">\n",
       "      <th></th>\n",
       "      <th>Data features</th>\n",
       "      <th>Data types</th>\n",
       "      <th>Null</th>\n",
       "      <th>Null Percentage</th>\n",
       "      <th>Unique</th>\n",
       "      <th>Unique Sample</th>\n",
       "    </tr>\n",
       "  </thead>\n",
       "  <tbody>\n",
       "    <tr>\n",
       "      <th>0</th>\n",
       "      <td>age</td>\n",
       "      <td>int64</td>\n",
       "      <td>0</td>\n",
       "      <td>0.0</td>\n",
       "      <td>78</td>\n",
       "      <td>[44, 32, 33, 53, 29, 42, 31, 59, 35, 52, 38, 7...</td>\n",
       "    </tr>\n",
       "    <tr>\n",
       "      <th>1</th>\n",
       "      <td>job</td>\n",
       "      <td>object</td>\n",
       "      <td>0</td>\n",
       "      <td>0.0</td>\n",
       "      <td>12</td>\n",
       "      <td>[entrepreneur, services, blue-collar, admin., ...</td>\n",
       "    </tr>\n",
       "    <tr>\n",
       "      <th>2</th>\n",
       "      <td>marital</td>\n",
       "      <td>object</td>\n",
       "      <td>0</td>\n",
       "      <td>0.0</td>\n",
       "      <td>4</td>\n",
       "      <td>[single, married, divorced]</td>\n",
       "    </tr>\n",
       "    <tr>\n",
       "      <th>3</th>\n",
       "      <td>education</td>\n",
       "      <td>object</td>\n",
       "      <td>0</td>\n",
       "      <td>0.0</td>\n",
       "      <td>8</td>\n",
       "      <td>[basic.6y, basic.9y, professional.course, high...</td>\n",
       "    </tr>\n",
       "    <tr>\n",
       "      <th>4</th>\n",
       "      <td>default</td>\n",
       "      <td>object</td>\n",
       "      <td>0</td>\n",
       "      <td>0.0</td>\n",
       "      <td>3</td>\n",
       "      <td>[no, unknown]</td>\n",
       "    </tr>\n",
       "    <tr>\n",
       "      <th>5</th>\n",
       "      <td>housing</td>\n",
       "      <td>object</td>\n",
       "      <td>0</td>\n",
       "      <td>0.0</td>\n",
       "      <td>3</td>\n",
       "      <td>[yes, no]</td>\n",
       "    </tr>\n",
       "    <tr>\n",
       "      <th>6</th>\n",
       "      <td>loan</td>\n",
       "      <td>object</td>\n",
       "      <td>0</td>\n",
       "      <td>0.0</td>\n",
       "      <td>3</td>\n",
       "      <td>[no, yes, unknown]</td>\n",
       "    </tr>\n",
       "    <tr>\n",
       "      <th>7</th>\n",
       "      <td>contact</td>\n",
       "      <td>object</td>\n",
       "      <td>0</td>\n",
       "      <td>0.0</td>\n",
       "      <td>2</td>\n",
       "      <td>[telephone, cellular]</td>\n",
       "    </tr>\n",
       "    <tr>\n",
       "      <th>8</th>\n",
       "      <td>month</td>\n",
       "      <td>object</td>\n",
       "      <td>0</td>\n",
       "      <td>0.0</td>\n",
       "      <td>10</td>\n",
       "      <td>[jul, oct, apr, jun, aug, may, nov]</td>\n",
       "    </tr>\n",
       "    <tr>\n",
       "      <th>9</th>\n",
       "      <td>day_of_week</td>\n",
       "      <td>object</td>\n",
       "      <td>0</td>\n",
       "      <td>0.0</td>\n",
       "      <td>5</td>\n",
       "      <td>[mon, wed, fri, tue, thu]</td>\n",
       "    </tr>\n",
       "    <tr>\n",
       "      <th>10</th>\n",
       "      <td>duration</td>\n",
       "      <td>int64</td>\n",
       "      <td>0</td>\n",
       "      <td>0.0</td>\n",
       "      <td>1544</td>\n",
       "      <td>[11, 182, 309, 107, 390, 702, 1139, 58, 352, 2...</td>\n",
       "    </tr>\n",
       "    <tr>\n",
       "      <th>11</th>\n",
       "      <td>campaign</td>\n",
       "      <td>int64</td>\n",
       "      <td>0</td>\n",
       "      <td>0.0</td>\n",
       "      <td>42</td>\n",
       "      <td>[1, 6, 2, 3, 4]</td>\n",
       "    </tr>\n",
       "    <tr>\n",
       "      <th>12</th>\n",
       "      <td>pdays</td>\n",
       "      <td>int64</td>\n",
       "      <td>0</td>\n",
       "      <td>0.0</td>\n",
       "      <td>27</td>\n",
       "      <td>[999, 13]</td>\n",
       "    </tr>\n",
       "    <tr>\n",
       "      <th>13</th>\n",
       "      <td>previous</td>\n",
       "      <td>int64</td>\n",
       "      <td>0</td>\n",
       "      <td>0.0</td>\n",
       "      <td>8</td>\n",
       "      <td>[0, 2, 1]</td>\n",
       "    </tr>\n",
       "    <tr>\n",
       "      <th>14</th>\n",
       "      <td>poutcome</td>\n",
       "      <td>object</td>\n",
       "      <td>0</td>\n",
       "      <td>0.0</td>\n",
       "      <td>3</td>\n",
       "      <td>[nonexistent, failure, success]</td>\n",
       "    </tr>\n",
       "    <tr>\n",
       "      <th>15</th>\n",
       "      <td>emp.var.rate</td>\n",
       "      <td>float64</td>\n",
       "      <td>0</td>\n",
       "      <td>0.0</td>\n",
       "      <td>10</td>\n",
       "      <td>[1.4, -1.8, -2.9, 1.1, -3.4]</td>\n",
       "    </tr>\n",
       "    <tr>\n",
       "      <th>16</th>\n",
       "      <td>cons.price.idx</td>\n",
       "      <td>float64</td>\n",
       "      <td>0</td>\n",
       "      <td>0.0</td>\n",
       "      <td>26</td>\n",
       "      <td>[93.918, 94.465, 93.994, 93.2, 92.893, 93.075,...</td>\n",
       "    </tr>\n",
       "    <tr>\n",
       "      <th>17</th>\n",
       "      <td>cons.conf.idx</td>\n",
       "      <td>float64</td>\n",
       "      <td>0</td>\n",
       "      <td>0.0</td>\n",
       "      <td>26</td>\n",
       "      <td>[-42.0, -36.1, -40.4, -36.4, -41.8, -34.8, -46...</td>\n",
       "    </tr>\n",
       "    <tr>\n",
       "      <th>18</th>\n",
       "      <td>euribor3m</td>\n",
       "      <td>float64</td>\n",
       "      <td>0</td>\n",
       "      <td>0.0</td>\n",
       "      <td>316</td>\n",
       "      <td>[4.96, 1.344, 4.859, 1.313, 1.405, 4.962, 4.96...</td>\n",
       "    </tr>\n",
       "    <tr>\n",
       "      <th>19</th>\n",
       "      <td>nr.employed</td>\n",
       "      <td>float64</td>\n",
       "      <td>0</td>\n",
       "      <td>0.0</td>\n",
       "      <td>11</td>\n",
       "      <td>[5191.0, 4963.6, 5099.1, 5228.1, 5017.5, 5195....</td>\n",
       "    </tr>\n",
       "    <tr>\n",
       "      <th>20</th>\n",
       "      <td>y</td>\n",
       "      <td>object</td>\n",
       "      <td>0</td>\n",
       "      <td>0.0</td>\n",
       "      <td>2</td>\n",
       "      <td>[no, yes]</td>\n",
       "    </tr>\n",
       "  </tbody>\n",
       "</table>\n",
       "</div>"
      ],
      "text/plain": [
       "     Data features Data types  Null  Null Percentage  Unique  \\\n",
       "0              age      int64     0              0.0      78   \n",
       "1              job     object     0              0.0      12   \n",
       "2          marital     object     0              0.0       4   \n",
       "3        education     object     0              0.0       8   \n",
       "4          default     object     0              0.0       3   \n",
       "5          housing     object     0              0.0       3   \n",
       "6             loan     object     0              0.0       3   \n",
       "7          contact     object     0              0.0       2   \n",
       "8            month     object     0              0.0      10   \n",
       "9      day_of_week     object     0              0.0       5   \n",
       "10        duration      int64     0              0.0    1544   \n",
       "11        campaign      int64     0              0.0      42   \n",
       "12           pdays      int64     0              0.0      27   \n",
       "13        previous      int64     0              0.0       8   \n",
       "14        poutcome     object     0              0.0       3   \n",
       "15    emp.var.rate    float64     0              0.0      10   \n",
       "16  cons.price.idx    float64     0              0.0      26   \n",
       "17   cons.conf.idx    float64     0              0.0      26   \n",
       "18       euribor3m    float64     0              0.0     316   \n",
       "19     nr.employed    float64     0              0.0      11   \n",
       "20               y     object     0              0.0       2   \n",
       "\n",
       "                                        Unique Sample  \n",
       "0   [44, 32, 33, 53, 29, 42, 31, 59, 35, 52, 38, 7...  \n",
       "1   [entrepreneur, services, blue-collar, admin., ...  \n",
       "2                         [single, married, divorced]  \n",
       "3   [basic.6y, basic.9y, professional.course, high...  \n",
       "4                                       [no, unknown]  \n",
       "5                                           [yes, no]  \n",
       "6                                  [no, yes, unknown]  \n",
       "7                               [telephone, cellular]  \n",
       "8                 [jul, oct, apr, jun, aug, may, nov]  \n",
       "9                           [mon, wed, fri, tue, thu]  \n",
       "10  [11, 182, 309, 107, 390, 702, 1139, 58, 352, 2...  \n",
       "11                                    [1, 6, 2, 3, 4]  \n",
       "12                                          [999, 13]  \n",
       "13                                          [0, 2, 1]  \n",
       "14                    [nonexistent, failure, success]  \n",
       "15                       [1.4, -1.8, -2.9, 1.1, -3.4]  \n",
       "16  [93.918, 94.465, 93.994, 93.2, 92.893, 93.075,...  \n",
       "17  [-42.0, -36.1, -40.4, -36.4, -41.8, -34.8, -46...  \n",
       "18  [4.96, 1.344, 4.859, 1.313, 1.405, 4.962, 4.96...  \n",
       "19  [5191.0, 4963.6, 5099.1, 5228.1, 5017.5, 5195....  \n",
       "20                                          [no, yes]  "
      ]
     },
     "metadata": {},
     "execution_count": 106
    }
   ],
   "metadata": {}
  },
  {
   "cell_type": "markdown",
   "source": [
    "- From numerical descriptive result : \n",
    "    - \"campaign\", \"age\" and \"cons.conf.idx\" features having big differences between Q3 (75%) and max value. We need to check further this outliers in the boxplot and scatterplot\n",
    "    - duration will be dropped as it has higher correlation with the result of the campaign as we will not know how long the duration will be before the telemarketing team performed the call.\n",
    "- From categorical descriptive result :\n",
    "    - there is unknown data for features : job ,marital ,education ,default, housing, loan. We will treat this unkown as missing value and we will fill in with modus value (higher frequency of each feature)\n",
    "    - day_of_week features shows that previous calls are held during weekdays\n",
    "    - month features hows that previous calls are not hold in January and February "
   ],
   "metadata": {}
  },
  {
   "cell_type": "markdown",
   "source": [
    "# E. Data Cleaning"
   ],
   "metadata": {}
  },
  {
   "cell_type": "markdown",
   "source": [
    "## E.1 check duplicate values"
   ],
   "metadata": {}
  },
  {
   "cell_type": "code",
   "execution_count": 107,
   "source": [
    "df[df.duplicated()]"
   ],
   "outputs": [
    {
     "output_type": "execute_result",
     "data": {
      "text/html": [
       "<div>\n",
       "<style scoped>\n",
       "    .dataframe tbody tr th:only-of-type {\n",
       "        vertical-align: middle;\n",
       "    }\n",
       "\n",
       "    .dataframe tbody tr th {\n",
       "        vertical-align: top;\n",
       "    }\n",
       "\n",
       "    .dataframe thead th {\n",
       "        text-align: right;\n",
       "    }\n",
       "</style>\n",
       "<table border=\"1\" class=\"dataframe\">\n",
       "  <thead>\n",
       "    <tr style=\"text-align: right;\">\n",
       "      <th></th>\n",
       "      <th>age</th>\n",
       "      <th>job</th>\n",
       "      <th>marital</th>\n",
       "      <th>education</th>\n",
       "      <th>default</th>\n",
       "      <th>housing</th>\n",
       "      <th>loan</th>\n",
       "      <th>contact</th>\n",
       "      <th>month</th>\n",
       "      <th>day_of_week</th>\n",
       "      <th>duration</th>\n",
       "      <th>campaign</th>\n",
       "      <th>pdays</th>\n",
       "      <th>previous</th>\n",
       "      <th>poutcome</th>\n",
       "      <th>emp.var.rate</th>\n",
       "      <th>cons.price.idx</th>\n",
       "      <th>cons.conf.idx</th>\n",
       "      <th>euribor3m</th>\n",
       "      <th>nr.employed</th>\n",
       "      <th>y</th>\n",
       "    </tr>\n",
       "  </thead>\n",
       "  <tbody>\n",
       "    <tr>\n",
       "      <th>1266</th>\n",
       "      <td>39</td>\n",
       "      <td>blue-collar</td>\n",
       "      <td>married</td>\n",
       "      <td>basic.6y</td>\n",
       "      <td>no</td>\n",
       "      <td>no</td>\n",
       "      <td>no</td>\n",
       "      <td>telephone</td>\n",
       "      <td>may</td>\n",
       "      <td>thu</td>\n",
       "      <td>124</td>\n",
       "      <td>1</td>\n",
       "      <td>999</td>\n",
       "      <td>0</td>\n",
       "      <td>nonexistent</td>\n",
       "      <td>1.1</td>\n",
       "      <td>93.994</td>\n",
       "      <td>-36.4</td>\n",
       "      <td>4.855</td>\n",
       "      <td>5191.0</td>\n",
       "      <td>no</td>\n",
       "    </tr>\n",
       "    <tr>\n",
       "      <th>12261</th>\n",
       "      <td>36</td>\n",
       "      <td>retired</td>\n",
       "      <td>married</td>\n",
       "      <td>unknown</td>\n",
       "      <td>no</td>\n",
       "      <td>no</td>\n",
       "      <td>no</td>\n",
       "      <td>telephone</td>\n",
       "      <td>jul</td>\n",
       "      <td>thu</td>\n",
       "      <td>88</td>\n",
       "      <td>1</td>\n",
       "      <td>999</td>\n",
       "      <td>0</td>\n",
       "      <td>nonexistent</td>\n",
       "      <td>1.4</td>\n",
       "      <td>93.918</td>\n",
       "      <td>-42.7</td>\n",
       "      <td>4.966</td>\n",
       "      <td>5228.1</td>\n",
       "      <td>no</td>\n",
       "    </tr>\n",
       "    <tr>\n",
       "      <th>14234</th>\n",
       "      <td>27</td>\n",
       "      <td>technician</td>\n",
       "      <td>single</td>\n",
       "      <td>professional.course</td>\n",
       "      <td>no</td>\n",
       "      <td>no</td>\n",
       "      <td>no</td>\n",
       "      <td>cellular</td>\n",
       "      <td>jul</td>\n",
       "      <td>mon</td>\n",
       "      <td>331</td>\n",
       "      <td>2</td>\n",
       "      <td>999</td>\n",
       "      <td>0</td>\n",
       "      <td>nonexistent</td>\n",
       "      <td>1.4</td>\n",
       "      <td>93.918</td>\n",
       "      <td>-42.7</td>\n",
       "      <td>4.962</td>\n",
       "      <td>5228.1</td>\n",
       "      <td>no</td>\n",
       "    </tr>\n",
       "    <tr>\n",
       "      <th>16956</th>\n",
       "      <td>47</td>\n",
       "      <td>technician</td>\n",
       "      <td>divorced</td>\n",
       "      <td>high.school</td>\n",
       "      <td>no</td>\n",
       "      <td>yes</td>\n",
       "      <td>no</td>\n",
       "      <td>cellular</td>\n",
       "      <td>jul</td>\n",
       "      <td>thu</td>\n",
       "      <td>43</td>\n",
       "      <td>3</td>\n",
       "      <td>999</td>\n",
       "      <td>0</td>\n",
       "      <td>nonexistent</td>\n",
       "      <td>1.4</td>\n",
       "      <td>93.918</td>\n",
       "      <td>-42.7</td>\n",
       "      <td>4.962</td>\n",
       "      <td>5228.1</td>\n",
       "      <td>no</td>\n",
       "    </tr>\n",
       "    <tr>\n",
       "      <th>18465</th>\n",
       "      <td>32</td>\n",
       "      <td>technician</td>\n",
       "      <td>single</td>\n",
       "      <td>professional.course</td>\n",
       "      <td>no</td>\n",
       "      <td>yes</td>\n",
       "      <td>no</td>\n",
       "      <td>cellular</td>\n",
       "      <td>jul</td>\n",
       "      <td>thu</td>\n",
       "      <td>128</td>\n",
       "      <td>1</td>\n",
       "      <td>999</td>\n",
       "      <td>0</td>\n",
       "      <td>nonexistent</td>\n",
       "      <td>1.4</td>\n",
       "      <td>93.918</td>\n",
       "      <td>-42.7</td>\n",
       "      <td>4.968</td>\n",
       "      <td>5228.1</td>\n",
       "      <td>no</td>\n",
       "    </tr>\n",
       "    <tr>\n",
       "      <th>20216</th>\n",
       "      <td>55</td>\n",
       "      <td>services</td>\n",
       "      <td>married</td>\n",
       "      <td>high.school</td>\n",
       "      <td>unknown</td>\n",
       "      <td>no</td>\n",
       "      <td>no</td>\n",
       "      <td>cellular</td>\n",
       "      <td>aug</td>\n",
       "      <td>mon</td>\n",
       "      <td>33</td>\n",
       "      <td>1</td>\n",
       "      <td>999</td>\n",
       "      <td>0</td>\n",
       "      <td>nonexistent</td>\n",
       "      <td>1.4</td>\n",
       "      <td>93.444</td>\n",
       "      <td>-36.1</td>\n",
       "      <td>4.965</td>\n",
       "      <td>5228.1</td>\n",
       "      <td>no</td>\n",
       "    </tr>\n",
       "    <tr>\n",
       "      <th>20534</th>\n",
       "      <td>41</td>\n",
       "      <td>technician</td>\n",
       "      <td>married</td>\n",
       "      <td>professional.course</td>\n",
       "      <td>no</td>\n",
       "      <td>yes</td>\n",
       "      <td>no</td>\n",
       "      <td>cellular</td>\n",
       "      <td>aug</td>\n",
       "      <td>tue</td>\n",
       "      <td>127</td>\n",
       "      <td>1</td>\n",
       "      <td>999</td>\n",
       "      <td>0</td>\n",
       "      <td>nonexistent</td>\n",
       "      <td>1.4</td>\n",
       "      <td>93.444</td>\n",
       "      <td>-36.1</td>\n",
       "      <td>4.966</td>\n",
       "      <td>5228.1</td>\n",
       "      <td>no</td>\n",
       "    </tr>\n",
       "    <tr>\n",
       "      <th>25217</th>\n",
       "      <td>39</td>\n",
       "      <td>admin.</td>\n",
       "      <td>married</td>\n",
       "      <td>university.degree</td>\n",
       "      <td>no</td>\n",
       "      <td>no</td>\n",
       "      <td>no</td>\n",
       "      <td>cellular</td>\n",
       "      <td>nov</td>\n",
       "      <td>tue</td>\n",
       "      <td>123</td>\n",
       "      <td>2</td>\n",
       "      <td>999</td>\n",
       "      <td>0</td>\n",
       "      <td>nonexistent</td>\n",
       "      <td>-0.1</td>\n",
       "      <td>93.200</td>\n",
       "      <td>-42.0</td>\n",
       "      <td>4.153</td>\n",
       "      <td>5195.8</td>\n",
       "      <td>no</td>\n",
       "    </tr>\n",
       "    <tr>\n",
       "      <th>28477</th>\n",
       "      <td>24</td>\n",
       "      <td>services</td>\n",
       "      <td>single</td>\n",
       "      <td>high.school</td>\n",
       "      <td>no</td>\n",
       "      <td>yes</td>\n",
       "      <td>no</td>\n",
       "      <td>cellular</td>\n",
       "      <td>apr</td>\n",
       "      <td>tue</td>\n",
       "      <td>114</td>\n",
       "      <td>1</td>\n",
       "      <td>999</td>\n",
       "      <td>0</td>\n",
       "      <td>nonexistent</td>\n",
       "      <td>-1.8</td>\n",
       "      <td>93.075</td>\n",
       "      <td>-47.1</td>\n",
       "      <td>1.423</td>\n",
       "      <td>5099.1</td>\n",
       "      <td>no</td>\n",
       "    </tr>\n",
       "    <tr>\n",
       "      <th>32516</th>\n",
       "      <td>35</td>\n",
       "      <td>admin.</td>\n",
       "      <td>married</td>\n",
       "      <td>university.degree</td>\n",
       "      <td>no</td>\n",
       "      <td>yes</td>\n",
       "      <td>no</td>\n",
       "      <td>cellular</td>\n",
       "      <td>may</td>\n",
       "      <td>fri</td>\n",
       "      <td>348</td>\n",
       "      <td>4</td>\n",
       "      <td>999</td>\n",
       "      <td>0</td>\n",
       "      <td>nonexistent</td>\n",
       "      <td>-1.8</td>\n",
       "      <td>92.893</td>\n",
       "      <td>-46.2</td>\n",
       "      <td>1.313</td>\n",
       "      <td>5099.1</td>\n",
       "      <td>no</td>\n",
       "    </tr>\n",
       "    <tr>\n",
       "      <th>36951</th>\n",
       "      <td>45</td>\n",
       "      <td>admin.</td>\n",
       "      <td>married</td>\n",
       "      <td>university.degree</td>\n",
       "      <td>no</td>\n",
       "      <td>no</td>\n",
       "      <td>no</td>\n",
       "      <td>cellular</td>\n",
       "      <td>jul</td>\n",
       "      <td>thu</td>\n",
       "      <td>252</td>\n",
       "      <td>1</td>\n",
       "      <td>999</td>\n",
       "      <td>0</td>\n",
       "      <td>nonexistent</td>\n",
       "      <td>-2.9</td>\n",
       "      <td>92.469</td>\n",
       "      <td>-33.6</td>\n",
       "      <td>1.072</td>\n",
       "      <td>5076.2</td>\n",
       "      <td>yes</td>\n",
       "    </tr>\n",
       "    <tr>\n",
       "      <th>38281</th>\n",
       "      <td>71</td>\n",
       "      <td>retired</td>\n",
       "      <td>single</td>\n",
       "      <td>university.degree</td>\n",
       "      <td>no</td>\n",
       "      <td>no</td>\n",
       "      <td>no</td>\n",
       "      <td>telephone</td>\n",
       "      <td>oct</td>\n",
       "      <td>tue</td>\n",
       "      <td>120</td>\n",
       "      <td>1</td>\n",
       "      <td>999</td>\n",
       "      <td>0</td>\n",
       "      <td>nonexistent</td>\n",
       "      <td>-3.4</td>\n",
       "      <td>92.431</td>\n",
       "      <td>-26.9</td>\n",
       "      <td>0.742</td>\n",
       "      <td>5017.5</td>\n",
       "      <td>no</td>\n",
       "    </tr>\n",
       "  </tbody>\n",
       "</table>\n",
       "</div>"
      ],
      "text/plain": [
       "       age          job   marital            education  default housing loan  \\\n",
       "1266    39  blue-collar   married             basic.6y       no      no   no   \n",
       "12261   36      retired   married              unknown       no      no   no   \n",
       "14234   27   technician    single  professional.course       no      no   no   \n",
       "16956   47   technician  divorced          high.school       no     yes   no   \n",
       "18465   32   technician    single  professional.course       no     yes   no   \n",
       "20216   55     services   married          high.school  unknown      no   no   \n",
       "20534   41   technician   married  professional.course       no     yes   no   \n",
       "25217   39       admin.   married    university.degree       no      no   no   \n",
       "28477   24     services    single          high.school       no     yes   no   \n",
       "32516   35       admin.   married    university.degree       no     yes   no   \n",
       "36951   45       admin.   married    university.degree       no      no   no   \n",
       "38281   71      retired    single    university.degree       no      no   no   \n",
       "\n",
       "         contact month day_of_week  duration  campaign  pdays  previous  \\\n",
       "1266   telephone   may         thu       124         1    999         0   \n",
       "12261  telephone   jul         thu        88         1    999         0   \n",
       "14234   cellular   jul         mon       331         2    999         0   \n",
       "16956   cellular   jul         thu        43         3    999         0   \n",
       "18465   cellular   jul         thu       128         1    999         0   \n",
       "20216   cellular   aug         mon        33         1    999         0   \n",
       "20534   cellular   aug         tue       127         1    999         0   \n",
       "25217   cellular   nov         tue       123         2    999         0   \n",
       "28477   cellular   apr         tue       114         1    999         0   \n",
       "32516   cellular   may         fri       348         4    999         0   \n",
       "36951   cellular   jul         thu       252         1    999         0   \n",
       "38281  telephone   oct         tue       120         1    999         0   \n",
       "\n",
       "          poutcome  emp.var.rate  cons.price.idx  cons.conf.idx  euribor3m  \\\n",
       "1266   nonexistent           1.1          93.994          -36.4      4.855   \n",
       "12261  nonexistent           1.4          93.918          -42.7      4.966   \n",
       "14234  nonexistent           1.4          93.918          -42.7      4.962   \n",
       "16956  nonexistent           1.4          93.918          -42.7      4.962   \n",
       "18465  nonexistent           1.4          93.918          -42.7      4.968   \n",
       "20216  nonexistent           1.4          93.444          -36.1      4.965   \n",
       "20534  nonexistent           1.4          93.444          -36.1      4.966   \n",
       "25217  nonexistent          -0.1          93.200          -42.0      4.153   \n",
       "28477  nonexistent          -1.8          93.075          -47.1      1.423   \n",
       "32516  nonexistent          -1.8          92.893          -46.2      1.313   \n",
       "36951  nonexistent          -2.9          92.469          -33.6      1.072   \n",
       "38281  nonexistent          -3.4          92.431          -26.9      0.742   \n",
       "\n",
       "       nr.employed    y  \n",
       "1266        5191.0   no  \n",
       "12261       5228.1   no  \n",
       "14234       5228.1   no  \n",
       "16956       5228.1   no  \n",
       "18465       5228.1   no  \n",
       "20216       5228.1   no  \n",
       "20534       5228.1   no  \n",
       "25217       5195.8   no  \n",
       "28477       5099.1   no  \n",
       "32516       5099.1   no  \n",
       "36951       5076.2  yes  \n",
       "38281       5017.5   no  "
      ]
     },
     "metadata": {},
     "execution_count": 107
    }
   ],
   "metadata": {}
  },
  {
   "cell_type": "code",
   "execution_count": 108,
   "source": [
    "df.drop_duplicates(keep='first',inplace=True)\n",
    "df.info()"
   ],
   "outputs": [
    {
     "output_type": "stream",
     "name": "stdout",
     "text": [
      "<class 'pandas.core.frame.DataFrame'>\n",
      "Int64Index: 41176 entries, 0 to 41187\n",
      "Data columns (total 21 columns):\n",
      " #   Column          Non-Null Count  Dtype  \n",
      "---  ------          --------------  -----  \n",
      " 0   age             41176 non-null  int64  \n",
      " 1   job             41176 non-null  object \n",
      " 2   marital         41176 non-null  object \n",
      " 3   education       41176 non-null  object \n",
      " 4   default         41176 non-null  object \n",
      " 5   housing         41176 non-null  object \n",
      " 6   loan            41176 non-null  object \n",
      " 7   contact         41176 non-null  object \n",
      " 8   month           41176 non-null  object \n",
      " 9   day_of_week     41176 non-null  object \n",
      " 10  duration        41176 non-null  int64  \n",
      " 11  campaign        41176 non-null  int64  \n",
      " 12  pdays           41176 non-null  int64  \n",
      " 13  previous        41176 non-null  int64  \n",
      " 14  poutcome        41176 non-null  object \n",
      " 15  emp.var.rate    41176 non-null  float64\n",
      " 16  cons.price.idx  41176 non-null  float64\n",
      " 17  cons.conf.idx   41176 non-null  float64\n",
      " 18  euribor3m       41176 non-null  float64\n",
      " 19  nr.employed     41176 non-null  float64\n",
      " 20  y               41176 non-null  object \n",
      "dtypes: float64(5), int64(5), object(11)\n",
      "memory usage: 6.9+ MB\n"
     ]
    }
   ],
   "metadata": {}
  },
  {
   "cell_type": "markdown",
   "source": [
    "## E.2 Handling Missing Value"
   ],
   "metadata": {}
  },
  {
   "cell_type": "code",
   "execution_count": 109,
   "source": [
    "for column in ['job','marital','education','default', 'housing', 'loan']:\n",
    "    df[column] = df[column].replace('unknown', np.NaN)"
   ],
   "outputs": [],
   "metadata": {}
  },
  {
   "cell_type": "code",
   "execution_count": 110,
   "source": [
    "df.isna().sum()"
   ],
   "outputs": [
    {
     "output_type": "execute_result",
     "data": {
      "text/plain": [
       "age                  0\n",
       "job                330\n",
       "marital             80\n",
       "education         1730\n",
       "default           8596\n",
       "housing            990\n",
       "loan               990\n",
       "contact              0\n",
       "month                0\n",
       "day_of_week          0\n",
       "duration             0\n",
       "campaign             0\n",
       "pdays                0\n",
       "previous             0\n",
       "poutcome             0\n",
       "emp.var.rate         0\n",
       "cons.price.idx       0\n",
       "cons.conf.idx        0\n",
       "euribor3m            0\n",
       "nr.employed          0\n",
       "y                    0\n",
       "dtype: int64"
      ]
     },
     "metadata": {},
     "execution_count": 110
    }
   ],
   "metadata": {}
  },
  {
   "cell_type": "code",
   "execution_count": 111,
   "source": [
    "for column in ['job','marital','education','default', 'housing', 'loan']:\n",
    "    df[column].fillna(df[column].mode()[0], inplace=True)"
   ],
   "outputs": [],
   "metadata": {}
  },
  {
   "cell_type": "code",
   "execution_count": 112,
   "source": [
    "df.isna().sum()"
   ],
   "outputs": [
    {
     "output_type": "execute_result",
     "data": {
      "text/plain": [
       "age               0\n",
       "job               0\n",
       "marital           0\n",
       "education         0\n",
       "default           0\n",
       "housing           0\n",
       "loan              0\n",
       "contact           0\n",
       "month             0\n",
       "day_of_week       0\n",
       "duration          0\n",
       "campaign          0\n",
       "pdays             0\n",
       "previous          0\n",
       "poutcome          0\n",
       "emp.var.rate      0\n",
       "cons.price.idx    0\n",
       "cons.conf.idx     0\n",
       "euribor3m         0\n",
       "nr.employed       0\n",
       "y                 0\n",
       "dtype: int64"
      ]
     },
     "metadata": {},
     "execution_count": 112
    }
   ],
   "metadata": {}
  },
  {
   "cell_type": "markdown",
   "source": [
    "# E. Data Correlation and Outliers"
   ],
   "metadata": {}
  },
  {
   "cell_type": "markdown",
   "source": [
    "we need to check the correlation of each features towards label 'y'. Besides, doing correlation checking for Feature Selection and EDA, this also would help to decide how to handle it if there is outliers"
   ],
   "metadata": {}
  },
  {
   "cell_type": "markdown",
   "source": [
    "## E.1 Correlation Crammers V"
   ],
   "metadata": {}
  },
  {
   "cell_type": "markdown",
   "source": [
    "Cramér's V is a number between 0 and 1 that indicates how strongly two categorical variables are associated"
   ],
   "metadata": {}
  },
  {
   "cell_type": "code",
   "execution_count": 113,
   "source": [
    "# Crammers V\n",
    "categorical = df.select_dtypes('object').columns.to_list()\n",
    "\n",
    "assoc_cramers = []\n",
    "for i in  categorical:\n",
    "    assoc = round(cramers_v(df['y'], df[i]),2)\n",
    "    assoc_cramers.append(assoc)"
   ],
   "outputs": [],
   "metadata": {}
  },
  {
   "cell_type": "code",
   "execution_count": 114,
   "source": [
    "df_cramers_v = pd.DataFrame(data=[assoc_cramers], columns=categorical, index=['y'])"
   ],
   "outputs": [],
   "metadata": {}
  },
  {
   "cell_type": "code",
   "execution_count": 115,
   "source": [
    "plt.figure(figsize = (13,1))\n",
    "sns.heatmap(df_cramers_v, cbar = False, annot=True)"
   ],
   "outputs": [
    {
     "output_type": "execute_result",
     "data": {
      "text/plain": [
       "<AxesSubplot:>"
      ]
     },
     "metadata": {},
     "execution_count": 115
    },
    {
     "output_type": "display_data",
     "data": {
      "image/png": "[encoded data removed]",
      "text/plain": [
       "<Figure size 936x72 with 1 Axes>"
      ]
     },
     "metadata": {
      "needs_background": "light"
     }
    }
   ],
   "metadata": {}
  },
  {
   "cell_type": "markdown",
   "source": [
    "## E.2 Correlation Ratio"
   ],
   "metadata": {}
  },
  {
   "cell_type": "markdown",
   "source": [
    "the correlation ratio is a measure of the curvilinear relationship between the statistical dispersion within individual categories"
   ],
   "metadata": {}
  },
  {
   "cell_type": "code",
   "execution_count": 116,
   "source": [
    "numerical = df.select_dtypes(['int64', 'float64']).columns.to_list()\n",
    "\n",
    "assoc_corratio = []\n",
    "for i in  numerical:\n",
    "    assoc = round(correlation_ratio(df['y'], df[i]),2)\n",
    "    assoc_corratio.append(assoc)"
   ],
   "outputs": [],
   "metadata": {}
  },
  {
   "cell_type": "code",
   "execution_count": 117,
   "source": [
    "numerical"
   ],
   "outputs": [
    {
     "output_type": "execute_result",
     "data": {
      "text/plain": [
       "['age',\n",
       " 'duration',\n",
       " 'campaign',\n",
       " 'pdays',\n",
       " 'previous',\n",
       " 'emp.var.rate',\n",
       " 'cons.price.idx',\n",
       " 'cons.conf.idx',\n",
       " 'euribor3m',\n",
       " 'nr.employed']"
      ]
     },
     "metadata": {},
     "execution_count": 117
    }
   ],
   "metadata": {}
  },
  {
   "cell_type": "code",
   "execution_count": 118,
   "source": [
    "df_corr_ratio = pd.DataFrame(data=[assoc_corratio], columns=numerical, index=['y'])"
   ],
   "outputs": [],
   "metadata": {}
  },
  {
   "cell_type": "code",
   "execution_count": 119,
   "source": [
    "plt.figure(figsize = (13,1))\n",
    "sns.heatmap(df_corr_ratio, cbar = False, annot=True)"
   ],
   "outputs": [
    {
     "output_type": "execute_result",
     "data": {
      "text/plain": [
       "<AxesSubplot:>"
      ]
     },
     "metadata": {},
     "execution_count": 119
    },
    {
     "output_type": "display_data",
     "data": {
      "image/png": "[encoded data removed]",
      "text/plain": [
       "<Figure size 936x72 with 1 Axes>"
      ]
     },
     "metadata": {
      "needs_background": "light"
     }
    }
   ],
   "metadata": {}
  },
  {
   "cell_type": "markdown",
   "source": [
    "## E.3 Handling Outliers"
   ],
   "metadata": {}
  },
  {
   "cell_type": "markdown",
   "source": [
    "### Finding outliers"
   ],
   "metadata": {}
  },
  {
   "cell_type": "markdown",
   "source": [
    "- From result in statistical data (point D.3), we checked outliers for Age, Campaign and cons.conf.idx features\n",
    "- From correlation ratio, we got correlation value for Age and Campaign as much as 0.03 and 0.07 accordingly."
   ],
   "metadata": {}
  },
  {
   "cell_type": "markdown",
   "source": [
    "### 1. Age"
   ],
   "metadata": {}
  },
  {
   "cell_type": "code",
   "execution_count": 120,
   "source": [
    "plt.figure(figsize=(12,8))\n",
    "sns.boxplot(data=df, x=\"age\", hue='y')\n",
    "\n",
    "plt.show()"
   ],
   "outputs": [
    {
     "output_type": "display_data",
     "data": {
      "image/png": "[encoded data removed]",
      "text/plain": [
       "<Figure size 864x576 with 1 Axes>"
      ]
     },
     "metadata": {
      "needs_background": "light"
     }
    }
   ],
   "metadata": {}
  },
  {
   "cell_type": "markdown",
   "source": [
    "After knowing the outliers of age features, we need to know how diverse age outliers towards \"job\" features because \"job\" features has the highest crammers v correlation score and it might be impacted if we remove the outliers"
   ],
   "metadata": {}
  },
  {
   "cell_type": "code",
   "execution_count": 121,
   "source": [
    "plt.figure(figsize=(12,8))\n",
    "sns.boxplot(data=df, x=\"age\", y=\"job\", hue='y')"
   ],
   "outputs": [
    {
     "output_type": "execute_result",
     "data": {
      "text/plain": [
       "<AxesSubplot:xlabel='age', ylabel='job'>"
      ]
     },
     "metadata": {},
     "execution_count": 121
    },
    {
     "output_type": "display_data",
     "data": {
      "image/png": "[encoded data removed]",
      "text/plain": [
       "<Figure size 864x576 with 1 Axes>"
      ]
     },
     "metadata": {
      "needs_background": "light"
     }
    }
   ],
   "metadata": {}
  },
  {
   "cell_type": "code",
   "execution_count": 122,
   "source": [
    "#df_out_age.info()"
   ],
   "outputs": [],
   "metadata": {}
  },
  {
   "cell_type": "code",
   "execution_count": 123,
   "source": [
    "# Checking whether removing outliers will impact on Job crammer's v correlation\n",
    "out_age = ['age'] # one or more\n",
    "\n",
    "Q1 = df[out_age].quantile(0.25)\n",
    "Q3 = df[out_age].quantile(0.75)\n",
    "IQR = Q3 - Q1\n",
    "\n",
    "# remove outliers on age and store in new data frame\n",
    "df_out = df[~((df[out_age] < (Q1 - 1.5 * IQR)) |(df[out_age] > (Q3 + 1.5 * IQR))).any(axis=1)]"
   ],
   "outputs": [],
   "metadata": {}
  },
  {
   "cell_type": "code",
   "execution_count": 124,
   "source": [
    "df_cramers_v = pd.DataFrame(data=[assoc_cramers], columns=categorical, index=['y'])"
   ],
   "outputs": [],
   "metadata": {}
  },
  {
   "cell_type": "code",
   "execution_count": 125,
   "source": [
    "plt.figure(figsize = (13,1))\n",
    "sns.heatmap(df_cramers_v, cbar = False, annot=True)"
   ],
   "outputs": [
    {
     "output_type": "execute_result",
     "data": {
      "text/plain": [
       "<AxesSubplot:>"
      ]
     },
     "metadata": {},
     "execution_count": 125
    },
    {
     "output_type": "display_data",
     "data": {
      "image/png": "[encoded data removed]",
      "text/plain": [
       "<Figure size 936x72 with 1 Axes>"
      ]
     },
     "metadata": {
      "needs_background": "light"
     }
    }
   ],
   "metadata": {}
  },
  {
   "cell_type": "markdown",
   "source": [
    "We could see that job crammer's v correlation is decrease if we remove age outliers. Thus, we're NOT removing outliers in \"age\" features"
   ],
   "metadata": {}
  },
  {
   "cell_type": "markdown",
   "source": [
    "### 2. Campaign"
   ],
   "metadata": {}
  },
  {
   "cell_type": "code",
   "execution_count": 126,
   "source": [
    "plt.figure(figsize=(12,8))\n",
    "sns.boxplot(data=df, x=\"campaign\", hue='y')\n",
    "\n",
    "plt.show()"
   ],
   "outputs": [
    {
     "output_type": "display_data",
     "data": {
      "image/png": "[encoded data removed]",
      "text/plain": [
       "<Figure size 864x576 with 1 Axes>"
      ]
     },
     "metadata": {
      "needs_background": "light"
     }
    }
   ],
   "metadata": {}
  },
  {
   "cell_type": "markdown",
   "source": [
    "### 3. cons.conf.idx"
   ],
   "metadata": {}
  },
  {
   "cell_type": "code",
   "execution_count": 127,
   "source": [
    "plt.figure(figsize=(12,8))\n",
    "sns.boxplot(data=df, x=\"cons.conf.idx\", hue='y')\n",
    "\n",
    "plt.show()"
   ],
   "outputs": [
    {
     "output_type": "display_data",
     "data": {
      "image/png": "[encoded data removed]",
      "text/plain": [
       "<Figure size 864x576 with 1 Axes>"
      ]
     },
     "metadata": {
      "needs_background": "light"
     }
    }
   ],
   "metadata": {}
  },
  {
   "cell_type": "code",
   "execution_count": 128,
   "source": [
    "plt.figure(figsize=(12,8))\n",
    "sns.boxplot(data=df, x=\"cons.conf.idx\", y=\"job\", hue='y')"
   ],
   "outputs": [
    {
     "output_type": "execute_result",
     "data": {
      "text/plain": [
       "<AxesSubplot:xlabel='cons.conf.idx', ylabel='job'>"
      ]
     },
     "metadata": {},
     "execution_count": 128
    },
    {
     "output_type": "display_data",
     "data": {
      "image/png": "[encoded data removed]",
      "text/plain": [
       "<Figure size 864x576 with 1 Axes>"
      ]
     },
     "metadata": {
      "needs_background": "light"
     }
    }
   ],
   "metadata": {}
  },
  {
   "cell_type": "code",
   "execution_count": 129,
   "source": [
    "# Checking whether removing outliers will impact on Job crammer's v correlation\n",
    "out = ['cons.conf.idx'] # one or more\n",
    "\n",
    "Q1 = df[out].quantile(0.25)\n",
    "Q3 = df[out].quantile(0.75)\n",
    "IQR = Q3 - Q1\n",
    "\n",
    "# remove outliers on age and store in new data frame\n",
    "df_out = df[~((df[out] < (Q1 - 1.5 * IQR)) |(df[out] > (Q3 + 1.5 * IQR))).any(axis=1)]"
   ],
   "outputs": [],
   "metadata": {}
  },
  {
   "cell_type": "code",
   "execution_count": 130,
   "source": [
    "df_cramers_v = pd.DataFrame(data=[assoc_cramers], columns=categorical, index=['y'])"
   ],
   "outputs": [],
   "metadata": {}
  },
  {
   "cell_type": "code",
   "execution_count": 131,
   "source": [
    "plt.figure(figsize = (13,1))\n",
    "sns.heatmap(df_cramers_v, cbar = False, annot=True)"
   ],
   "outputs": [
    {
     "output_type": "execute_result",
     "data": {
      "text/plain": [
       "<AxesSubplot:>"
      ]
     },
     "metadata": {},
     "execution_count": 131
    },
    {
     "output_type": "display_data",
     "data": {
      "image/png": "[encoded data removed]",
      "text/plain": [
       "<Figure size 936x72 with 1 Axes>"
      ]
     },
     "metadata": {
      "needs_background": "light"
     }
    }
   ],
   "metadata": {}
  },
  {
   "cell_type": "code",
   "execution_count": 132,
   "source": [
    "# Crammers V\n",
    "categorical = df_out.select_dtypes('object').columns.to_list()\n",
    "\n",
    "assoc_cramers = []\n",
    "for i in  categorical:\n",
    "    assoc = round(cramers_v(df_out['y'], df_out[i]),2)\n",
    "    assoc_cramers.append(assoc)"
   ],
   "outputs": [],
   "metadata": {}
  },
  {
   "cell_type": "markdown",
   "source": [
    "We could see that job crammer's v correlation is decrease if we remove cons.conf.idx outliers. Thus, we're NOT removing outliers in \"cons.conf.idx\" features"
   ],
   "metadata": {}
  },
  {
   "cell_type": "markdown",
   "source": [
    "# F. Exploratory Data Analysis"
   ],
   "metadata": {}
  },
  {
   "cell_type": "code",
   "execution_count": 133,
   "source": [
    "## checking data pattern of each column "
   ],
   "outputs": [],
   "metadata": {}
  },
  {
   "cell_type": "code",
   "execution_count": 134,
   "source": [
    "df['y'] = df['y'].apply(lambda y: 1 if y == 'yes' else 0)"
   ],
   "outputs": [],
   "metadata": {}
  },
  {
   "cell_type": "markdown",
   "source": [
    "## Which customer age group is the most targeted on previous campaign  ?"
   ],
   "metadata": {}
  },
  {
   "cell_type": "markdown",
   "source": [
    "We categorize age into 3 groups :\n",
    "16 - 31 = Young Adult\n",
    "32 - 46 = Productive Adult\n",
    "47 - 100 = Elderly"
   ],
   "metadata": {}
  },
  {
   "cell_type": "code",
   "execution_count": 135,
   "source": [
    "bin_age = [16, 32, 47, 100]\n",
    "label_age = ['Young Adult', 'Productive Adult', 'Elderly']"
   ],
   "outputs": [],
   "metadata": {}
  },
  {
   "cell_type": "code",
   "execution_count": 136,
   "source": [
    "df['age_group'] = pd.cut(df['age'], bins=bin_age, labels=label_age)"
   ],
   "outputs": [],
   "metadata": {}
  },
  {
   "cell_type": "code",
   "execution_count": 137,
   "source": [
    "df['age_group'].value_counts()"
   ],
   "outputs": [
    {
     "output_type": "execute_result",
     "data": {
      "text/plain": [
       "Productive Adult    20132\n",
       "Young Adult         11173\n",
       "Elderly              9871\n",
       "Name: age_group, dtype: int64"
      ]
     },
     "metadata": {},
     "execution_count": 137
    }
   ],
   "metadata": {}
  },
  {
   "cell_type": "code",
   "execution_count": 138,
   "source": [
    "df.head()"
   ],
   "outputs": [
    {
     "output_type": "execute_result",
     "data": {
      "text/html": [
       "<div>\n",
       "<style scoped>\n",
       "    .dataframe tbody tr th:only-of-type {\n",
       "        vertical-align: middle;\n",
       "    }\n",
       "\n",
       "    .dataframe tbody tr th {\n",
       "        vertical-align: top;\n",
       "    }\n",
       "\n",
       "    .dataframe thead th {\n",
       "        text-align: right;\n",
       "    }\n",
       "</style>\n",
       "<table border=\"1\" class=\"dataframe\">\n",
       "  <thead>\n",
       "    <tr style=\"text-align: right;\">\n",
       "      <th></th>\n",
       "      <th>age</th>\n",
       "      <th>job</th>\n",
       "      <th>marital</th>\n",
       "      <th>education</th>\n",
       "      <th>default</th>\n",
       "      <th>housing</th>\n",
       "      <th>loan</th>\n",
       "      <th>contact</th>\n",
       "      <th>month</th>\n",
       "      <th>day_of_week</th>\n",
       "      <th>duration</th>\n",
       "      <th>campaign</th>\n",
       "      <th>pdays</th>\n",
       "      <th>previous</th>\n",
       "      <th>poutcome</th>\n",
       "      <th>emp.var.rate</th>\n",
       "      <th>cons.price.idx</th>\n",
       "      <th>cons.conf.idx</th>\n",
       "      <th>euribor3m</th>\n",
       "      <th>nr.employed</th>\n",
       "      <th>y</th>\n",
       "      <th>age_group</th>\n",
       "    </tr>\n",
       "  </thead>\n",
       "  <tbody>\n",
       "    <tr>\n",
       "      <th>0</th>\n",
       "      <td>56</td>\n",
       "      <td>housemaid</td>\n",
       "      <td>married</td>\n",
       "      <td>basic.4y</td>\n",
       "      <td>no</td>\n",
       "      <td>no</td>\n",
       "      <td>no</td>\n",
       "      <td>telephone</td>\n",
       "      <td>may</td>\n",
       "      <td>mon</td>\n",
       "      <td>261</td>\n",
       "      <td>1</td>\n",
       "      <td>999</td>\n",
       "      <td>0</td>\n",
       "      <td>nonexistent</td>\n",
       "      <td>1.1</td>\n",
       "      <td>93.994</td>\n",
       "      <td>-36.4</td>\n",
       "      <td>4.857</td>\n",
       "      <td>5191.0</td>\n",
       "      <td>0</td>\n",
       "      <td>Elderly</td>\n",
       "    </tr>\n",
       "    <tr>\n",
       "      <th>1</th>\n",
       "      <td>57</td>\n",
       "      <td>services</td>\n",
       "      <td>married</td>\n",
       "      <td>high.school</td>\n",
       "      <td>no</td>\n",
       "      <td>no</td>\n",
       "      <td>no</td>\n",
       "      <td>telephone</td>\n",
       "      <td>may</td>\n",
       "      <td>mon</td>\n",
       "      <td>149</td>\n",
       "      <td>1</td>\n",
       "      <td>999</td>\n",
       "      <td>0</td>\n",
       "      <td>nonexistent</td>\n",
       "      <td>1.1</td>\n",
       "      <td>93.994</td>\n",
       "      <td>-36.4</td>\n",
       "      <td>4.857</td>\n",
       "      <td>5191.0</td>\n",
       "      <td>0</td>\n",
       "      <td>Elderly</td>\n",
       "    </tr>\n",
       "    <tr>\n",
       "      <th>2</th>\n",
       "      <td>37</td>\n",
       "      <td>services</td>\n",
       "      <td>married</td>\n",
       "      <td>high.school</td>\n",
       "      <td>no</td>\n",
       "      <td>yes</td>\n",
       "      <td>no</td>\n",
       "      <td>telephone</td>\n",
       "      <td>may</td>\n",
       "      <td>mon</td>\n",
       "      <td>226</td>\n",
       "      <td>1</td>\n",
       "      <td>999</td>\n",
       "      <td>0</td>\n",
       "      <td>nonexistent</td>\n",
       "      <td>1.1</td>\n",
       "      <td>93.994</td>\n",
       "      <td>-36.4</td>\n",
       "      <td>4.857</td>\n",
       "      <td>5191.0</td>\n",
       "      <td>0</td>\n",
       "      <td>Productive Adult</td>\n",
       "    </tr>\n",
       "    <tr>\n",
       "      <th>3</th>\n",
       "      <td>40</td>\n",
       "      <td>admin.</td>\n",
       "      <td>married</td>\n",
       "      <td>basic.6y</td>\n",
       "      <td>no</td>\n",
       "      <td>no</td>\n",
       "      <td>no</td>\n",
       "      <td>telephone</td>\n",
       "      <td>may</td>\n",
       "      <td>mon</td>\n",
       "      <td>151</td>\n",
       "      <td>1</td>\n",
       "      <td>999</td>\n",
       "      <td>0</td>\n",
       "      <td>nonexistent</td>\n",
       "      <td>1.1</td>\n",
       "      <td>93.994</td>\n",
       "      <td>-36.4</td>\n",
       "      <td>4.857</td>\n",
       "      <td>5191.0</td>\n",
       "      <td>0</td>\n",
       "      <td>Productive Adult</td>\n",
       "    </tr>\n",
       "    <tr>\n",
       "      <th>4</th>\n",
       "      <td>56</td>\n",
       "      <td>services</td>\n",
       "      <td>married</td>\n",
       "      <td>high.school</td>\n",
       "      <td>no</td>\n",
       "      <td>no</td>\n",
       "      <td>yes</td>\n",
       "      <td>telephone</td>\n",
       "      <td>may</td>\n",
       "      <td>mon</td>\n",
       "      <td>307</td>\n",
       "      <td>1</td>\n",
       "      <td>999</td>\n",
       "      <td>0</td>\n",
       "      <td>nonexistent</td>\n",
       "      <td>1.1</td>\n",
       "      <td>93.994</td>\n",
       "      <td>-36.4</td>\n",
       "      <td>4.857</td>\n",
       "      <td>5191.0</td>\n",
       "      <td>0</td>\n",
       "      <td>Elderly</td>\n",
       "    </tr>\n",
       "  </tbody>\n",
       "</table>\n",
       "</div>"
      ],
      "text/plain": [
       "   age        job  marital    education default housing loan    contact month  \\\n",
       "0   56  housemaid  married     basic.4y      no      no   no  telephone   may   \n",
       "1   57   services  married  high.school      no      no   no  telephone   may   \n",
       "2   37   services  married  high.school      no     yes   no  telephone   may   \n",
       "3   40     admin.  married     basic.6y      no      no   no  telephone   may   \n",
       "4   56   services  married  high.school      no      no  yes  telephone   may   \n",
       "\n",
       "  day_of_week  duration  campaign  pdays  previous     poutcome  emp.var.rate  \\\n",
       "0         mon       261         1    999         0  nonexistent           1.1   \n",
       "1         mon       149         1    999         0  nonexistent           1.1   \n",
       "2         mon       226         1    999         0  nonexistent           1.1   \n",
       "3         mon       151         1    999         0  nonexistent           1.1   \n",
       "4         mon       307         1    999         0  nonexistent           1.1   \n",
       "\n",
       "   cons.price.idx  cons.conf.idx  euribor3m  nr.employed  y         age_group  \n",
       "0          93.994          -36.4      4.857       5191.0  0           Elderly  \n",
       "1          93.994          -36.4      4.857       5191.0  0           Elderly  \n",
       "2          93.994          -36.4      4.857       5191.0  0  Productive Adult  \n",
       "3          93.994          -36.4      4.857       5191.0  0  Productive Adult  \n",
       "4          93.994          -36.4      4.857       5191.0  0           Elderly  "
      ]
     },
     "metadata": {},
     "execution_count": 138
    }
   ],
   "metadata": {}
  },
  {
   "cell_type": "code",
   "execution_count": 139,
   "source": [
    "plt.figure(figsize=(15, 8))\n",
    "sns.countplot(x=df[\"age_group\"],hue=df[\"y\"], data=df, palette='mako')\n",
    "plt.title('Age Group Comparison')\n",
    "plt.show()"
   ],
   "outputs": [
    {
     "output_type": "display_data",
     "data": {
      "image/png": "[encoded data removed]",
      "text/plain": [
       "<Figure size 1080x576 with 1 Axes>"
      ]
     },
     "metadata": {
      "needs_background": "light"
     }
    }
   ],
   "metadata": {}
  },
  {
   "cell_type": "code",
   "execution_count": 140,
   "source": [
    "age = ((pd.crosstab(index= df[\"age_group\"], columns= df[\"y\"], normalize=\"columns\"))*100).round(2)\n",
    "age\n",
    "age.sort_values(1,ascending=False)"
   ],
   "outputs": [
    {
     "output_type": "execute_result",
     "data": {
      "text/html": [
       "<div>\n",
       "<style scoped>\n",
       "    .dataframe tbody tr th:only-of-type {\n",
       "        vertical-align: middle;\n",
       "    }\n",
       "\n",
       "    .dataframe tbody tr th {\n",
       "        vertical-align: top;\n",
       "    }\n",
       "\n",
       "    .dataframe thead th {\n",
       "        text-align: right;\n",
       "    }\n",
       "</style>\n",
       "<table border=\"1\" class=\"dataframe\">\n",
       "  <thead>\n",
       "    <tr style=\"text-align: right;\">\n",
       "      <th>y</th>\n",
       "      <th>0</th>\n",
       "      <th>1</th>\n",
       "    </tr>\n",
       "    <tr>\n",
       "      <th>age_group</th>\n",
       "      <th></th>\n",
       "      <th></th>\n",
       "    </tr>\n",
       "  </thead>\n",
       "  <tbody>\n",
       "    <tr>\n",
       "      <th>Productive Adult</th>\n",
       "      <td>50.2</td>\n",
       "      <td>38.59</td>\n",
       "    </tr>\n",
       "    <tr>\n",
       "      <th>Young Adult</th>\n",
       "      <td>26.4</td>\n",
       "      <td>32.94</td>\n",
       "    </tr>\n",
       "    <tr>\n",
       "      <th>Elderly</th>\n",
       "      <td>23.4</td>\n",
       "      <td>28.48</td>\n",
       "    </tr>\n",
       "  </tbody>\n",
       "</table>\n",
       "</div>"
      ],
      "text/plain": [
       "y                    0      1\n",
       "age_group                    \n",
       "Productive Adult  50.2  38.59\n",
       "Young Adult       26.4  32.94\n",
       "Elderly           23.4  28.48"
      ]
     },
     "metadata": {},
     "execution_count": 140
    }
   ],
   "metadata": {}
  },
  {
   "cell_type": "markdown",
   "source": [
    "Age_group Adult have the highest percentage of customer (87.41%) agree to open the term deposit."
   ],
   "metadata": {}
  },
  {
   "cell_type": "markdown",
   "source": [
    "## Does marital status impact on decision opening term deposit ?"
   ],
   "metadata": {}
  },
  {
   "cell_type": "code",
   "execution_count": 141,
   "source": [
    "df['marital'].value_counts()"
   ],
   "outputs": [
    {
     "output_type": "execute_result",
     "data": {
      "text/plain": [
       "married     25001\n",
       "single      11564\n",
       "divorced     4611\n",
       "Name: marital, dtype: int64"
      ]
     },
     "metadata": {},
     "execution_count": 141
    }
   ],
   "metadata": {}
  },
  {
   "cell_type": "code",
   "execution_count": 142,
   "source": [
    "df['Marital_Status'] =  df['marital'].map({'married' : 'married','single': 'not married','divorced':'not married'})"
   ],
   "outputs": [],
   "metadata": {}
  },
  {
   "cell_type": "code",
   "execution_count": 143,
   "source": [
    "df['Marital_Status'].value_counts()"
   ],
   "outputs": [
    {
     "output_type": "execute_result",
     "data": {
      "text/plain": [
       "married        25001\n",
       "not married    16175\n",
       "Name: Marital_Status, dtype: int64"
      ]
     },
     "metadata": {},
     "execution_count": 143
    }
   ],
   "metadata": {}
  },
  {
   "cell_type": "code",
   "execution_count": 144,
   "source": [
    "plt.figure(figsize=(15, 8))\n",
    "sns.countplot(x=df[\"Marital_Status\"],hue=df[\"y\"], data=df, palette='mako')\n",
    "plt.title('Job Campaign Comparison')\n",
    "plt.show()"
   ],
   "outputs": [
    {
     "output_type": "display_data",
     "data": {
      "image/png": "[encoded data removed]",
      "text/plain": [
       "<Figure size 1080x576 with 1 Axes>"
      ]
     },
     "metadata": {
      "needs_background": "light"
     }
    }
   ],
   "metadata": {}
  },
  {
   "cell_type": "code",
   "execution_count": 145,
   "source": [
    "Marital = ((pd.crosstab(index= df[\"Marital_Status\"], columns= df[\"y\"], normalize=\"columns\"))*100).round(2)\n",
    "Marital.sort_values(1,ascending=False)"
   ],
   "outputs": [
    {
     "output_type": "execute_result",
     "data": {
      "text/html": [
       "<div>\n",
       "<style scoped>\n",
       "    .dataframe tbody tr th:only-of-type {\n",
       "        vertical-align: middle;\n",
       "    }\n",
       "\n",
       "    .dataframe tbody tr th {\n",
       "        vertical-align: top;\n",
       "    }\n",
       "\n",
       "    .dataframe thead th {\n",
       "        text-align: right;\n",
       "    }\n",
       "</style>\n",
       "<table border=\"1\" class=\"dataframe\">\n",
       "  <thead>\n",
       "    <tr style=\"text-align: right;\">\n",
       "      <th>y</th>\n",
       "      <th>0</th>\n",
       "      <th>1</th>\n",
       "    </tr>\n",
       "    <tr>\n",
       "      <th>Marital_Status</th>\n",
       "      <th></th>\n",
       "      <th></th>\n",
       "    </tr>\n",
       "  </thead>\n",
       "  <tbody>\n",
       "    <tr>\n",
       "      <th>married</th>\n",
       "      <td>61.47</td>\n",
       "      <td>54.82</td>\n",
       "    </tr>\n",
       "    <tr>\n",
       "      <th>not married</th>\n",
       "      <td>38.53</td>\n",
       "      <td>45.18</td>\n",
       "    </tr>\n",
       "  </tbody>\n",
       "</table>\n",
       "</div>"
      ],
      "text/plain": [
       "y                   0      1\n",
       "Marital_Status              \n",
       "married         61.47  54.82\n",
       "not married     38.53  45.18"
      ]
     },
     "metadata": {},
     "execution_count": 145
    }
   ],
   "metadata": {}
  },
  {
   "cell_type": "markdown",
   "source": [
    "Married people tend to opening the deposit with the percentage of 54.83%"
   ],
   "metadata": {}
  },
  {
   "cell_type": "markdown",
   "source": [],
   "metadata": {}
  },
  {
   "cell_type": "markdown",
   "source": [
    "## Which job type tend to open the term deposit ?"
   ],
   "metadata": {}
  },
  {
   "cell_type": "code",
   "execution_count": 146,
   "source": [
    "df['job'].value_counts()"
   ],
   "outputs": [
    {
     "output_type": "execute_result",
     "data": {
      "text/plain": [
       "admin.           10749\n",
       "blue-collar       9253\n",
       "technician        6739\n",
       "services          3967\n",
       "management        2924\n",
       "retired           1718\n",
       "entrepreneur      1456\n",
       "self-employed     1421\n",
       "housemaid         1060\n",
       "unemployed        1014\n",
       "student            875\n",
       "Name: job, dtype: int64"
      ]
     },
     "metadata": {},
     "execution_count": 146
    }
   ],
   "metadata": {}
  },
  {
   "cell_type": "code",
   "execution_count": 147,
   "source": [
    "job_map = { 'entrepreneur' : 'self-employed'\n",
    "    \n",
    "}\n",
    "\n",
    "df['Job_Type'] = df['job'].replace(job_map)\n",
    "df['Job_Type'].value_counts()"
   ],
   "outputs": [
    {
     "output_type": "execute_result",
     "data": {
      "text/plain": [
       "admin.           10749\n",
       "blue-collar       9253\n",
       "technician        6739\n",
       "services          3967\n",
       "management        2924\n",
       "self-employed     2877\n",
       "retired           1718\n",
       "housemaid         1060\n",
       "unemployed        1014\n",
       "student            875\n",
       "Name: Job_Type, dtype: int64"
      ]
     },
     "metadata": {},
     "execution_count": 147
    }
   ],
   "metadata": {}
  },
  {
   "cell_type": "code",
   "execution_count": 148,
   "source": [
    "plt.figure(figsize=(15, 8))\n",
    "sns.countplot(x=df[\"Job_Type\"],hue=df[\"y\"], data=df, palette='mako')\n",
    "plt.title('Job Campaign Comparison')\n",
    "plt.show()"
   ],
   "outputs": [
    {
     "output_type": "display_data",
     "data": {
      "image/png": "[encoded data removed]",
      "text/plain": [
       "<Figure size 1080x576 with 1 Axes>"
      ]
     },
     "metadata": {
      "needs_background": "light"
     }
    }
   ],
   "metadata": {}
  },
  {
   "cell_type": "code",
   "execution_count": 149,
   "source": [
    "job = (pd.crosstab(index=df[\"Job_Type\"], columns= df[\"y\"], normalize= \"index\") *100).round(2)\n",
    "job.sort_values(1, ascending=False)"
   ],
   "outputs": [
    {
     "output_type": "execute_result",
     "data": {
      "text/html": [
       "<div>\n",
       "<style scoped>\n",
       "    .dataframe tbody tr th:only-of-type {\n",
       "        vertical-align: middle;\n",
       "    }\n",
       "\n",
       "    .dataframe tbody tr th {\n",
       "        vertical-align: top;\n",
       "    }\n",
       "\n",
       "    .dataframe thead th {\n",
       "        text-align: right;\n",
       "    }\n",
       "</style>\n",
       "<table border=\"1\" class=\"dataframe\">\n",
       "  <thead>\n",
       "    <tr style=\"text-align: right;\">\n",
       "      <th>y</th>\n",
       "      <th>0</th>\n",
       "      <th>1</th>\n",
       "    </tr>\n",
       "    <tr>\n",
       "      <th>Job_Type</th>\n",
       "      <th></th>\n",
       "      <th></th>\n",
       "    </tr>\n",
       "  </thead>\n",
       "  <tbody>\n",
       "    <tr>\n",
       "      <th>student</th>\n",
       "      <td>68.57</td>\n",
       "      <td>31.43</td>\n",
       "    </tr>\n",
       "    <tr>\n",
       "      <th>retired</th>\n",
       "      <td>74.74</td>\n",
       "      <td>25.26</td>\n",
       "    </tr>\n",
       "    <tr>\n",
       "      <th>unemployed</th>\n",
       "      <td>85.80</td>\n",
       "      <td>14.20</td>\n",
       "    </tr>\n",
       "    <tr>\n",
       "      <th>admin.</th>\n",
       "      <td>87.09</td>\n",
       "      <td>12.91</td>\n",
       "    </tr>\n",
       "    <tr>\n",
       "      <th>management</th>\n",
       "      <td>88.78</td>\n",
       "      <td>11.22</td>\n",
       "    </tr>\n",
       "    <tr>\n",
       "      <th>technician</th>\n",
       "      <td>89.17</td>\n",
       "      <td>10.83</td>\n",
       "    </tr>\n",
       "    <tr>\n",
       "      <th>housemaid</th>\n",
       "      <td>90.00</td>\n",
       "      <td>10.00</td>\n",
       "    </tr>\n",
       "    <tr>\n",
       "      <th>self-employed</th>\n",
       "      <td>90.51</td>\n",
       "      <td>9.49</td>\n",
       "    </tr>\n",
       "    <tr>\n",
       "      <th>services</th>\n",
       "      <td>91.86</td>\n",
       "      <td>8.14</td>\n",
       "    </tr>\n",
       "    <tr>\n",
       "      <th>blue-collar</th>\n",
       "      <td>93.10</td>\n",
       "      <td>6.90</td>\n",
       "    </tr>\n",
       "  </tbody>\n",
       "</table>\n",
       "</div>"
      ],
      "text/plain": [
       "y                  0      1\n",
       "Job_Type                   \n",
       "student        68.57  31.43\n",
       "retired        74.74  25.26\n",
       "unemployed     85.80  14.20\n",
       "admin.         87.09  12.91\n",
       "management     88.78  11.22\n",
       "technician     89.17  10.83\n",
       "housemaid      90.00  10.00\n",
       "self-employed  90.51   9.49\n",
       "services       91.86   8.14\n",
       "blue-collar    93.10   6.90"
      ]
     },
     "metadata": {},
     "execution_count": 149
    }
   ],
   "metadata": {}
  },
  {
   "cell_type": "markdown",
   "source": [
    "We can conclude that Job type Student, Retired and Unemployed customer are top 3 job type of customer who agree to open deposit term"
   ],
   "metadata": {}
  },
  {
   "cell_type": "markdown",
   "source": [
    "## How customer last education impact on opening term deposit ?"
   ],
   "metadata": {}
  },
  {
   "cell_type": "code",
   "execution_count": 150,
   "source": [
    "df['education'].value_counts()"
   ],
   "outputs": [
    {
     "output_type": "execute_result",
     "data": {
      "text/plain": [
       "university.degree      13894\n",
       "high.school             9512\n",
       "basic.9y                6045\n",
       "professional.course     5240\n",
       "basic.4y                4176\n",
       "basic.6y                2291\n",
       "illiterate                18\n",
       "Name: education, dtype: int64"
      ]
     },
     "metadata": {},
     "execution_count": 150
    }
   ],
   "metadata": {}
  },
  {
   "cell_type": "code",
   "execution_count": 151,
   "source": [
    "edu_map = { 'high.school' : 'school', 'basic.9y' : 'school', 'basic.4y' : 'school', 'basic.6y' : 'school'\n",
    "    \n",
    "}\n",
    "\n",
    "df['Edu_Cat'] = df['education'].replace(edu_map)\n",
    "df['Edu_Cat'].value_counts()"
   ],
   "outputs": [
    {
     "output_type": "execute_result",
     "data": {
      "text/plain": [
       "school                 22024\n",
       "university.degree      13894\n",
       "professional.course     5240\n",
       "illiterate                18\n",
       "Name: Edu_Cat, dtype: int64"
      ]
     },
     "metadata": {},
     "execution_count": 151
    }
   ],
   "metadata": {}
  },
  {
   "cell_type": "code",
   "execution_count": 152,
   "source": [
    "plt.figure(figsize=(15, 8))\n",
    "sns.countplot(x=df[\"Edu_Cat\"],hue=df[\"y\"], data=df, palette='mako')\n",
    "plt.title('Education Campaign Comparison')\n",
    "plt.show()"
   ],
   "outputs": [
    {
     "output_type": "display_data",
     "data": {
      "image/png": "[encoded data removed]",
      "text/plain": [
       "<Figure size 1080x576 with 1 Axes>"
      ]
     },
     "metadata": {
      "needs_background": "light"
     }
    }
   ],
   "metadata": {}
  },
  {
   "cell_type": "code",
   "execution_count": 153,
   "source": [
    "edu = (pd.crosstab(index=df[\"Edu_Cat\"], columns= df[\"y\"], normalize= \"index\") *100).round(2)\n",
    "edu.sort_values(1, ascending=False)"
   ],
   "outputs": [
    {
     "output_type": "execute_result",
     "data": {
      "text/html": [
       "<div>\n",
       "<style scoped>\n",
       "    .dataframe tbody tr th:only-of-type {\n",
       "        vertical-align: middle;\n",
       "    }\n",
       "\n",
       "    .dataframe tbody tr th {\n",
       "        vertical-align: top;\n",
       "    }\n",
       "\n",
       "    .dataframe thead th {\n",
       "        text-align: right;\n",
       "    }\n",
       "</style>\n",
       "<table border=\"1\" class=\"dataframe\">\n",
       "  <thead>\n",
       "    <tr style=\"text-align: right;\">\n",
       "      <th>y</th>\n",
       "      <th>0</th>\n",
       "      <th>1</th>\n",
       "    </tr>\n",
       "    <tr>\n",
       "      <th>Edu_Cat</th>\n",
       "      <th></th>\n",
       "      <th></th>\n",
       "    </tr>\n",
       "  </thead>\n",
       "  <tbody>\n",
       "    <tr>\n",
       "      <th>illiterate</th>\n",
       "      <td>77.78</td>\n",
       "      <td>22.22</td>\n",
       "    </tr>\n",
       "    <tr>\n",
       "      <th>university.degree</th>\n",
       "      <td>86.18</td>\n",
       "      <td>13.82</td>\n",
       "    </tr>\n",
       "    <tr>\n",
       "      <th>professional.course</th>\n",
       "      <td>88.65</td>\n",
       "      <td>11.35</td>\n",
       "    </tr>\n",
       "    <tr>\n",
       "      <th>school</th>\n",
       "      <td>90.37</td>\n",
       "      <td>9.63</td>\n",
       "    </tr>\n",
       "  </tbody>\n",
       "</table>\n",
       "</div>"
      ],
      "text/plain": [
       "y                        0      1\n",
       "Edu_Cat                          \n",
       "illiterate           77.78  22.22\n",
       "university.degree    86.18  13.82\n",
       "professional.course  88.65  11.35\n",
       "school               90.37   9.63"
      ]
     },
     "metadata": {},
     "execution_count": 153
    }
   ],
   "metadata": {}
  },
  {
   "cell_type": "markdown",
   "source": [
    "Customer with education background Illiterate tend to agree to open term deposit, it reach 22,22%. Following by education background as University Degree which is 13.82%"
   ],
   "metadata": {}
  },
  {
   "cell_type": "markdown",
   "source": [
    "# How the rest categorical feature impact on customer decision ?"
   ],
   "metadata": {}
  },
  {
   "cell_type": "code",
   "execution_count": 154,
   "source": [
    "def pcat(x):\n",
    "    if x == 999:\n",
    "        return 'Never'\n",
    "    else:\n",
    "        return 'Yes'"
   ],
   "outputs": [],
   "metadata": {}
  },
  {
   "cell_type": "code",
   "execution_count": 155,
   "source": [
    "df['pdays'] = df['pdays'].apply(pcat)"
   ],
   "outputs": [],
   "metadata": {}
  },
  {
   "cell_type": "code",
   "execution_count": 156,
   "source": [
    "cat =['default',\n",
    " 'housing',\n",
    " 'loan',\n",
    " 'contact',\n",
    " 'poutcome',\n",
    " 'pdays']\n",
    "cat"
   ],
   "outputs": [
    {
     "output_type": "execute_result",
     "data": {
      "text/plain": [
       "['default', 'housing', 'loan', 'contact', 'poutcome', 'pdays']"
      ]
     },
     "metadata": {},
     "execution_count": 156
    }
   ],
   "metadata": {}
  },
  {
   "cell_type": "code",
   "execution_count": 157,
   "source": [
    "fig, ax = plt.subplots(2,3, figsize=(20,17))\n",
    "\n",
    "cat \n",
    "\n",
    "ax = ax.ravel()\n",
    "position = 0\n",
    "for i in cat:\n",
    "    \n",
    "    order = df[i].value_counts().index\n",
    "    sns.countplot(data=df, x=i, ax=ax[position], hue='y', palette='GnBu', order=order)\n",
    "    ax[position].tick_params(labelrotation=90)\n",
    "    ax[position].set_title(i, fontdict={'fontsize':17})\n",
    "    \n",
    "    position += 1\n",
    "\n",
    "plt.subplots_adjust(hspace=0.7)\n",
    "\n",
    "plt.show()"
   ],
   "outputs": [
    {
     "output_type": "display_data",
     "data": {
      "image/png": "[encoded data removed]",
      "text/plain": [
       "<Figure size 1440x1224 with 6 Axes>"
      ]
     },
     "metadata": {
      "needs_background": "light"
     }
    }
   ],
   "metadata": {}
  },
  {
   "cell_type": "markdown",
   "source": [
    "- Deafult, housing, loan and contact features follow the same trend, there is a group that is mostly targeted and then it descends. The proportion of 'yes' and 'no', is in line with the descends of the targeted number\n",
    "- poutcome and pdays features are the past campaign result features. We conclude that customer which never called before is likely to have bigger proportions than customer which had called before"
   ],
   "metadata": {}
  },
  {
   "cell_type": "markdown",
   "source": [
    "# How socio economic attribute impact on customer decision ?"
   ],
   "metadata": {}
  },
  {
   "cell_type": "code",
   "execution_count": 158,
   "source": [
    "socio_economic = df.select_dtypes(['int64', 'float64'])\n",
    "socio_economic = socio_economic.drop(columns=['age','duration','campaign','previous','y'])\n",
    "socio_economic.head()"
   ],
   "outputs": [
    {
     "output_type": "execute_result",
     "data": {
      "text/html": [
       "<div>\n",
       "<style scoped>\n",
       "    .dataframe tbody tr th:only-of-type {\n",
       "        vertical-align: middle;\n",
       "    }\n",
       "\n",
       "    .dataframe tbody tr th {\n",
       "        vertical-align: top;\n",
       "    }\n",
       "\n",
       "    .dataframe thead th {\n",
       "        text-align: right;\n",
       "    }\n",
       "</style>\n",
       "<table border=\"1\" class=\"dataframe\">\n",
       "  <thead>\n",
       "    <tr style=\"text-align: right;\">\n",
       "      <th></th>\n",
       "      <th>emp.var.rate</th>\n",
       "      <th>cons.price.idx</th>\n",
       "      <th>cons.conf.idx</th>\n",
       "      <th>euribor3m</th>\n",
       "      <th>nr.employed</th>\n",
       "    </tr>\n",
       "  </thead>\n",
       "  <tbody>\n",
       "    <tr>\n",
       "      <th>0</th>\n",
       "      <td>1.1</td>\n",
       "      <td>93.994</td>\n",
       "      <td>-36.4</td>\n",
       "      <td>4.857</td>\n",
       "      <td>5191.0</td>\n",
       "    </tr>\n",
       "    <tr>\n",
       "      <th>1</th>\n",
       "      <td>1.1</td>\n",
       "      <td>93.994</td>\n",
       "      <td>-36.4</td>\n",
       "      <td>4.857</td>\n",
       "      <td>5191.0</td>\n",
       "    </tr>\n",
       "    <tr>\n",
       "      <th>2</th>\n",
       "      <td>1.1</td>\n",
       "      <td>93.994</td>\n",
       "      <td>-36.4</td>\n",
       "      <td>4.857</td>\n",
       "      <td>5191.0</td>\n",
       "    </tr>\n",
       "    <tr>\n",
       "      <th>3</th>\n",
       "      <td>1.1</td>\n",
       "      <td>93.994</td>\n",
       "      <td>-36.4</td>\n",
       "      <td>4.857</td>\n",
       "      <td>5191.0</td>\n",
       "    </tr>\n",
       "    <tr>\n",
       "      <th>4</th>\n",
       "      <td>1.1</td>\n",
       "      <td>93.994</td>\n",
       "      <td>-36.4</td>\n",
       "      <td>4.857</td>\n",
       "      <td>5191.0</td>\n",
       "    </tr>\n",
       "  </tbody>\n",
       "</table>\n",
       "</div>"
      ],
      "text/plain": [
       "   emp.var.rate  cons.price.idx  cons.conf.idx  euribor3m  nr.employed\n",
       "0           1.1          93.994          -36.4      4.857       5191.0\n",
       "1           1.1          93.994          -36.4      4.857       5191.0\n",
       "2           1.1          93.994          -36.4      4.857       5191.0\n",
       "3           1.1          93.994          -36.4      4.857       5191.0\n",
       "4           1.1          93.994          -36.4      4.857       5191.0"
      ]
     },
     "metadata": {},
     "execution_count": 158
    }
   ],
   "metadata": {}
  },
  {
   "cell_type": "code",
   "execution_count": 159,
   "source": [
    "fig, ax = plt.subplots(2,3, figsize=(20,17))\n",
    "\n",
    "socio_economic\n",
    "\n",
    "ax = ax.ravel()\n",
    "position = 0\n",
    "for i in socio_economic:\n",
    "    \n",
    "    #order = df[i].value_counts().index\n",
    "    sns.histplot(data=socio_economic, x=socio_economic[i], ax=ax[position], hue=df['y'], palette='GnBu', bins=8)\n",
    "    ax[position].tick_params(labelrotation=90)\n",
    "    ax[position].set_title(i, fontdict={'fontsize':17})\n",
    "    \n",
    "    position += 1\n",
    "\n",
    "plt.subplots_adjust(hspace=0.7)\n",
    "\n",
    "plt.show()"
   ],
   "outputs": [
    {
     "output_type": "display_data",
     "data": {
      "image/png": "[encoded data removed]",
      "text/plain": [
       "<Figure size 1440x1224 with 6 Axes>"
      ]
     },
     "metadata": {
      "needs_background": "light"
     }
    }
   ],
   "metadata": {}
  },
  {
   "cell_type": "markdown",
   "source": [
    "# Based on previous campaign, when is the best time customer tend to say \"yes\" ?"
   ],
   "metadata": {}
  },
  {
   "cell_type": "code",
   "execution_count": 160,
   "source": [
    "df['month'].unique()"
   ],
   "outputs": [
    {
     "output_type": "execute_result",
     "data": {
      "text/plain": [
       "array(['may', 'jun', 'jul', 'aug', 'oct', 'nov', 'dec', 'mar', 'apr',\n",
       "       'sep'], dtype=object)"
      ]
     },
     "metadata": {},
     "execution_count": 160
    }
   ],
   "metadata": {}
  },
  {
   "cell_type": "code",
   "execution_count": 161,
   "source": [
    "plt.figure(figsize=(15, 8))\n",
    "sns.countplot(data=df, x=df['month'], hue='y', palette='GnBu')\n",
    "plt.title('Education Campaign Comparison')\n",
    "plt.show()\n"
   ],
   "outputs": [
    {
     "output_type": "display_data",
     "data": {
      "image/png": "[encoded data removed]",
      "text/plain": [
       "<Figure size 1080x576 with 1 Axes>"
      ]
     },
     "metadata": {
      "needs_background": "light"
     }
    }
   ],
   "metadata": {}
  },
  {
   "cell_type": "code",
   "execution_count": 162,
   "source": [
    "month = (pd.crosstab(index=df[\"month\"], columns= df[\"y\"], normalize= \"index\") *100).round(2)\n",
    "month.sort_values(1, ascending=False)"
   ],
   "outputs": [
    {
     "output_type": "execute_result",
     "data": {
      "text/html": [
       "<div>\n",
       "<style scoped>\n",
       "    .dataframe tbody tr th:only-of-type {\n",
       "        vertical-align: middle;\n",
       "    }\n",
       "\n",
       "    .dataframe tbody tr th {\n",
       "        vertical-align: top;\n",
       "    }\n",
       "\n",
       "    .dataframe thead th {\n",
       "        text-align: right;\n",
       "    }\n",
       "</style>\n",
       "<table border=\"1\" class=\"dataframe\">\n",
       "  <thead>\n",
       "    <tr style=\"text-align: right;\">\n",
       "      <th>y</th>\n",
       "      <th>0</th>\n",
       "      <th>1</th>\n",
       "    </tr>\n",
       "    <tr>\n",
       "      <th>month</th>\n",
       "      <th></th>\n",
       "      <th></th>\n",
       "    </tr>\n",
       "  </thead>\n",
       "  <tbody>\n",
       "    <tr>\n",
       "      <th>mar</th>\n",
       "      <td>49.45</td>\n",
       "      <td>50.55</td>\n",
       "    </tr>\n",
       "    <tr>\n",
       "      <th>dec</th>\n",
       "      <td>51.10</td>\n",
       "      <td>48.90</td>\n",
       "    </tr>\n",
       "    <tr>\n",
       "      <th>sep</th>\n",
       "      <td>55.09</td>\n",
       "      <td>44.91</td>\n",
       "    </tr>\n",
       "    <tr>\n",
       "      <th>oct</th>\n",
       "      <td>56.07</td>\n",
       "      <td>43.93</td>\n",
       "    </tr>\n",
       "    <tr>\n",
       "      <th>apr</th>\n",
       "      <td>79.51</td>\n",
       "      <td>20.49</td>\n",
       "    </tr>\n",
       "    <tr>\n",
       "      <th>aug</th>\n",
       "      <td>89.39</td>\n",
       "      <td>10.61</td>\n",
       "    </tr>\n",
       "    <tr>\n",
       "      <th>jun</th>\n",
       "      <td>89.49</td>\n",
       "      <td>10.51</td>\n",
       "    </tr>\n",
       "    <tr>\n",
       "      <th>nov</th>\n",
       "      <td>89.85</td>\n",
       "      <td>10.15</td>\n",
       "    </tr>\n",
       "    <tr>\n",
       "      <th>jul</th>\n",
       "      <td>90.96</td>\n",
       "      <td>9.04</td>\n",
       "    </tr>\n",
       "    <tr>\n",
       "      <th>may</th>\n",
       "      <td>93.56</td>\n",
       "      <td>6.44</td>\n",
       "    </tr>\n",
       "  </tbody>\n",
       "</table>\n",
       "</div>"
      ],
      "text/plain": [
       "y          0      1\n",
       "month              \n",
       "mar    49.45  50.55\n",
       "dec    51.10  48.90\n",
       "sep    55.09  44.91\n",
       "oct    56.07  43.93\n",
       "apr    79.51  20.49\n",
       "aug    89.39  10.61\n",
       "jun    89.49  10.51\n",
       "nov    89.85  10.15\n",
       "jul    90.96   9.04\n",
       "may    93.56   6.44"
      ]
     },
     "metadata": {},
     "execution_count": 162
    }
   ],
   "metadata": {}
  },
  {
   "cell_type": "markdown",
   "source": [
    "The highest percentage (50.55%) customer tend to say yes is on March, followed by December and September in the second and third place"
   ],
   "metadata": {}
  },
  {
   "cell_type": "code",
   "execution_count": 163,
   "source": [
    "comb = (pd.crosstab(index=[df[\"month\"],df[\"day_of_week\"]], columns= df[\"y\"], normalize= \"index\")*100).round(2)\n",
    "comb.sort_values(1, ascending=False).head(5)"
   ],
   "outputs": [
    {
     "output_type": "execute_result",
     "data": {
      "text/html": [
       "<div>\n",
       "<style scoped>\n",
       "    .dataframe tbody tr th:only-of-type {\n",
       "        vertical-align: middle;\n",
       "    }\n",
       "\n",
       "    .dataframe tbody tr th {\n",
       "        vertical-align: top;\n",
       "    }\n",
       "\n",
       "    .dataframe thead th {\n",
       "        text-align: right;\n",
       "    }\n",
       "</style>\n",
       "<table border=\"1\" class=\"dataframe\">\n",
       "  <thead>\n",
       "    <tr style=\"text-align: right;\">\n",
       "      <th></th>\n",
       "      <th>y</th>\n",
       "      <th>0</th>\n",
       "      <th>1</th>\n",
       "    </tr>\n",
       "    <tr>\n",
       "      <th>month</th>\n",
       "      <th>day_of_week</th>\n",
       "      <th></th>\n",
       "      <th></th>\n",
       "    </tr>\n",
       "  </thead>\n",
       "  <tbody>\n",
       "    <tr>\n",
       "      <th>dec</th>\n",
       "      <th>tue</th>\n",
       "      <td>40.00</td>\n",
       "      <td>60.00</td>\n",
       "    </tr>\n",
       "    <tr>\n",
       "      <th rowspan=\"2\" valign=\"top\">mar</th>\n",
       "      <th>wed</th>\n",
       "      <td>40.00</td>\n",
       "      <td>60.00</td>\n",
       "    </tr>\n",
       "    <tr>\n",
       "      <th>tue</th>\n",
       "      <td>40.00</td>\n",
       "      <td>60.00</td>\n",
       "    </tr>\n",
       "    <tr>\n",
       "      <th>dec</th>\n",
       "      <th>wed</th>\n",
       "      <td>40.00</td>\n",
       "      <td>60.00</td>\n",
       "    </tr>\n",
       "    <tr>\n",
       "      <th>mar</th>\n",
       "      <th>fri</th>\n",
       "      <td>47.87</td>\n",
       "      <td>52.13</td>\n",
       "    </tr>\n",
       "  </tbody>\n",
       "</table>\n",
       "</div>"
      ],
      "text/plain": [
       "y                      0      1\n",
       "month day_of_week              \n",
       "dec   tue          40.00  60.00\n",
       "mar   wed          40.00  60.00\n",
       "      tue          40.00  60.00\n",
       "dec   wed          40.00  60.00\n",
       "mar   fri          47.87  52.13"
      ]
     },
     "metadata": {},
     "execution_count": 163
    }
   ],
   "metadata": {}
  },
  {
   "cell_type": "markdown",
   "source": [
    "- We can see that December on Tuesday and Wednesday are the day when past campaign was getting the highest proportion of \"yes\" answer\n",
    "- Following by March on Tuesday and Wednesday as well"
   ],
   "metadata": {}
  },
  {
   "cell_type": "markdown",
   "source": [
    "# EDA Conclusion\n",
    "\n",
    "1. Age_group Adult have the highest percentage of customer (87.41%) agree to open the term deposit. Following by young adult and elderly\n",
    "2. Married customer tend to opening the deposit with the percentage of 54.83%, and Not Married customer falls for 45.15 % on agree for opening the deposit\n",
    "3. We can conclude that Job type Student, Retired and Unemployed customer are top 3 job type of customer who agree to open deposit term\n",
    "4. Customer with education background Illiterate tend to agree to open term deposit, it reach 22,22%. Following by education background as University Degree which is 13.82%\n",
    "5. - Deafult, housing, loan and contact features follow the same trend, there is a group that is mostly targeted and then it descends. The proportion of 'yes' and 'no', is in line with the descends of the targeted number\n",
    "   - poutcome and pdays features are the past campaign result features. We conclude that customer which never called before is likely to have bigger proportions than customer which had called before\n",
    "6. - emp.var.rate : The proportion customer agree to open deposit is when emp.var.rate between -2 and -3\n",
    "   - cons.price.idx : The proportion customer agree to open deposit is when euribor3m close to 93\n",
    "   - cons.conf.idx : The proportion customer agree to open deposit varying across cons.conf.idx value\n",
    "   - euribor3m : The proportion customer agree to open deposit is when euribor3m close to 1\n",
    "7. - We can see that December on Tuesday and Wednesday are the day when past campaign was getting the highest proportion of \"yes\" answer\n",
    "   - Following by March on Tuesday and Wednesday as well"
   ],
   "metadata": {}
  },
  {
   "cell_type": "markdown",
   "source": [
    "# Machine Learning "
   ],
   "metadata": {}
  },
  {
   "cell_type": "markdown",
   "source": [
    "in this section all data we got from EDA analysis the will be handled to be used for Machine Learning, which will be tranform into numerical, we will use 3 encoding type to handle categorical data\n",
    "\n",
    "- Binary Encoding\n",
    "- Ordinal Encoding\n",
    "- One-hot Encoding "
   ],
   "metadata": {}
  },
  {
   "cell_type": "markdown",
   "source": [
    "importing packgae for machine learning evaluation"
   ],
   "metadata": {}
  },
  {
   "cell_type": "code",
   "execution_count": 165,
   "source": [
    "from sklearn.model_selection import train_test_split,GridSearchCV,RandomizedSearchCV,StratifiedKFold"
   ],
   "outputs": [],
   "metadata": {}
  },
  {
   "cell_type": "markdown",
   "source": [
    "importing package for pipeline and feature engineering"
   ],
   "metadata": {}
  },
  {
   "cell_type": "code",
   "execution_count": 242,
   "source": [
    "from sklearn.pipeline import Pipeline\n",
    "from sklearn.impute import SimpleImputer\n",
    "from sklearn.preprocessing import RobustScaler,PolynomialFeatures,PowerTransformer,OneHotEncoder\n",
    "from sklearn.compose import ColumnTransformer"
   ],
   "outputs": [],
   "metadata": {}
  },
  {
   "cell_type": "markdown",
   "source": [
    "## feature handling"
   ],
   "metadata": {}
  },
  {
   "cell_type": "markdown",
   "source": [
    "in this section we analyse the categorical feature to be then handled, and choosing between which encoder will be used"
   ],
   "metadata": {}
  },
  {
   "cell_type": "code",
   "execution_count": 168,
   "source": [
    "df.head()"
   ],
   "outputs": [
    {
     "output_type": "execute_result",
     "data": {
      "text/html": [
       "<div>\n",
       "<style scoped>\n",
       "    .dataframe tbody tr th:only-of-type {\n",
       "        vertical-align: middle;\n",
       "    }\n",
       "\n",
       "    .dataframe tbody tr th {\n",
       "        vertical-align: top;\n",
       "    }\n",
       "\n",
       "    .dataframe thead th {\n",
       "        text-align: right;\n",
       "    }\n",
       "</style>\n",
       "<table border=\"1\" class=\"dataframe\">\n",
       "  <thead>\n",
       "    <tr style=\"text-align: right;\">\n",
       "      <th></th>\n",
       "      <th>age</th>\n",
       "      <th>job</th>\n",
       "      <th>marital</th>\n",
       "      <th>education</th>\n",
       "      <th>default</th>\n",
       "      <th>housing</th>\n",
       "      <th>loan</th>\n",
       "      <th>contact</th>\n",
       "      <th>month</th>\n",
       "      <th>day_of_week</th>\n",
       "      <th>duration</th>\n",
       "      <th>campaign</th>\n",
       "      <th>pdays</th>\n",
       "      <th>previous</th>\n",
       "      <th>poutcome</th>\n",
       "      <th>emp.var.rate</th>\n",
       "      <th>cons.price.idx</th>\n",
       "      <th>cons.conf.idx</th>\n",
       "      <th>euribor3m</th>\n",
       "      <th>nr.employed</th>\n",
       "      <th>y</th>\n",
       "      <th>age_group</th>\n",
       "      <th>Marital_Status</th>\n",
       "      <th>Job_Type</th>\n",
       "      <th>Edu_Cat</th>\n",
       "    </tr>\n",
       "  </thead>\n",
       "  <tbody>\n",
       "    <tr>\n",
       "      <th>0</th>\n",
       "      <td>56</td>\n",
       "      <td>housemaid</td>\n",
       "      <td>married</td>\n",
       "      <td>basic.4y</td>\n",
       "      <td>no</td>\n",
       "      <td>no</td>\n",
       "      <td>no</td>\n",
       "      <td>telephone</td>\n",
       "      <td>may</td>\n",
       "      <td>mon</td>\n",
       "      <td>261</td>\n",
       "      <td>1</td>\n",
       "      <td>Never</td>\n",
       "      <td>0</td>\n",
       "      <td>nonexistent</td>\n",
       "      <td>1.1</td>\n",
       "      <td>93.994</td>\n",
       "      <td>-36.4</td>\n",
       "      <td>4.857</td>\n",
       "      <td>5191.0</td>\n",
       "      <td>0</td>\n",
       "      <td>Elderly</td>\n",
       "      <td>married</td>\n",
       "      <td>housemaid</td>\n",
       "      <td>school</td>\n",
       "    </tr>\n",
       "    <tr>\n",
       "      <th>1</th>\n",
       "      <td>57</td>\n",
       "      <td>services</td>\n",
       "      <td>married</td>\n",
       "      <td>high.school</td>\n",
       "      <td>no</td>\n",
       "      <td>no</td>\n",
       "      <td>no</td>\n",
       "      <td>telephone</td>\n",
       "      <td>may</td>\n",
       "      <td>mon</td>\n",
       "      <td>149</td>\n",
       "      <td>1</td>\n",
       "      <td>Never</td>\n",
       "      <td>0</td>\n",
       "      <td>nonexistent</td>\n",
       "      <td>1.1</td>\n",
       "      <td>93.994</td>\n",
       "      <td>-36.4</td>\n",
       "      <td>4.857</td>\n",
       "      <td>5191.0</td>\n",
       "      <td>0</td>\n",
       "      <td>Elderly</td>\n",
       "      <td>married</td>\n",
       "      <td>services</td>\n",
       "      <td>school</td>\n",
       "    </tr>\n",
       "    <tr>\n",
       "      <th>2</th>\n",
       "      <td>37</td>\n",
       "      <td>services</td>\n",
       "      <td>married</td>\n",
       "      <td>high.school</td>\n",
       "      <td>no</td>\n",
       "      <td>yes</td>\n",
       "      <td>no</td>\n",
       "      <td>telephone</td>\n",
       "      <td>may</td>\n",
       "      <td>mon</td>\n",
       "      <td>226</td>\n",
       "      <td>1</td>\n",
       "      <td>Never</td>\n",
       "      <td>0</td>\n",
       "      <td>nonexistent</td>\n",
       "      <td>1.1</td>\n",
       "      <td>93.994</td>\n",
       "      <td>-36.4</td>\n",
       "      <td>4.857</td>\n",
       "      <td>5191.0</td>\n",
       "      <td>0</td>\n",
       "      <td>Productive Adult</td>\n",
       "      <td>married</td>\n",
       "      <td>services</td>\n",
       "      <td>school</td>\n",
       "    </tr>\n",
       "    <tr>\n",
       "      <th>3</th>\n",
       "      <td>40</td>\n",
       "      <td>admin.</td>\n",
       "      <td>married</td>\n",
       "      <td>basic.6y</td>\n",
       "      <td>no</td>\n",
       "      <td>no</td>\n",
       "      <td>no</td>\n",
       "      <td>telephone</td>\n",
       "      <td>may</td>\n",
       "      <td>mon</td>\n",
       "      <td>151</td>\n",
       "      <td>1</td>\n",
       "      <td>Never</td>\n",
       "      <td>0</td>\n",
       "      <td>nonexistent</td>\n",
       "      <td>1.1</td>\n",
       "      <td>93.994</td>\n",
       "      <td>-36.4</td>\n",
       "      <td>4.857</td>\n",
       "      <td>5191.0</td>\n",
       "      <td>0</td>\n",
       "      <td>Productive Adult</td>\n",
       "      <td>married</td>\n",
       "      <td>admin.</td>\n",
       "      <td>school</td>\n",
       "    </tr>\n",
       "    <tr>\n",
       "      <th>4</th>\n",
       "      <td>56</td>\n",
       "      <td>services</td>\n",
       "      <td>married</td>\n",
       "      <td>high.school</td>\n",
       "      <td>no</td>\n",
       "      <td>no</td>\n",
       "      <td>yes</td>\n",
       "      <td>telephone</td>\n",
       "      <td>may</td>\n",
       "      <td>mon</td>\n",
       "      <td>307</td>\n",
       "      <td>1</td>\n",
       "      <td>Never</td>\n",
       "      <td>0</td>\n",
       "      <td>nonexistent</td>\n",
       "      <td>1.1</td>\n",
       "      <td>93.994</td>\n",
       "      <td>-36.4</td>\n",
       "      <td>4.857</td>\n",
       "      <td>5191.0</td>\n",
       "      <td>0</td>\n",
       "      <td>Elderly</td>\n",
       "      <td>married</td>\n",
       "      <td>services</td>\n",
       "      <td>school</td>\n",
       "    </tr>\n",
       "  </tbody>\n",
       "</table>\n",
       "</div>"
      ],
      "text/plain": [
       "   age        job  marital    education default housing loan    contact month  \\\n",
       "0   56  housemaid  married     basic.4y      no      no   no  telephone   may   \n",
       "1   57   services  married  high.school      no      no   no  telephone   may   \n",
       "2   37   services  married  high.school      no     yes   no  telephone   may   \n",
       "3   40     admin.  married     basic.6y      no      no   no  telephone   may   \n",
       "4   56   services  married  high.school      no      no  yes  telephone   may   \n",
       "\n",
       "  day_of_week  duration  campaign  pdays  previous     poutcome  emp.var.rate  \\\n",
       "0         mon       261         1  Never         0  nonexistent           1.1   \n",
       "1         mon       149         1  Never         0  nonexistent           1.1   \n",
       "2         mon       226         1  Never         0  nonexistent           1.1   \n",
       "3         mon       151         1  Never         0  nonexistent           1.1   \n",
       "4         mon       307         1  Never         0  nonexistent           1.1   \n",
       "\n",
       "   cons.price.idx  cons.conf.idx  euribor3m  nr.employed  y         age_group  \\\n",
       "0          93.994          -36.4      4.857       5191.0  0           Elderly   \n",
       "1          93.994          -36.4      4.857       5191.0  0           Elderly   \n",
       "2          93.994          -36.4      4.857       5191.0  0  Productive Adult   \n",
       "3          93.994          -36.4      4.857       5191.0  0  Productive Adult   \n",
       "4          93.994          -36.4      4.857       5191.0  0           Elderly   \n",
       "\n",
       "  Marital_Status   Job_Type Edu_Cat  \n",
       "0        married  housemaid  school  \n",
       "1        married   services  school  \n",
       "2        married   services  school  \n",
       "3        married     admin.  school  \n",
       "4        married   services  school  "
      ]
     },
     "metadata": {},
     "execution_count": 168
    }
   ],
   "metadata": {}
  },
  {
   "cell_type": "code",
   "execution_count": 169,
   "source": [
    "df[\"job\"].unique()"
   ],
   "outputs": [
    {
     "output_type": "execute_result",
     "data": {
      "text/plain": [
       "array(['housemaid', 'services', 'admin.', 'blue-collar', 'technician',\n",
       "       'retired', 'management', 'unemployed', 'self-employed',\n",
       "       'entrepreneur', 'student'], dtype=object)"
      ]
     },
     "metadata": {},
     "execution_count": 169
    }
   ],
   "metadata": {}
  },
  {
   "cell_type": "code",
   "execution_count": 170,
   "source": [
    "df[\"marital\"].unique()"
   ],
   "outputs": [
    {
     "output_type": "execute_result",
     "data": {
      "text/plain": [
       "array(['married', 'single', 'divorced'], dtype=object)"
      ]
     },
     "metadata": {},
     "execution_count": 170
    }
   ],
   "metadata": {}
  },
  {
   "cell_type": "code",
   "execution_count": 171,
   "source": [
    "def marital_pre(basement):\n",
    "    if basement == \"married\":\n",
    "        return \"married\" \n",
    "    else :\n",
    "        return \"not married\""
   ],
   "outputs": [],
   "metadata": {}
  },
  {
   "cell_type": "code",
   "execution_count": 172,
   "source": [
    "df[\"marital\"] = df[\"marital\"].apply(marital_pre)"
   ],
   "outputs": [],
   "metadata": {}
  },
  {
   "cell_type": "code",
   "execution_count": 173,
   "source": [
    "df[\"marital\"].unique()"
   ],
   "outputs": [
    {
     "output_type": "execute_result",
     "data": {
      "text/plain": [
       "array(['married', 'not married'], dtype=object)"
      ]
     },
     "metadata": {},
     "execution_count": 173
    }
   ],
   "metadata": {}
  },
  {
   "cell_type": "markdown",
   "source": [
    "marital column is handled to be married and not married"
   ],
   "metadata": {}
  },
  {
   "cell_type": "code",
   "execution_count": 174,
   "source": [
    "df[\"education\"].unique()"
   ],
   "outputs": [
    {
     "output_type": "execute_result",
     "data": {
      "text/plain": [
       "array(['basic.4y', 'high.school', 'basic.6y', 'basic.9y',\n",
       "       'professional.course', 'university.degree', 'illiterate'],\n",
       "      dtype=object)"
      ]
     },
     "metadata": {},
     "execution_count": 174
    }
   ],
   "metadata": {}
  },
  {
   "cell_type": "code",
   "execution_count": 175,
   "source": [
    "df[\"default\"].unique()"
   ],
   "outputs": [
    {
     "output_type": "execute_result",
     "data": {
      "text/plain": [
       "array(['no', 'yes'], dtype=object)"
      ]
     },
     "metadata": {},
     "execution_count": 175
    }
   ],
   "metadata": {}
  },
  {
   "cell_type": "code",
   "execution_count": 176,
   "source": [
    "df[\"default\"].value_counts()"
   ],
   "outputs": [
    {
     "output_type": "execute_result",
     "data": {
      "text/plain": [
       "no     41173\n",
       "yes        3\n",
       "Name: default, dtype: int64"
      ]
     },
     "metadata": {},
     "execution_count": 176
    }
   ],
   "metadata": {}
  },
  {
   "cell_type": "code",
   "execution_count": 177,
   "source": [
    "df[\"housing\"].unique()"
   ],
   "outputs": [
    {
     "output_type": "execute_result",
     "data": {
      "text/plain": [
       "array(['no', 'yes'], dtype=object)"
      ]
     },
     "metadata": {},
     "execution_count": 177
    }
   ],
   "metadata": {}
  },
  {
   "cell_type": "code",
   "execution_count": 178,
   "source": [
    "df[\"housing\"].value_counts()"
   ],
   "outputs": [
    {
     "output_type": "execute_result",
     "data": {
      "text/plain": [
       "yes    22561\n",
       "no     18615\n",
       "Name: housing, dtype: int64"
      ]
     },
     "metadata": {},
     "execution_count": 178
    }
   ],
   "metadata": {}
  },
  {
   "cell_type": "code",
   "execution_count": 179,
   "source": [
    "df[\"loan\"].unique()"
   ],
   "outputs": [
    {
     "output_type": "execute_result",
     "data": {
      "text/plain": [
       "array(['no', 'yes'], dtype=object)"
      ]
     },
     "metadata": {},
     "execution_count": 179
    }
   ],
   "metadata": {}
  },
  {
   "cell_type": "code",
   "execution_count": 180,
   "source": [
    "df[\"contact\"].unique()"
   ],
   "outputs": [
    {
     "output_type": "execute_result",
     "data": {
      "text/plain": [
       "array(['telephone', 'cellular'], dtype=object)"
      ]
     },
     "metadata": {},
     "execution_count": 180
    }
   ],
   "metadata": {}
  },
  {
   "cell_type": "markdown",
   "source": [
    "All of the column below is droped because all this column won't be posible to be gathered when we want to check a possibility of the new data because it need to be happened first to obtain the data. "
   ],
   "metadata": {}
  },
  {
   "cell_type": "code",
   "execution_count": 181,
   "source": [
    "df = df.drop(columns=[\"month\"])\n",
    "df = df.drop(columns=[\"day_of_week\"])\n",
    "df = df.drop(columns=[\"duration\"])\n",
    "df = df.drop(columns=[\"campaign\"])"
   ],
   "outputs": [],
   "metadata": {}
  },
  {
   "cell_type": "code",
   "execution_count": 182,
   "source": [
    "df.head()"
   ],
   "outputs": [
    {
     "output_type": "execute_result",
     "data": {
      "text/html": [
       "<div>\n",
       "<style scoped>\n",
       "    .dataframe tbody tr th:only-of-type {\n",
       "        vertical-align: middle;\n",
       "    }\n",
       "\n",
       "    .dataframe tbody tr th {\n",
       "        vertical-align: top;\n",
       "    }\n",
       "\n",
       "    .dataframe thead th {\n",
       "        text-align: right;\n",
       "    }\n",
       "</style>\n",
       "<table border=\"1\" class=\"dataframe\">\n",
       "  <thead>\n",
       "    <tr style=\"text-align: right;\">\n",
       "      <th></th>\n",
       "      <th>age</th>\n",
       "      <th>job</th>\n",
       "      <th>marital</th>\n",
       "      <th>education</th>\n",
       "      <th>default</th>\n",
       "      <th>housing</th>\n",
       "      <th>loan</th>\n",
       "      <th>contact</th>\n",
       "      <th>pdays</th>\n",
       "      <th>previous</th>\n",
       "      <th>poutcome</th>\n",
       "      <th>emp.var.rate</th>\n",
       "      <th>cons.price.idx</th>\n",
       "      <th>cons.conf.idx</th>\n",
       "      <th>euribor3m</th>\n",
       "      <th>nr.employed</th>\n",
       "      <th>y</th>\n",
       "      <th>age_group</th>\n",
       "      <th>Marital_Status</th>\n",
       "      <th>Job_Type</th>\n",
       "      <th>Edu_Cat</th>\n",
       "    </tr>\n",
       "  </thead>\n",
       "  <tbody>\n",
       "    <tr>\n",
       "      <th>0</th>\n",
       "      <td>56</td>\n",
       "      <td>housemaid</td>\n",
       "      <td>married</td>\n",
       "      <td>basic.4y</td>\n",
       "      <td>no</td>\n",
       "      <td>no</td>\n",
       "      <td>no</td>\n",
       "      <td>telephone</td>\n",
       "      <td>Never</td>\n",
       "      <td>0</td>\n",
       "      <td>nonexistent</td>\n",
       "      <td>1.1</td>\n",
       "      <td>93.994</td>\n",
       "      <td>-36.4</td>\n",
       "      <td>4.857</td>\n",
       "      <td>5191.0</td>\n",
       "      <td>0</td>\n",
       "      <td>Elderly</td>\n",
       "      <td>married</td>\n",
       "      <td>housemaid</td>\n",
       "      <td>school</td>\n",
       "    </tr>\n",
       "    <tr>\n",
       "      <th>1</th>\n",
       "      <td>57</td>\n",
       "      <td>services</td>\n",
       "      <td>married</td>\n",
       "      <td>high.school</td>\n",
       "      <td>no</td>\n",
       "      <td>no</td>\n",
       "      <td>no</td>\n",
       "      <td>telephone</td>\n",
       "      <td>Never</td>\n",
       "      <td>0</td>\n",
       "      <td>nonexistent</td>\n",
       "      <td>1.1</td>\n",
       "      <td>93.994</td>\n",
       "      <td>-36.4</td>\n",
       "      <td>4.857</td>\n",
       "      <td>5191.0</td>\n",
       "      <td>0</td>\n",
       "      <td>Elderly</td>\n",
       "      <td>married</td>\n",
       "      <td>services</td>\n",
       "      <td>school</td>\n",
       "    </tr>\n",
       "    <tr>\n",
       "      <th>2</th>\n",
       "      <td>37</td>\n",
       "      <td>services</td>\n",
       "      <td>married</td>\n",
       "      <td>high.school</td>\n",
       "      <td>no</td>\n",
       "      <td>yes</td>\n",
       "      <td>no</td>\n",
       "      <td>telephone</td>\n",
       "      <td>Never</td>\n",
       "      <td>0</td>\n",
       "      <td>nonexistent</td>\n",
       "      <td>1.1</td>\n",
       "      <td>93.994</td>\n",
       "      <td>-36.4</td>\n",
       "      <td>4.857</td>\n",
       "      <td>5191.0</td>\n",
       "      <td>0</td>\n",
       "      <td>Productive Adult</td>\n",
       "      <td>married</td>\n",
       "      <td>services</td>\n",
       "      <td>school</td>\n",
       "    </tr>\n",
       "    <tr>\n",
       "      <th>3</th>\n",
       "      <td>40</td>\n",
       "      <td>admin.</td>\n",
       "      <td>married</td>\n",
       "      <td>basic.6y</td>\n",
       "      <td>no</td>\n",
       "      <td>no</td>\n",
       "      <td>no</td>\n",
       "      <td>telephone</td>\n",
       "      <td>Never</td>\n",
       "      <td>0</td>\n",
       "      <td>nonexistent</td>\n",
       "      <td>1.1</td>\n",
       "      <td>93.994</td>\n",
       "      <td>-36.4</td>\n",
       "      <td>4.857</td>\n",
       "      <td>5191.0</td>\n",
       "      <td>0</td>\n",
       "      <td>Productive Adult</td>\n",
       "      <td>married</td>\n",
       "      <td>admin.</td>\n",
       "      <td>school</td>\n",
       "    </tr>\n",
       "    <tr>\n",
       "      <th>4</th>\n",
       "      <td>56</td>\n",
       "      <td>services</td>\n",
       "      <td>married</td>\n",
       "      <td>high.school</td>\n",
       "      <td>no</td>\n",
       "      <td>no</td>\n",
       "      <td>yes</td>\n",
       "      <td>telephone</td>\n",
       "      <td>Never</td>\n",
       "      <td>0</td>\n",
       "      <td>nonexistent</td>\n",
       "      <td>1.1</td>\n",
       "      <td>93.994</td>\n",
       "      <td>-36.4</td>\n",
       "      <td>4.857</td>\n",
       "      <td>5191.0</td>\n",
       "      <td>0</td>\n",
       "      <td>Elderly</td>\n",
       "      <td>married</td>\n",
       "      <td>services</td>\n",
       "      <td>school</td>\n",
       "    </tr>\n",
       "  </tbody>\n",
       "</table>\n",
       "</div>"
      ],
      "text/plain": [
       "   age        job  marital    education default housing loan    contact  \\\n",
       "0   56  housemaid  married     basic.4y      no      no   no  telephone   \n",
       "1   57   services  married  high.school      no      no   no  telephone   \n",
       "2   37   services  married  high.school      no     yes   no  telephone   \n",
       "3   40     admin.  married     basic.6y      no      no   no  telephone   \n",
       "4   56   services  married  high.school      no      no  yes  telephone   \n",
       "\n",
       "   pdays  previous     poutcome  emp.var.rate  cons.price.idx  cons.conf.idx  \\\n",
       "0  Never         0  nonexistent           1.1          93.994          -36.4   \n",
       "1  Never         0  nonexistent           1.1          93.994          -36.4   \n",
       "2  Never         0  nonexistent           1.1          93.994          -36.4   \n",
       "3  Never         0  nonexistent           1.1          93.994          -36.4   \n",
       "4  Never         0  nonexistent           1.1          93.994          -36.4   \n",
       "\n",
       "   euribor3m  nr.employed  y         age_group Marital_Status   Job_Type  \\\n",
       "0      4.857       5191.0  0           Elderly        married  housemaid   \n",
       "1      4.857       5191.0  0           Elderly        married   services   \n",
       "2      4.857       5191.0  0  Productive Adult        married   services   \n",
       "3      4.857       5191.0  0  Productive Adult        married     admin.   \n",
       "4      4.857       5191.0  0           Elderly        married   services   \n",
       "\n",
       "  Edu_Cat  \n",
       "0  school  \n",
       "1  school  \n",
       "2  school  \n",
       "3  school  \n",
       "4  school  "
      ]
     },
     "metadata": {},
     "execution_count": 182
    }
   ],
   "metadata": {}
  },
  {
   "cell_type": "code",
   "execution_count": 183,
   "source": [
    "df[\"pdays\"].unique()"
   ],
   "outputs": [
    {
     "output_type": "execute_result",
     "data": {
      "text/plain": [
       "array(['Never', 'Yes'], dtype=object)"
      ]
     },
     "metadata": {},
     "execution_count": 183
    }
   ],
   "metadata": {}
  },
  {
   "cell_type": "code",
   "execution_count": 186,
   "source": [
    "df[\"poutcome\"].unique()"
   ],
   "outputs": [
    {
     "output_type": "execute_result",
     "data": {
      "text/plain": [
       "array(['nonexistent', 'failure', 'success'], dtype=object)"
      ]
     },
     "metadata": {},
     "execution_count": 186
    }
   ],
   "metadata": {}
  },
  {
   "cell_type": "markdown",
   "source": [
    "age is drop because we re-categorized it by group of age "
   ],
   "metadata": {}
  },
  {
   "cell_type": "code",
   "execution_count": 187,
   "source": [
    "df = df.drop(columns=[\"age\"])"
   ],
   "outputs": [],
   "metadata": {}
  },
  {
   "cell_type": "markdown",
   "source": [
    "marital status also droped because it's a same with marital column"
   ],
   "metadata": {}
  },
  {
   "cell_type": "code",
   "execution_count": 191,
   "source": [
    "df = df.drop(columns=[\"Marital_Status\"])"
   ],
   "outputs": [],
   "metadata": {}
  },
  {
   "cell_type": "code",
   "execution_count": 193,
   "source": [
    "df[\"Job_Type\"].unique()"
   ],
   "outputs": [
    {
     "output_type": "execute_result",
     "data": {
      "text/plain": [
       "array(['housemaid', 'services', 'admin.', 'blue-collar', 'technician',\n",
       "       'retired', 'management', 'unemployed', 'self-employed', 'student'],\n",
       "      dtype=object)"
      ]
     },
     "metadata": {},
     "execution_count": 193
    }
   ],
   "metadata": {}
  },
  {
   "cell_type": "markdown",
   "source": [
    "job column is droped because it's been recategorized into job type column"
   ],
   "metadata": {}
  },
  {
   "cell_type": "code",
   "execution_count": 194,
   "source": [
    "df = df.drop(columns=[\"job\"])"
   ],
   "outputs": [],
   "metadata": {}
  },
  {
   "cell_type": "code",
   "execution_count": 196,
   "source": [
    "df[\"Edu_Cat\"].unique()"
   ],
   "outputs": [
    {
     "output_type": "execute_result",
     "data": {
      "text/plain": [
       "array(['school', 'professional.course', 'university.degree', 'illiterate'],\n",
       "      dtype=object)"
      ]
     },
     "metadata": {},
     "execution_count": 196
    }
   ],
   "metadata": {}
  },
  {
   "cell_type": "markdown",
   "source": [
    "education column is droped because it is been categorized into \"edu_cat\" "
   ],
   "metadata": {}
  },
  {
   "cell_type": "code",
   "execution_count": 197,
   "source": [
    "df = df.drop(columns=[\"education\"])"
   ],
   "outputs": [],
   "metadata": {}
  },
  {
   "cell_type": "markdown",
   "source": [
    "nr.employed is droped because this column's information is unkown"
   ],
   "metadata": {}
  },
  {
   "cell_type": "code",
   "execution_count": 204,
   "source": [
    "df = df.drop(columns=[\"nr.employed\"])"
   ],
   "outputs": [],
   "metadata": {}
  },
  {
   "cell_type": "code",
   "execution_count": 205,
   "source": [
    "df.head()"
   ],
   "outputs": [
    {
     "output_type": "execute_result",
     "data": {
      "text/html": [
       "<div>\n",
       "<style scoped>\n",
       "    .dataframe tbody tr th:only-of-type {\n",
       "        vertical-align: middle;\n",
       "    }\n",
       "\n",
       "    .dataframe tbody tr th {\n",
       "        vertical-align: top;\n",
       "    }\n",
       "\n",
       "    .dataframe thead th {\n",
       "        text-align: right;\n",
       "    }\n",
       "</style>\n",
       "<table border=\"1\" class=\"dataframe\">\n",
       "  <thead>\n",
       "    <tr style=\"text-align: right;\">\n",
       "      <th></th>\n",
       "      <th>marital</th>\n",
       "      <th>default</th>\n",
       "      <th>housing</th>\n",
       "      <th>loan</th>\n",
       "      <th>contact</th>\n",
       "      <th>pdays</th>\n",
       "      <th>previous</th>\n",
       "      <th>poutcome</th>\n",
       "      <th>emp.var.rate</th>\n",
       "      <th>cons.price.idx</th>\n",
       "      <th>cons.conf.idx</th>\n",
       "      <th>euribor3m</th>\n",
       "      <th>y</th>\n",
       "      <th>age_group</th>\n",
       "      <th>Job_Type</th>\n",
       "      <th>Edu_Cat</th>\n",
       "    </tr>\n",
       "  </thead>\n",
       "  <tbody>\n",
       "    <tr>\n",
       "      <th>0</th>\n",
       "      <td>married</td>\n",
       "      <td>no</td>\n",
       "      <td>no</td>\n",
       "      <td>no</td>\n",
       "      <td>telephone</td>\n",
       "      <td>Never</td>\n",
       "      <td>0</td>\n",
       "      <td>nonexistent</td>\n",
       "      <td>1.1</td>\n",
       "      <td>93.994</td>\n",
       "      <td>-36.4</td>\n",
       "      <td>4.857</td>\n",
       "      <td>0</td>\n",
       "      <td>Elderly</td>\n",
       "      <td>housemaid</td>\n",
       "      <td>school</td>\n",
       "    </tr>\n",
       "    <tr>\n",
       "      <th>1</th>\n",
       "      <td>married</td>\n",
       "      <td>no</td>\n",
       "      <td>no</td>\n",
       "      <td>no</td>\n",
       "      <td>telephone</td>\n",
       "      <td>Never</td>\n",
       "      <td>0</td>\n",
       "      <td>nonexistent</td>\n",
       "      <td>1.1</td>\n",
       "      <td>93.994</td>\n",
       "      <td>-36.4</td>\n",
       "      <td>4.857</td>\n",
       "      <td>0</td>\n",
       "      <td>Elderly</td>\n",
       "      <td>services</td>\n",
       "      <td>school</td>\n",
       "    </tr>\n",
       "    <tr>\n",
       "      <th>2</th>\n",
       "      <td>married</td>\n",
       "      <td>no</td>\n",
       "      <td>yes</td>\n",
       "      <td>no</td>\n",
       "      <td>telephone</td>\n",
       "      <td>Never</td>\n",
       "      <td>0</td>\n",
       "      <td>nonexistent</td>\n",
       "      <td>1.1</td>\n",
       "      <td>93.994</td>\n",
       "      <td>-36.4</td>\n",
       "      <td>4.857</td>\n",
       "      <td>0</td>\n",
       "      <td>Productive Adult</td>\n",
       "      <td>services</td>\n",
       "      <td>school</td>\n",
       "    </tr>\n",
       "    <tr>\n",
       "      <th>3</th>\n",
       "      <td>married</td>\n",
       "      <td>no</td>\n",
       "      <td>no</td>\n",
       "      <td>no</td>\n",
       "      <td>telephone</td>\n",
       "      <td>Never</td>\n",
       "      <td>0</td>\n",
       "      <td>nonexistent</td>\n",
       "      <td>1.1</td>\n",
       "      <td>93.994</td>\n",
       "      <td>-36.4</td>\n",
       "      <td>4.857</td>\n",
       "      <td>0</td>\n",
       "      <td>Productive Adult</td>\n",
       "      <td>admin.</td>\n",
       "      <td>school</td>\n",
       "    </tr>\n",
       "    <tr>\n",
       "      <th>4</th>\n",
       "      <td>married</td>\n",
       "      <td>no</td>\n",
       "      <td>no</td>\n",
       "      <td>yes</td>\n",
       "      <td>telephone</td>\n",
       "      <td>Never</td>\n",
       "      <td>0</td>\n",
       "      <td>nonexistent</td>\n",
       "      <td>1.1</td>\n",
       "      <td>93.994</td>\n",
       "      <td>-36.4</td>\n",
       "      <td>4.857</td>\n",
       "      <td>0</td>\n",
       "      <td>Elderly</td>\n",
       "      <td>services</td>\n",
       "      <td>school</td>\n",
       "    </tr>\n",
       "  </tbody>\n",
       "</table>\n",
       "</div>"
      ],
      "text/plain": [
       "   marital default housing loan    contact  pdays  previous     poutcome  \\\n",
       "0  married      no      no   no  telephone  Never         0  nonexistent   \n",
       "1  married      no      no   no  telephone  Never         0  nonexistent   \n",
       "2  married      no     yes   no  telephone  Never         0  nonexistent   \n",
       "3  married      no      no   no  telephone  Never         0  nonexistent   \n",
       "4  married      no      no  yes  telephone  Never         0  nonexistent   \n",
       "\n",
       "   emp.var.rate  cons.price.idx  cons.conf.idx  euribor3m  y  \\\n",
       "0           1.1          93.994          -36.4      4.857  0   \n",
       "1           1.1          93.994          -36.4      4.857  0   \n",
       "2           1.1          93.994          -36.4      4.857  0   \n",
       "3           1.1          93.994          -36.4      4.857  0   \n",
       "4           1.1          93.994          -36.4      4.857  0   \n",
       "\n",
       "          age_group   Job_Type Edu_Cat  \n",
       "0           Elderly  housemaid  school  \n",
       "1           Elderly   services  school  \n",
       "2  Productive Adult   services  school  \n",
       "3  Productive Adult     admin.  school  \n",
       "4           Elderly   services  school  "
      ]
     },
     "metadata": {},
     "execution_count": 205
    }
   ],
   "metadata": {}
  },
  {
   "cell_type": "markdown",
   "source": [
    "SUMMARY FOR FEATRUE HANDLING \n",
    "\n",
    "all the feature for machine learning will be handled as below\n",
    "\n",
    "Ordinal Encoding:\n",
    "    - Age Group \n",
    "    - Edu_Cat\n",
    "\n",
    "One-hot Encoding:\n",
    "    - poutcome\n",
    "    - Job_Type\n",
    "\n",
    "Binary Encoding:\n",
    "    - Marital\n",
    "    - Default\n",
    "    - Housing\n",
    "    - Loan\n",
    "    - Contact\n",
    "    - pdays"
   ],
   "metadata": {}
  },
  {
   "cell_type": "markdown",
   "source": [
    "## DATA Spliting"
   ],
   "metadata": {}
  },
  {
   "cell_type": "markdown",
   "source": [
    "Seperating the features with the outcome of the campaign that will be used in modeling"
   ],
   "metadata": {}
  },
  {
   "cell_type": "code",
   "execution_count": 547,
   "source": [
    "x = df.drop(columns='y')\n",
    "y = df['y']"
   ],
   "outputs": [],
   "metadata": {}
  },
  {
   "cell_type": "code",
   "execution_count": 548,
   "source": [
    "len(x)"
   ],
   "outputs": [
    {
     "output_type": "execute_result",
     "data": {
      "text/plain": [
       "41176"
      ]
     },
     "metadata": {},
     "execution_count": 548
    }
   ],
   "metadata": {}
  },
  {
   "cell_type": "code",
   "execution_count": 285,
   "source": [
    "x_train,x_test,y_train,y_test = train_test_split(x,y,train_size=.80,stratify=y,random_state=42)"
   ],
   "outputs": [],
   "metadata": {}
  },
  {
   "cell_type": "markdown",
   "source": [
    "## Machine Learning Function"
   ],
   "metadata": {}
  },
  {
   "cell_type": "code",
   "execution_count": 208,
   "source": [
    "from sklearn.svm import SVC\n",
    "from sklearn.linear_model import LogisticRegression\n",
    "from sklearn.neighbors import KNeighborsClassifier\n",
    "from sklearn.ensemble import RandomForestClassifier\n",
    "\n",
    "from sklearn.preprocessing import StandardScaler, RobustScaler\n",
    "\n",
    "from sklearn.model_selection import train_test_split, StratifiedKFold, GridSearchCV, cross_val_score\n",
    "from sklearn.metrics import accuracy_score, recall_score, precision_score, f1_score, confusion_matrix, classification_report, roc_curve,roc_auc_score"
   ],
   "outputs": [],
   "metadata": {}
  },
  {
   "cell_type": "markdown",
   "source": [
    "insialisasi log_evaluation di buat untuk menjadi evaluation test dalam machine learning ini"
   ],
   "metadata": {}
  },
  {
   "cell_type": "code",
   "execution_count": 209,
   "source": [
    "def log_evaluation(data_sample_train,data_sample_test, aktual_train,aktual_test, model):\n",
    "    hasil_model_train = model.predict(data_sample_train)\n",
    "    accuracy_train = accuracy_score(aktual_train, hasil_model_train)\n",
    "    recall_train = recall_score(aktual_train, hasil_model_train)\n",
    "    precision_train = precision_score(aktual_train, hasil_model_train)\n",
    "    f1_train = f1_score(aktual_train, hasil_model_train)\n",
    "    rocauc_train = roc_auc_score(aktual_train,hasil_model_train)\n",
    "\n",
    "    hasil_model_test = model.predict(data_sample_test)\n",
    "    accuracy_test = accuracy_score(aktual_test, hasil_model_test)\n",
    "    recall_test = recall_score(aktual_test, hasil_model_test)\n",
    "    precision_test = precision_score(aktual_test, hasil_model_test)\n",
    "    f1_test = f1_score(aktual_test, hasil_model_test)\n",
    "    rocauc_test = roc_auc_score(aktual_test,hasil_model_test)\n",
    "    \n",
    "    cm = confusion_matrix(aktual_test, hasil_model_test, labels=[1,0])\n",
    "    df_cm = pd.DataFrame(cm, index = [\"akt1\", \"akt0\"],columns=[\"pred 1\" , \"pred 0\"])\n",
    "    cr = classification_report(aktual_test, hasil_model_test)\n",
    "\n",
    "\n",
    "    hasil_evaluation = pd.DataFrame(data= {\"Training\" : [accuracy_train, recall_train, precision_train,f1_train,rocauc_train],\"Testing\" : [accuracy_test, recall_test, precision_test,f1_test,rocauc_test]}, index=[\"accuracy\", \"recall\" , \"precission\", \"F1 Score\", \"ROCAUC\"] )\n",
    "\n",
    "    return hasil_model_train, hasil_model_test, hasil_evaluation, df_cm, cr"
   ],
   "outputs": [],
   "metadata": {}
  },
  {
   "cell_type": "markdown",
   "source": [
    "## Pipeline Preprocessing"
   ],
   "metadata": {}
  },
  {
   "cell_type": "code",
   "execution_count": 210,
   "source": [
    "df.head()"
   ],
   "outputs": [
    {
     "output_type": "execute_result",
     "data": {
      "text/html": [
       "<div>\n",
       "<style scoped>\n",
       "    .dataframe tbody tr th:only-of-type {\n",
       "        vertical-align: middle;\n",
       "    }\n",
       "\n",
       "    .dataframe tbody tr th {\n",
       "        vertical-align: top;\n",
       "    }\n",
       "\n",
       "    .dataframe thead th {\n",
       "        text-align: right;\n",
       "    }\n",
       "</style>\n",
       "<table border=\"1\" class=\"dataframe\">\n",
       "  <thead>\n",
       "    <tr style=\"text-align: right;\">\n",
       "      <th></th>\n",
       "      <th>marital</th>\n",
       "      <th>default</th>\n",
       "      <th>housing</th>\n",
       "      <th>loan</th>\n",
       "      <th>contact</th>\n",
       "      <th>pdays</th>\n",
       "      <th>previous</th>\n",
       "      <th>poutcome</th>\n",
       "      <th>emp.var.rate</th>\n",
       "      <th>cons.price.idx</th>\n",
       "      <th>cons.conf.idx</th>\n",
       "      <th>euribor3m</th>\n",
       "      <th>y</th>\n",
       "      <th>age_group</th>\n",
       "      <th>Job_Type</th>\n",
       "      <th>Edu_Cat</th>\n",
       "    </tr>\n",
       "  </thead>\n",
       "  <tbody>\n",
       "    <tr>\n",
       "      <th>0</th>\n",
       "      <td>married</td>\n",
       "      <td>no</td>\n",
       "      <td>no</td>\n",
       "      <td>no</td>\n",
       "      <td>telephone</td>\n",
       "      <td>Never</td>\n",
       "      <td>0</td>\n",
       "      <td>nonexistent</td>\n",
       "      <td>1.1</td>\n",
       "      <td>93.994</td>\n",
       "      <td>-36.4</td>\n",
       "      <td>4.857</td>\n",
       "      <td>0</td>\n",
       "      <td>Elderly</td>\n",
       "      <td>housemaid</td>\n",
       "      <td>school</td>\n",
       "    </tr>\n",
       "    <tr>\n",
       "      <th>1</th>\n",
       "      <td>married</td>\n",
       "      <td>no</td>\n",
       "      <td>no</td>\n",
       "      <td>no</td>\n",
       "      <td>telephone</td>\n",
       "      <td>Never</td>\n",
       "      <td>0</td>\n",
       "      <td>nonexistent</td>\n",
       "      <td>1.1</td>\n",
       "      <td>93.994</td>\n",
       "      <td>-36.4</td>\n",
       "      <td>4.857</td>\n",
       "      <td>0</td>\n",
       "      <td>Elderly</td>\n",
       "      <td>services</td>\n",
       "      <td>school</td>\n",
       "    </tr>\n",
       "    <tr>\n",
       "      <th>2</th>\n",
       "      <td>married</td>\n",
       "      <td>no</td>\n",
       "      <td>yes</td>\n",
       "      <td>no</td>\n",
       "      <td>telephone</td>\n",
       "      <td>Never</td>\n",
       "      <td>0</td>\n",
       "      <td>nonexistent</td>\n",
       "      <td>1.1</td>\n",
       "      <td>93.994</td>\n",
       "      <td>-36.4</td>\n",
       "      <td>4.857</td>\n",
       "      <td>0</td>\n",
       "      <td>Productive Adult</td>\n",
       "      <td>services</td>\n",
       "      <td>school</td>\n",
       "    </tr>\n",
       "    <tr>\n",
       "      <th>3</th>\n",
       "      <td>married</td>\n",
       "      <td>no</td>\n",
       "      <td>no</td>\n",
       "      <td>no</td>\n",
       "      <td>telephone</td>\n",
       "      <td>Never</td>\n",
       "      <td>0</td>\n",
       "      <td>nonexistent</td>\n",
       "      <td>1.1</td>\n",
       "      <td>93.994</td>\n",
       "      <td>-36.4</td>\n",
       "      <td>4.857</td>\n",
       "      <td>0</td>\n",
       "      <td>Productive Adult</td>\n",
       "      <td>admin.</td>\n",
       "      <td>school</td>\n",
       "    </tr>\n",
       "    <tr>\n",
       "      <th>4</th>\n",
       "      <td>married</td>\n",
       "      <td>no</td>\n",
       "      <td>no</td>\n",
       "      <td>yes</td>\n",
       "      <td>telephone</td>\n",
       "      <td>Never</td>\n",
       "      <td>0</td>\n",
       "      <td>nonexistent</td>\n",
       "      <td>1.1</td>\n",
       "      <td>93.994</td>\n",
       "      <td>-36.4</td>\n",
       "      <td>4.857</td>\n",
       "      <td>0</td>\n",
       "      <td>Elderly</td>\n",
       "      <td>services</td>\n",
       "      <td>school</td>\n",
       "    </tr>\n",
       "  </tbody>\n",
       "</table>\n",
       "</div>"
      ],
      "text/plain": [
       "   marital default housing loan    contact  pdays  previous     poutcome  \\\n",
       "0  married      no      no   no  telephone  Never         0  nonexistent   \n",
       "1  married      no      no   no  telephone  Never         0  nonexistent   \n",
       "2  married      no     yes   no  telephone  Never         0  nonexistent   \n",
       "3  married      no      no   no  telephone  Never         0  nonexistent   \n",
       "4  married      no      no  yes  telephone  Never         0  nonexistent   \n",
       "\n",
       "   emp.var.rate  cons.price.idx  cons.conf.idx  euribor3m  y  \\\n",
       "0           1.1          93.994          -36.4      4.857  0   \n",
       "1           1.1          93.994          -36.4      4.857  0   \n",
       "2           1.1          93.994          -36.4      4.857  0   \n",
       "3           1.1          93.994          -36.4      4.857  0   \n",
       "4           1.1          93.994          -36.4      4.857  0   \n",
       "\n",
       "          age_group   Job_Type Edu_Cat  \n",
       "0           Elderly  housemaid  school  \n",
       "1           Elderly   services  school  \n",
       "2  Productive Adult   services  school  \n",
       "3  Productive Adult     admin.  school  \n",
       "4           Elderly   services  school  "
      ]
     },
     "metadata": {},
     "execution_count": 210
    }
   ],
   "metadata": {}
  },
  {
   "cell_type": "code",
   "execution_count": 276,
   "source": [
    "num_columns = ['previous','emp.var.rate','cons.price.idx','cons.conf.idx',\"euribor3m\",]\n",
    "\n",
    "cat_columns = [\"marital\", \"default\",\"housing\",\"loan\",\"contact\",\"pdays\",\"poutcome\",\"Job_Type\",\"age_group\",\"Edu_Cat\"]\n",
    "\n",
    "binary_columns = [\"marital\", \"default\",\"housing\",\"loan\",\"contact\",\"pdays\"]\n",
    "\n",
    "OH_columns = [\"poutcome\",\"Job_Type\"]\n",
    "\n",
    "ordinal1_columns = [\"age_group\"]\n",
    "\n",
    "ordinal2_columns = [\"Edu_Cat\"]"
   ],
   "outputs": [],
   "metadata": {}
  },
  {
   "cell_type": "markdown",
   "source": [
    "ONE-HOT encoding digunakan karena ini adalah encoder yang robust dan bisa digunakan untuk beberapa macam category dan untuk categorical column ini tidak akan mempengaruhi kalkulasi dengan menggunakan one-hot encoder"
   ],
   "metadata": {}
  },
  {
   "cell_type": "code",
   "execution_count": 296,
   "source": [
    "df[\"pdays\"].unique()"
   ],
   "outputs": [
    {
     "output_type": "execute_result",
     "data": {
      "text/plain": [
       "array(['Never', 'Yes'], dtype=object)"
      ]
     },
     "metadata": {},
     "execution_count": 296
    }
   ],
   "metadata": {}
  },
  {
   "cell_type": "code",
   "execution_count": 278,
   "source": [
    "from sklearn.preprocessing import OrdinalEncoder, OneHotEncoder, LabelEncoder"
   ],
   "outputs": [],
   "metadata": {}
  },
  {
   "cell_type": "code",
   "execution_count": 319,
   "source": [
    "cat_age_lvl = [['Young Adult', 'Productive Adult', \"Elderly\"]]\n",
    "cat_edu_lvl = [['illiterate', 'school', \"professional.course\",\"university.degree\"]]"
   ],
   "outputs": [],
   "metadata": {}
  },
  {
   "cell_type": "markdown",
   "source": [
    "overview of the outcome:\n",
    "\n",
    "- True Positif : kalau data aktual yes, data prediksi yes (1,1) quadrant 1 \n",
    "- False Negatif : kalau data aktual yes, data prediksi no (1,0) quadrant 2\n",
    "- False Positif : kalau data aktual no, data prediksi yes (0,1) quadrant 3\n",
    "- True Negatif : kalau data aktual no, data prediksi no (0,0), dquadrant 4\n",
    "\n",
    "Fokus yang kami lihat dalam analisis ini adalah evaluasi di recall yang dimana pada evaluation ini membandingkan tebakan dengan data actual yang ada. \n",
    "\n",
    "   - yang harus diperhatikan itu recall nya karena recall adalah **Jumlah Seluruh tebakan/prediksi BENAR di kelas Positive atau Negative** dibandingkan dg **Jumlah Seluruh Data Aktual Positive**\n",
    "\n",
    "\n",
    "bila dilihat dari penjelasan quandrant di atas untuk analisi ini kami akan memfokuskan pada false negatif yang dimana itu dapat memberikan informasi yang salah bahwa customer yang seharusnya menjawab iya kepada campaign yang sedang dijalankan diprediksi no, yang dimana kami ingin meningkatkan efektifitas dalam marketing ini untuk meng-approach customer yang akan jawab yes. \n",
    "\n",
    "maka dari itu \n",
    "   - yang mau diminimalisir adalah False negatif, (1,0) quadrant 2 -> karena customer akan hilang jika aktual yes tapi prediksi no\n",
    "\n",
    "dilain hal kami juga ingin menkonversi orang-orang yang pada awal nya akan menjawab no untuk menjawab yes dengan cara memberikan mereka promo atau bargain yang dapat merubah keputusan mereka dengan begitu kit adapat meningkatkan presentase dari orang yang akan menjawab yes maka dari \n",
    "\n",
    "   - yang mau diminimalisir adalah False positif, (0,1) quadrant 3 -> karena customer akan hilang jika aktual no tapi prediksi yes\n",
    "\n",
    "dari objective kami yang telah di jabarkan maka dapat disimpukan bahwa memang fokus yang kami ambil adalah ingin mengurangi false negatif yang ada dalam analysis machine learning ini tetapi di lain hal false positif juga dapat memberikan dampak yang buruk bagi analysis ini maka dari itu kami harus menemukan formula yang tepat agar hasil yang di kelaurkan oleh model machine learning ini dapat memberikan hasil yang balance."
   ],
   "metadata": {}
  },
  {
   "cell_type": "markdown",
   "source": [
    "## Base Modeling"
   ],
   "metadata": {}
  },
  {
   "cell_type": "markdown",
   "source": [
    "### LOGISTIC REGRESSION BASE MODEL"
   ],
   "metadata": {}
  },
  {
   "cell_type": "code",
   "execution_count": 559,
   "source": [
    "num_pipeline = Pipeline([\n",
    "    ('imputer',SimpleImputer(strategy='mean'))\n",
    "])\n",
    "\n",
    "\n",
    "cat_pipeline = Pipeline([\n",
    "    ('encoder',OneHotEncoder())\n",
    "])\n",
    "\n",
    "\n",
    "\n",
    "preprocessor = ColumnTransformer([\n",
    "    ('numeric',num_pipeline,num_columns),\n",
    "    ('categoric1',cat_pipeline,cat_columns),\n",
    " \n",
    "])\n",
    "\n",
    "Pipe_lr = Pipeline([\n",
    "    ('prep',preprocessor),\n",
    "    ('algo',LogisticRegression())\n",
    "\n",
    "])"
   ],
   "outputs": [],
   "metadata": {}
  },
  {
   "cell_type": "code",
   "execution_count": 560,
   "source": [
    "Pipe_lr.fit(x_train,y_train)"
   ],
   "outputs": [
    {
     "output_type": "execute_result",
     "data": {
      "text/plain": [
       "Pipeline(steps=[('prep',\n",
       "                 ColumnTransformer(transformers=[('numeric',\n",
       "                                                  Pipeline(steps=[('imputer',\n",
       "                                                                   SimpleImputer())]),\n",
       "                                                  ['previous', 'emp.var.rate',\n",
       "                                                   'cons.price.idx',\n",
       "                                                   'cons.conf.idx',\n",
       "                                                   'euribor3m']),\n",
       "                                                 ('categoric1',\n",
       "                                                  Pipeline(steps=[('encoder',\n",
       "                                                                   OneHotEncoder())]),\n",
       "                                                  ['marital', 'default',\n",
       "                                                   'housing', 'loan', 'contact',\n",
       "                                                   'pdays', 'poutcome',\n",
       "                                                   'Job_Type', 'age_group',\n",
       "                                                   'Edu_Cat'])])),\n",
       "                ('algo', LogisticRegression())])"
      ]
     },
     "metadata": {},
     "execution_count": 560
    }
   ],
   "metadata": {}
  },
  {
   "cell_type": "code",
   "execution_count": 452,
   "source": [
    "lr_hasil_train, lr_hasil_test, lr_evaluation, lr_cm, lr_cr = log_evaluation(x_train, x_test, y_train, y_test, Pipe_lr)"
   ],
   "outputs": [],
   "metadata": {}
  },
  {
   "cell_type": "code",
   "execution_count": 453,
   "source": [
    "lr_evaluation"
   ],
   "outputs": [
    {
     "output_type": "execute_result",
     "data": {
      "text/html": [
       "<div>\n",
       "<style scoped>\n",
       "    .dataframe tbody tr th:only-of-type {\n",
       "        vertical-align: middle;\n",
       "    }\n",
       "\n",
       "    .dataframe tbody tr th {\n",
       "        vertical-align: top;\n",
       "    }\n",
       "\n",
       "    .dataframe thead th {\n",
       "        text-align: right;\n",
       "    }\n",
       "</style>\n",
       "<table border=\"1\" class=\"dataframe\">\n",
       "  <thead>\n",
       "    <tr style=\"text-align: right;\">\n",
       "      <th></th>\n",
       "      <th>Training</th>\n",
       "      <th>Testing</th>\n",
       "    </tr>\n",
       "  </thead>\n",
       "  <tbody>\n",
       "    <tr>\n",
       "      <th>accuracy</th>\n",
       "      <td>0.898937</td>\n",
       "      <td>0.898130</td>\n",
       "    </tr>\n",
       "    <tr>\n",
       "      <th>recall</th>\n",
       "      <td>0.190245</td>\n",
       "      <td>0.183190</td>\n",
       "    </tr>\n",
       "    <tr>\n",
       "      <th>precission</th>\n",
       "      <td>0.685437</td>\n",
       "      <td>0.677291</td>\n",
       "    </tr>\n",
       "    <tr>\n",
       "      <th>F1 Score</th>\n",
       "      <td>0.297827</td>\n",
       "      <td>0.288380</td>\n",
       "    </tr>\n",
       "    <tr>\n",
       "      <th>ROCAUC</th>\n",
       "      <td>0.589580</td>\n",
       "      <td>0.586053</td>\n",
       "    </tr>\n",
       "  </tbody>\n",
       "</table>\n",
       "</div>"
      ],
      "text/plain": [
       "            Training   Testing\n",
       "accuracy    0.898937  0.898130\n",
       "recall      0.190245  0.183190\n",
       "precission  0.685437  0.677291\n",
       "F1 Score    0.297827  0.288380\n",
       "ROCAUC      0.589580  0.586053"
      ]
     },
     "metadata": {},
     "execution_count": 453
    }
   ],
   "metadata": {}
  },
  {
   "cell_type": "code",
   "execution_count": 454,
   "source": [
    "lr_cm"
   ],
   "outputs": [
    {
     "output_type": "execute_result",
     "data": {
      "text/html": [
       "<div>\n",
       "<style scoped>\n",
       "    .dataframe tbody tr th:only-of-type {\n",
       "        vertical-align: middle;\n",
       "    }\n",
       "\n",
       "    .dataframe tbody tr th {\n",
       "        vertical-align: top;\n",
       "    }\n",
       "\n",
       "    .dataframe thead th {\n",
       "        text-align: right;\n",
       "    }\n",
       "</style>\n",
       "<table border=\"1\" class=\"dataframe\">\n",
       "  <thead>\n",
       "    <tr style=\"text-align: right;\">\n",
       "      <th></th>\n",
       "      <th>pred 1</th>\n",
       "      <th>pred 0</th>\n",
       "    </tr>\n",
       "  </thead>\n",
       "  <tbody>\n",
       "    <tr>\n",
       "      <th>akt1</th>\n",
       "      <td>170</td>\n",
       "      <td>758</td>\n",
       "    </tr>\n",
       "    <tr>\n",
       "      <th>akt0</th>\n",
       "      <td>81</td>\n",
       "      <td>7227</td>\n",
       "    </tr>\n",
       "  </tbody>\n",
       "</table>\n",
       "</div>"
      ],
      "text/plain": [
       "      pred 1  pred 0\n",
       "akt1     170     758\n",
       "akt0      81    7227"
      ]
     },
     "metadata": {},
     "execution_count": 454
    }
   ],
   "metadata": {}
  },
  {
   "cell_type": "code",
   "execution_count": 455,
   "source": [
    "print(lr_cr)"
   ],
   "outputs": [
    {
     "output_type": "stream",
     "name": "stdout",
     "text": [
      "              precision    recall  f1-score   support\n",
      "\n",
      "           0       0.91      0.99      0.95      7308\n",
      "           1       0.68      0.18      0.29       928\n",
      "\n",
      "    accuracy                           0.90      8236\n",
      "   macro avg       0.79      0.59      0.62      8236\n",
      "weighted avg       0.88      0.90      0.87      8236\n",
      "\n"
     ]
    }
   ],
   "metadata": {}
  },
  {
   "cell_type": "markdown",
   "source": [
    "### SVM BASE MODEL"
   ],
   "metadata": {}
  },
  {
   "cell_type": "code",
   "execution_count": 561,
   "source": [
    "\n",
    "\n",
    "num_pipeline = Pipeline([\n",
    "    ('imputer',SimpleImputer(strategy='mean')),\n",
    "    ('scaler',RobustScaler())\n",
    "])\n",
    "\n",
    "\n",
    "cat_pipeline = Pipeline([\n",
    "    ('encoder',OneHotEncoder())\n",
    "])\n",
    "\n",
    "\n",
    "\n",
    "preprocessor = ColumnTransformer([\n",
    "    ('numeric',num_pipeline,num_columns),\n",
    "    ('categoric1',cat_pipeline,cat_columns)\n",
    "    \n",
    "])\n",
    "\n",
    "Pipe_SVC = Pipeline([\n",
    "    ('prep',preprocessor),\n",
    "    ('algo',SVC(max_iter=400,probability=True))\n",
    "\n",
    "])"
   ],
   "outputs": [],
   "metadata": {}
  },
  {
   "cell_type": "code",
   "execution_count": 445,
   "source": [
    "Pipe_SVC.fit(x_train,y_train)"
   ],
   "outputs": [
    {
     "output_type": "execute_result",
     "data": {
      "text/plain": [
       "Pipeline(steps=[('prep',\n",
       "                 ColumnTransformer(transformers=[('numeric',\n",
       "                                                  Pipeline(steps=[('imputer',\n",
       "                                                                   SimpleImputer()),\n",
       "                                                                  ('scaler',\n",
       "                                                                   RobustScaler())]),\n",
       "                                                  ['previous', 'emp.var.rate',\n",
       "                                                   'cons.price.idx',\n",
       "                                                   'cons.conf.idx',\n",
       "                                                   'euribor3m']),\n",
       "                                                 ('categoric1',\n",
       "                                                  Pipeline(steps=[('encoder',\n",
       "                                                                   OneHotEncoder())]),\n",
       "                                                  ['marital', 'default',\n",
       "                                                   'housing', 'loan', 'contact',\n",
       "                                                   'pdays', 'poutcome',\n",
       "                                                   'Job_Type', 'age_group',\n",
       "                                                   'Edu_Cat'])])),\n",
       "                ('algo', SVC(max_iter=400, probability=True))])"
      ]
     },
     "metadata": {},
     "execution_count": 445
    }
   ],
   "metadata": {}
  },
  {
   "cell_type": "code",
   "execution_count": 446,
   "source": [
    "svm_hasil_train, svm_hasil_test, svm_evaluation, svm_cm, svm_cr = log_evaluation(x_train, x_test, y_train, y_test, Pipe_SVC)"
   ],
   "outputs": [],
   "metadata": {}
  },
  {
   "cell_type": "code",
   "execution_count": 447,
   "source": [
    "svm_evaluation"
   ],
   "outputs": [
    {
     "output_type": "execute_result",
     "data": {
      "text/html": [
       "<div>\n",
       "<style scoped>\n",
       "    .dataframe tbody tr th:only-of-type {\n",
       "        vertical-align: middle;\n",
       "    }\n",
       "\n",
       "    .dataframe tbody tr th {\n",
       "        vertical-align: top;\n",
       "    }\n",
       "\n",
       "    .dataframe thead th {\n",
       "        text-align: right;\n",
       "    }\n",
       "</style>\n",
       "<table border=\"1\" class=\"dataframe\">\n",
       "  <thead>\n",
       "    <tr style=\"text-align: right;\">\n",
       "      <th></th>\n",
       "      <th>Training</th>\n",
       "      <th>Testing</th>\n",
       "    </tr>\n",
       "  </thead>\n",
       "  <tbody>\n",
       "    <tr>\n",
       "      <th>accuracy</th>\n",
       "      <td>0.717790</td>\n",
       "      <td>0.716003</td>\n",
       "    </tr>\n",
       "    <tr>\n",
       "      <th>recall</th>\n",
       "      <td>0.153867</td>\n",
       "      <td>0.143319</td>\n",
       "    </tr>\n",
       "    <tr>\n",
       "      <th>precission</th>\n",
       "      <td>0.084882</td>\n",
       "      <td>0.079308</td>\n",
       "    </tr>\n",
       "    <tr>\n",
       "      <th>F1 Score</th>\n",
       "      <td>0.109408</td>\n",
       "      <td>0.102111</td>\n",
       "    </tr>\n",
       "    <tr>\n",
       "      <th>ROCAUC</th>\n",
       "      <td>0.471627</td>\n",
       "      <td>0.466022</td>\n",
       "    </tr>\n",
       "  </tbody>\n",
       "</table>\n",
       "</div>"
      ],
      "text/plain": [
       "            Training   Testing\n",
       "accuracy    0.717790  0.716003\n",
       "recall      0.153867  0.143319\n",
       "precission  0.084882  0.079308\n",
       "F1 Score    0.109408  0.102111\n",
       "ROCAUC      0.471627  0.466022"
      ]
     },
     "metadata": {},
     "execution_count": 447
    }
   ],
   "metadata": {}
  },
  {
   "cell_type": "code",
   "execution_count": 448,
   "source": [
    "svm_cm"
   ],
   "outputs": [
    {
     "output_type": "execute_result",
     "data": {
      "text/html": [
       "<div>\n",
       "<style scoped>\n",
       "    .dataframe tbody tr th:only-of-type {\n",
       "        vertical-align: middle;\n",
       "    }\n",
       "\n",
       "    .dataframe tbody tr th {\n",
       "        vertical-align: top;\n",
       "    }\n",
       "\n",
       "    .dataframe thead th {\n",
       "        text-align: right;\n",
       "    }\n",
       "</style>\n",
       "<table border=\"1\" class=\"dataframe\">\n",
       "  <thead>\n",
       "    <tr style=\"text-align: right;\">\n",
       "      <th></th>\n",
       "      <th>pred 1</th>\n",
       "      <th>pred 0</th>\n",
       "    </tr>\n",
       "  </thead>\n",
       "  <tbody>\n",
       "    <tr>\n",
       "      <th>akt1</th>\n",
       "      <td>133</td>\n",
       "      <td>795</td>\n",
       "    </tr>\n",
       "    <tr>\n",
       "      <th>akt0</th>\n",
       "      <td>1544</td>\n",
       "      <td>5764</td>\n",
       "    </tr>\n",
       "  </tbody>\n",
       "</table>\n",
       "</div>"
      ],
      "text/plain": [
       "      pred 1  pred 0\n",
       "akt1     133     795\n",
       "akt0    1544    5764"
      ]
     },
     "metadata": {},
     "execution_count": 448
    }
   ],
   "metadata": {}
  },
  {
   "cell_type": "code",
   "execution_count": 449,
   "source": [
    "print(svm_cr)"
   ],
   "outputs": [
    {
     "output_type": "stream",
     "name": "stdout",
     "text": [
      "              precision    recall  f1-score   support\n",
      "\n",
      "           0       0.88      0.79      0.83      7308\n",
      "           1       0.08      0.14      0.10       928\n",
      "\n",
      "    accuracy                           0.72      8236\n",
      "   macro avg       0.48      0.47      0.47      8236\n",
      "weighted avg       0.79      0.72      0.75      8236\n",
      "\n"
     ]
    }
   ],
   "metadata": {}
  },
  {
   "cell_type": "markdown",
   "source": [
    "### KNN BASE MODEL"
   ],
   "metadata": {}
  },
  {
   "cell_type": "code",
   "execution_count": 562,
   "source": [
    "\n",
    "num_pipeline = Pipeline([\n",
    "    ('imputer',SimpleImputer(strategy='mean')),\n",
    "    ('scaler',RobustScaler())\n",
    "])\n",
    "\n",
    "\n",
    "cat_pipeline = Pipeline([\n",
    "    ('encoder',OneHotEncoder())\n",
    "])\n",
    "\n",
    "\n",
    "\n",
    "preprocessor = ColumnTransformer([\n",
    "    # ('Nama Instruksi',fungsinya, data yang akan dieksekusi dengan fungsi tsb)\n",
    "    ('numeric',num_pipeline,num_columns),\n",
    "    ('categoric1',cat_pipeline,cat_columns)\n",
    " \n",
    "])\n",
    "\n",
    "Pipe_knn = Pipeline([\n",
    "    ('prep',preprocessor),\n",
    "    ('algo',KNeighborsClassifier())\n",
    "\n",
    "])"
   ],
   "outputs": [],
   "metadata": {}
  },
  {
   "cell_type": "code",
   "execution_count": 439,
   "source": [
    "Pipe_knn.fit(x_train,y_train)"
   ],
   "outputs": [
    {
     "output_type": "execute_result",
     "data": {
      "text/plain": [
       "Pipeline(steps=[('prep',\n",
       "                 ColumnTransformer(transformers=[('numeric',\n",
       "                                                  Pipeline(steps=[('imputer',\n",
       "                                                                   SimpleImputer()),\n",
       "                                                                  ('scaler',\n",
       "                                                                   RobustScaler())]),\n",
       "                                                  ['previous', 'emp.var.rate',\n",
       "                                                   'cons.price.idx',\n",
       "                                                   'cons.conf.idx',\n",
       "                                                   'euribor3m']),\n",
       "                                                 ('categoric1',\n",
       "                                                  Pipeline(steps=[('encoder',\n",
       "                                                                   OneHotEncoder())]),\n",
       "                                                  ['marital', 'default',\n",
       "                                                   'housing', 'loan', 'contact',\n",
       "                                                   'pdays', 'poutcome',\n",
       "                                                   'Job_Type', 'age_group',\n",
       "                                                   'Edu_Cat'])])),\n",
       "                ('algo', KNeighborsClassifier())])"
      ]
     },
     "metadata": {},
     "execution_count": 439
    }
   ],
   "metadata": {}
  },
  {
   "cell_type": "code",
   "execution_count": 440,
   "source": [
    "knn_hasil_train, knn_hasil_test, knn_evaluation, knn_cm, knn_cr = log_evaluation(x_train, x_test, y_train, y_test, Pipe_knn)"
   ],
   "outputs": [],
   "metadata": {}
  },
  {
   "cell_type": "code",
   "execution_count": 441,
   "source": [
    "knn_evaluation"
   ],
   "outputs": [
    {
     "output_type": "execute_result",
     "data": {
      "text/html": [
       "<div>\n",
       "<style scoped>\n",
       "    .dataframe tbody tr th:only-of-type {\n",
       "        vertical-align: middle;\n",
       "    }\n",
       "\n",
       "    .dataframe tbody tr th {\n",
       "        vertical-align: top;\n",
       "    }\n",
       "\n",
       "    .dataframe thead th {\n",
       "        text-align: right;\n",
       "    }\n",
       "</style>\n",
       "<table border=\"1\" class=\"dataframe\">\n",
       "  <thead>\n",
       "    <tr style=\"text-align: right;\">\n",
       "      <th></th>\n",
       "      <th>Training</th>\n",
       "      <th>Testing</th>\n",
       "    </tr>\n",
       "  </thead>\n",
       "  <tbody>\n",
       "    <tr>\n",
       "      <th>accuracy</th>\n",
       "      <td>0.911718</td>\n",
       "      <td>0.889874</td>\n",
       "    </tr>\n",
       "    <tr>\n",
       "      <th>recall</th>\n",
       "      <td>0.351118</td>\n",
       "      <td>0.239224</td>\n",
       "    </tr>\n",
       "    <tr>\n",
       "      <th>precission</th>\n",
       "      <td>0.722684</td>\n",
       "      <td>0.524823</td>\n",
       "    </tr>\n",
       "    <tr>\n",
       "      <th>F1 Score</th>\n",
       "      <td>0.472615</td>\n",
       "      <td>0.328645</td>\n",
       "    </tr>\n",
       "    <tr>\n",
       "      <th>ROCAUC</th>\n",
       "      <td>0.667006</td>\n",
       "      <td>0.605860</td>\n",
       "    </tr>\n",
       "  </tbody>\n",
       "</table>\n",
       "</div>"
      ],
      "text/plain": [
       "            Training   Testing\n",
       "accuracy    0.911718  0.889874\n",
       "recall      0.351118  0.239224\n",
       "precission  0.722684  0.524823\n",
       "F1 Score    0.472615  0.328645\n",
       "ROCAUC      0.667006  0.605860"
      ]
     },
     "metadata": {},
     "execution_count": 441
    }
   ],
   "metadata": {}
  },
  {
   "cell_type": "code",
   "execution_count": 442,
   "source": [
    "knn_cm"
   ],
   "outputs": [
    {
     "output_type": "execute_result",
     "data": {
      "text/html": [
       "<div>\n",
       "<style scoped>\n",
       "    .dataframe tbody tr th:only-of-type {\n",
       "        vertical-align: middle;\n",
       "    }\n",
       "\n",
       "    .dataframe tbody tr th {\n",
       "        vertical-align: top;\n",
       "    }\n",
       "\n",
       "    .dataframe thead th {\n",
       "        text-align: right;\n",
       "    }\n",
       "</style>\n",
       "<table border=\"1\" class=\"dataframe\">\n",
       "  <thead>\n",
       "    <tr style=\"text-align: right;\">\n",
       "      <th></th>\n",
       "      <th>pred 1</th>\n",
       "      <th>pred 0</th>\n",
       "    </tr>\n",
       "  </thead>\n",
       "  <tbody>\n",
       "    <tr>\n",
       "      <th>akt1</th>\n",
       "      <td>222</td>\n",
       "      <td>706</td>\n",
       "    </tr>\n",
       "    <tr>\n",
       "      <th>akt0</th>\n",
       "      <td>201</td>\n",
       "      <td>7107</td>\n",
       "    </tr>\n",
       "  </tbody>\n",
       "</table>\n",
       "</div>"
      ],
      "text/plain": [
       "      pred 1  pred 0\n",
       "akt1     222     706\n",
       "akt0     201    7107"
      ]
     },
     "metadata": {},
     "execution_count": 442
    }
   ],
   "metadata": {}
  },
  {
   "cell_type": "code",
   "execution_count": 443,
   "source": [
    "print(knn_cr)"
   ],
   "outputs": [
    {
     "output_type": "stream",
     "name": "stdout",
     "text": [
      "              precision    recall  f1-score   support\n",
      "\n",
      "           0       0.91      0.97      0.94      7308\n",
      "           1       0.52      0.24      0.33       928\n",
      "\n",
      "    accuracy                           0.89      8236\n",
      "   macro avg       0.72      0.61      0.63      8236\n",
      "weighted avg       0.87      0.89      0.87      8236\n",
      "\n"
     ]
    }
   ],
   "metadata": {}
  },
  {
   "cell_type": "markdown",
   "source": [
    "### RANDOM FOREST BASE MODEL"
   ],
   "metadata": {}
  },
  {
   "cell_type": "code",
   "execution_count": 563,
   "source": [
    "\n",
    "num_pipeline = Pipeline([\n",
    "    ('imputer',SimpleImputer(strategy='mean'))\n",
    "])\n",
    "\n",
    "\n",
    "cat_pipeline = Pipeline([\n",
    "    ('encoder',OneHotEncoder())\n",
    "])\n",
    "\n",
    "\n",
    "\n",
    "preprocessor = ColumnTransformer([\n",
    "    # ('Nama Instruksi',fungsinya, data yang akan dieksekusi dengan fungsi tsb)\n",
    "    ('numeric',num_pipeline,num_columns),\n",
    "    ('categoric1',cat_pipeline,cat_columns),\n",
    "])\n",
    "\n",
    "Pipe_rf = Pipeline([\n",
    "    ('prep',preprocessor),\n",
    "    ('algo',RandomForestClassifier())\n",
    "\n",
    "])"
   ],
   "outputs": [],
   "metadata": {}
  },
  {
   "cell_type": "code",
   "execution_count": 457,
   "source": [
    "Pipe_rf.fit(x_train,y_train)"
   ],
   "outputs": [
    {
     "output_type": "execute_result",
     "data": {
      "text/plain": [
       "Pipeline(steps=[('prep',\n",
       "                 ColumnTransformer(transformers=[('numeric',\n",
       "                                                  Pipeline(steps=[('imputer',\n",
       "                                                                   SimpleImputer())]),\n",
       "                                                  ['previous', 'emp.var.rate',\n",
       "                                                   'cons.price.idx',\n",
       "                                                   'cons.conf.idx',\n",
       "                                                   'euribor3m']),\n",
       "                                                 ('categoric1',\n",
       "                                                  Pipeline(steps=[('encoder',\n",
       "                                                                   OneHotEncoder())]),\n",
       "                                                  ['marital', 'default',\n",
       "                                                   'housing', 'loan', 'contact',\n",
       "                                                   'pdays', 'poutcome',\n",
       "                                                   'Job_Type', 'age_group',\n",
       "                                                   'Edu_Cat'])])),\n",
       "                ('algo', RandomForestClassifier())])"
      ]
     },
     "metadata": {},
     "execution_count": 457
    }
   ],
   "metadata": {}
  },
  {
   "cell_type": "code",
   "execution_count": 458,
   "source": [
    "rf_hasil_train, rf_hasil_test, rf_evaluation, rf_cm, rf_cr = log_evaluation(x_train, x_test, y_train, y_test, Pipe_rf)"
   ],
   "outputs": [],
   "metadata": {}
  },
  {
   "cell_type": "code",
   "execution_count": 459,
   "source": [
    "rf_evaluation"
   ],
   "outputs": [
    {
     "output_type": "execute_result",
     "data": {
      "text/html": [
       "<div>\n",
       "<style scoped>\n",
       "    .dataframe tbody tr th:only-of-type {\n",
       "        vertical-align: middle;\n",
       "    }\n",
       "\n",
       "    .dataframe tbody tr th {\n",
       "        vertical-align: top;\n",
       "    }\n",
       "\n",
       "    .dataframe thead th {\n",
       "        text-align: right;\n",
       "    }\n",
       "</style>\n",
       "<table border=\"1\" class=\"dataframe\">\n",
       "  <thead>\n",
       "    <tr style=\"text-align: right;\">\n",
       "      <th></th>\n",
       "      <th>Training</th>\n",
       "      <th>Testing</th>\n",
       "    </tr>\n",
       "  </thead>\n",
       "  <tbody>\n",
       "    <tr>\n",
       "      <th>accuracy</th>\n",
       "      <td>0.960231</td>\n",
       "      <td>0.884046</td>\n",
       "    </tr>\n",
       "    <tr>\n",
       "      <th>recall</th>\n",
       "      <td>0.680949</td>\n",
       "      <td>0.281250</td>\n",
       "    </tr>\n",
       "    <tr>\n",
       "      <th>precission</th>\n",
       "      <td>0.952507</td>\n",
       "      <td>0.475410</td>\n",
       "    </tr>\n",
       "    <tr>\n",
       "      <th>F1 Score</th>\n",
       "      <td>0.794155</td>\n",
       "      <td>0.353419</td>\n",
       "    </tr>\n",
       "    <tr>\n",
       "      <th>ROCAUC</th>\n",
       "      <td>0.838319</td>\n",
       "      <td>0.620921</td>\n",
       "    </tr>\n",
       "  </tbody>\n",
       "</table>\n",
       "</div>"
      ],
      "text/plain": [
       "            Training   Testing\n",
       "accuracy    0.960231  0.884046\n",
       "recall      0.680949  0.281250\n",
       "precission  0.952507  0.475410\n",
       "F1 Score    0.794155  0.353419\n",
       "ROCAUC      0.838319  0.620921"
      ]
     },
     "metadata": {},
     "execution_count": 459
    }
   ],
   "metadata": {}
  },
  {
   "cell_type": "code",
   "execution_count": 460,
   "source": [
    "rf_cm"
   ],
   "outputs": [
    {
     "output_type": "execute_result",
     "data": {
      "text/html": [
       "<div>\n",
       "<style scoped>\n",
       "    .dataframe tbody tr th:only-of-type {\n",
       "        vertical-align: middle;\n",
       "    }\n",
       "\n",
       "    .dataframe tbody tr th {\n",
       "        vertical-align: top;\n",
       "    }\n",
       "\n",
       "    .dataframe thead th {\n",
       "        text-align: right;\n",
       "    }\n",
       "</style>\n",
       "<table border=\"1\" class=\"dataframe\">\n",
       "  <thead>\n",
       "    <tr style=\"text-align: right;\">\n",
       "      <th></th>\n",
       "      <th>pred 1</th>\n",
       "      <th>pred 0</th>\n",
       "    </tr>\n",
       "  </thead>\n",
       "  <tbody>\n",
       "    <tr>\n",
       "      <th>akt1</th>\n",
       "      <td>261</td>\n",
       "      <td>667</td>\n",
       "    </tr>\n",
       "    <tr>\n",
       "      <th>akt0</th>\n",
       "      <td>288</td>\n",
       "      <td>7020</td>\n",
       "    </tr>\n",
       "  </tbody>\n",
       "</table>\n",
       "</div>"
      ],
      "text/plain": [
       "      pred 1  pred 0\n",
       "akt1     261     667\n",
       "akt0     288    7020"
      ]
     },
     "metadata": {},
     "execution_count": 460
    }
   ],
   "metadata": {}
  },
  {
   "cell_type": "code",
   "execution_count": 461,
   "source": [
    "print(rf_cr)"
   ],
   "outputs": [
    {
     "output_type": "stream",
     "name": "stdout",
     "text": [
      "              precision    recall  f1-score   support\n",
      "\n",
      "           0       0.91      0.96      0.94      7308\n",
      "           1       0.48      0.28      0.35       928\n",
      "\n",
      "    accuracy                           0.88      8236\n",
      "   macro avg       0.69      0.62      0.64      8236\n",
      "weighted avg       0.86      0.88      0.87      8236\n",
      "\n"
     ]
    }
   ],
   "metadata": {}
  },
  {
   "cell_type": "markdown",
   "source": [
    "## IMPROVEMENT (HYPERTUNING PARAMETER)"
   ],
   "metadata": {}
  },
  {
   "cell_type": "markdown",
   "source": [
    "insialiasasi k fold untuk nanti digunakan dalam hyperparameter tuning"
   ],
   "metadata": {}
  },
  {
   "cell_type": "code",
   "execution_count": 356,
   "source": [
    "skf = StratifiedKFold(n_splits=4)"
   ],
   "outputs": [],
   "metadata": {}
  },
  {
   "cell_type": "markdown",
   "source": [
    "### Logistic Regression"
   ],
   "metadata": {}
  },
  {
   "cell_type": "markdown",
   "source": [
    "#### CLASS WEIGHT"
   ],
   "metadata": {}
  },
  {
   "cell_type": "code",
   "execution_count": 354,
   "source": [
    "Pipe_lr.get_params()"
   ],
   "outputs": [
    {
     "output_type": "execute_result",
     "data": {
      "text/plain": [
       "{'memory': None,\n",
       " 'steps': [('prep', ColumnTransformer(transformers=[('numeric',\n",
       "                                    Pipeline(steps=[('imputer', SimpleImputer())]),\n",
       "                                    ['previous', 'emp.var.rate', 'cons.price.idx',\n",
       "                                     'cons.conf.idx', 'euribor3m']),\n",
       "                                   ('categoric1',\n",
       "                                    Pipeline(steps=[('encoder', OneHotEncoder())]),\n",
       "                                    ['marital', 'default', 'housing', 'loan',\n",
       "                                     'contact', 'pdays', 'poutcome', 'Job_Type',\n",
       "                                     'age_group', 'Edu_Cat'])])),\n",
       "  ('algo', LogisticRegression())],\n",
       " 'verbose': False,\n",
       " 'prep': ColumnTransformer(transformers=[('numeric',\n",
       "                                  Pipeline(steps=[('imputer', SimpleImputer())]),\n",
       "                                  ['previous', 'emp.var.rate', 'cons.price.idx',\n",
       "                                   'cons.conf.idx', 'euribor3m']),\n",
       "                                 ('categoric1',\n",
       "                                  Pipeline(steps=[('encoder', OneHotEncoder())]),\n",
       "                                  ['marital', 'default', 'housing', 'loan',\n",
       "                                   'contact', 'pdays', 'poutcome', 'Job_Type',\n",
       "                                   'age_group', 'Edu_Cat'])]),\n",
       " 'algo': LogisticRegression(),\n",
       " 'prep__n_jobs': None,\n",
       " 'prep__remainder': 'drop',\n",
       " 'prep__sparse_threshold': 0.3,\n",
       " 'prep__transformer_weights': None,\n",
       " 'prep__transformers': [('numeric',\n",
       "   Pipeline(steps=[('imputer', SimpleImputer())]),\n",
       "   ['previous',\n",
       "    'emp.var.rate',\n",
       "    'cons.price.idx',\n",
       "    'cons.conf.idx',\n",
       "    'euribor3m']),\n",
       "  ('categoric1',\n",
       "   Pipeline(steps=[('encoder', OneHotEncoder())]),\n",
       "   ['marital',\n",
       "    'default',\n",
       "    'housing',\n",
       "    'loan',\n",
       "    'contact',\n",
       "    'pdays',\n",
       "    'poutcome',\n",
       "    'Job_Type',\n",
       "    'age_group',\n",
       "    'Edu_Cat'])],\n",
       " 'prep__verbose': False,\n",
       " 'prep__numeric': Pipeline(steps=[('imputer', SimpleImputer())]),\n",
       " 'prep__categoric1': Pipeline(steps=[('encoder', OneHotEncoder())]),\n",
       " 'prep__numeric__memory': None,\n",
       " 'prep__numeric__steps': [('imputer', SimpleImputer())],\n",
       " 'prep__numeric__verbose': False,\n",
       " 'prep__numeric__imputer': SimpleImputer(),\n",
       " 'prep__numeric__imputer__add_indicator': False,\n",
       " 'prep__numeric__imputer__copy': True,\n",
       " 'prep__numeric__imputer__fill_value': None,\n",
       " 'prep__numeric__imputer__missing_values': nan,\n",
       " 'prep__numeric__imputer__strategy': 'mean',\n",
       " 'prep__numeric__imputer__verbose': 0,\n",
       " 'prep__categoric1__memory': None,\n",
       " 'prep__categoric1__steps': [('encoder', OneHotEncoder())],\n",
       " 'prep__categoric1__verbose': False,\n",
       " 'prep__categoric1__encoder': OneHotEncoder(),\n",
       " 'prep__categoric1__encoder__categories': 'auto',\n",
       " 'prep__categoric1__encoder__drop': None,\n",
       " 'prep__categoric1__encoder__dtype': numpy.float64,\n",
       " 'prep__categoric1__encoder__handle_unknown': 'error',\n",
       " 'prep__categoric1__encoder__sparse': True,\n",
       " 'algo__C': 1.0,\n",
       " 'algo__class_weight': None,\n",
       " 'algo__dual': False,\n",
       " 'algo__fit_intercept': True,\n",
       " 'algo__intercept_scaling': 1,\n",
       " 'algo__l1_ratio': None,\n",
       " 'algo__max_iter': 100,\n",
       " 'algo__multi_class': 'auto',\n",
       " 'algo__n_jobs': None,\n",
       " 'algo__penalty': 'l2',\n",
       " 'algo__random_state': None,\n",
       " 'algo__solver': 'lbfgs',\n",
       " 'algo__tol': 0.0001,\n",
       " 'algo__verbose': 0,\n",
       " 'algo__warm_start': False}"
      ]
     },
     "metadata": {},
     "execution_count": 354
    }
   ],
   "metadata": {}
  },
  {
   "cell_type": "code",
   "execution_count": 357,
   "source": [
    "weights = [0.10, 0.25, 0.50, 0.75, 0.9]\n",
    "weights"
   ],
   "outputs": [
    {
     "output_type": "execute_result",
     "data": {
      "text/plain": [
       "[0.1, 0.25, 0.5, 0.75, 0.9]"
      ]
     },
     "metadata": {},
     "execution_count": 357
    }
   ],
   "metadata": {}
  },
  {
   "cell_type": "code",
   "execution_count": 462,
   "source": [
    "pm_lr = {\n",
    "    'algo__C' : np.arange(0,2,0.1),\n",
    "    'algo__penalty' : [\"l1\",\"l2\",\"elasticnet\"],\n",
    "    'algo__class_weight': [{0:x, 1:1.0-x} for x in weights]\n",
    "}"
   ],
   "outputs": [],
   "metadata": {}
  },
  {
   "cell_type": "code",
   "execution_count": 463,
   "source": [
    "gs_lr = gs_lr = GridSearchCV(Pipe_lr, pm_lr, cv=skf, n_jobs=-1, verbose=-1, scoring=\"recall\")"
   ],
   "outputs": [],
   "metadata": {}
  },
  {
   "cell_type": "code",
   "execution_count": 464,
   "source": [
    "gs_lr.fit(x_train,y_train)"
   ],
   "outputs": [
    {
     "output_type": "execute_result",
     "data": {
      "text/plain": [
       "GridSearchCV(cv=StratifiedKFold(n_splits=4, random_state=None, shuffle=False),\n",
       "             estimator=Pipeline(steps=[('prep',\n",
       "                                        ColumnTransformer(transformers=[('numeric',\n",
       "                                                                         Pipeline(steps=[('imputer',\n",
       "                                                                                          SimpleImputer())]),\n",
       "                                                                         ['previous',\n",
       "                                                                          'emp.var.rate',\n",
       "                                                                          'cons.price.idx',\n",
       "                                                                          'cons.conf.idx',\n",
       "                                                                          'euribor3m']),\n",
       "                                                                        ('categoric1',\n",
       "                                                                         Pipeline(steps=[('encoder',\n",
       "                                                                                          OneHotEncoder())]),\n",
       "                                                                         ['marital',\n",
       "                                                                          'defau...\n",
       "                                                                          'age_group',\n",
       "                                                                          'Edu_Cat'])])),\n",
       "                                       ('algo', LogisticRegression())]),\n",
       "             n_jobs=-1,\n",
       "             param_grid={'algo__C': array([0. , 0.1, 0.2, 0.3, 0.4, 0.5, 0.6, 0.7, 0.8, 0.9, 1. , 1.1, 1.2,\n",
       "       1.3, 1.4, 1.5, 1.6, 1.7, 1.8, 1.9]),\n",
       "                         'algo__class_weight': [{0: 0.1, 1: 0.9},\n",
       "                                                {0: 0.25, 1: 0.75},\n",
       "                                                {0: 0.5, 1: 0.5},\n",
       "                                                {0: 0.75, 1: 0.25},\n",
       "                                                {0: 0.9,\n",
       "                                                 1: 0.09999999999999998}],\n",
       "                         'algo__penalty': ['l1', 'l2', 'elasticnet']},\n",
       "             scoring='recall', verbose=-1)"
      ]
     },
     "metadata": {},
     "execution_count": 464
    }
   ],
   "metadata": {}
  },
  {
   "cell_type": "code",
   "execution_count": 465,
   "source": [
    "gs_lr.best_params_"
   ],
   "outputs": [
    {
     "output_type": "execute_result",
     "data": {
      "text/plain": [
       "{'algo__C': 0.1, 'algo__class_weight': {0: 0.1, 1: 0.9}, 'algo__penalty': 'l2'}"
      ]
     },
     "metadata": {},
     "execution_count": 465
    }
   ],
   "metadata": {}
  },
  {
   "cell_type": "code",
   "execution_count": 466,
   "source": [
    "lr_cw = gs_lr.best_estimator_"
   ],
   "outputs": [],
   "metadata": {}
  },
  {
   "cell_type": "code",
   "execution_count": 467,
   "source": [
    "lr_cw_hasil_train, lr_cw_hasil_test, lr_cw_evaluation, lr_cw_cm, lr_cw_cr = log_evaluation(x_train, x_test, y_train, y_test, lr_cw)"
   ],
   "outputs": [],
   "metadata": {}
  },
  {
   "cell_type": "code",
   "execution_count": 468,
   "source": [
    "lr_cw_evaluation"
   ],
   "outputs": [
    {
     "output_type": "execute_result",
     "data": {
      "text/html": [
       "<div>\n",
       "<style scoped>\n",
       "    .dataframe tbody tr th:only-of-type {\n",
       "        vertical-align: middle;\n",
       "    }\n",
       "\n",
       "    .dataframe tbody tr th {\n",
       "        vertical-align: top;\n",
       "    }\n",
       "\n",
       "    .dataframe thead th {\n",
       "        text-align: right;\n",
       "    }\n",
       "</style>\n",
       "<table border=\"1\" class=\"dataframe\">\n",
       "  <thead>\n",
       "    <tr style=\"text-align: right;\">\n",
       "      <th></th>\n",
       "      <th>Training</th>\n",
       "      <th>Testing</th>\n",
       "    </tr>\n",
       "  </thead>\n",
       "  <tbody>\n",
       "    <tr>\n",
       "      <th>accuracy</th>\n",
       "      <td>0.736460</td>\n",
       "      <td>0.744900</td>\n",
       "    </tr>\n",
       "    <tr>\n",
       "      <th>recall</th>\n",
       "      <td>0.694422</td>\n",
       "      <td>0.718750</td>\n",
       "    </tr>\n",
       "    <tr>\n",
       "      <th>precission</th>\n",
       "      <td>0.254544</td>\n",
       "      <td>0.266055</td>\n",
       "    </tr>\n",
       "    <tr>\n",
       "      <th>F1 Score</th>\n",
       "      <td>0.372533</td>\n",
       "      <td>0.388355</td>\n",
       "    </tr>\n",
       "    <tr>\n",
       "      <th>ROCAUC</th>\n",
       "      <td>0.718110</td>\n",
       "      <td>0.733486</td>\n",
       "    </tr>\n",
       "  </tbody>\n",
       "</table>\n",
       "</div>"
      ],
      "text/plain": [
       "            Training   Testing\n",
       "accuracy    0.736460  0.744900\n",
       "recall      0.694422  0.718750\n",
       "precission  0.254544  0.266055\n",
       "F1 Score    0.372533  0.388355\n",
       "ROCAUC      0.718110  0.733486"
      ]
     },
     "metadata": {},
     "execution_count": 468
    }
   ],
   "metadata": {}
  },
  {
   "cell_type": "code",
   "execution_count": 469,
   "source": [
    "lr_cw_cm"
   ],
   "outputs": [
    {
     "output_type": "execute_result",
     "data": {
      "text/html": [
       "<div>\n",
       "<style scoped>\n",
       "    .dataframe tbody tr th:only-of-type {\n",
       "        vertical-align: middle;\n",
       "    }\n",
       "\n",
       "    .dataframe tbody tr th {\n",
       "        vertical-align: top;\n",
       "    }\n",
       "\n",
       "    .dataframe thead th {\n",
       "        text-align: right;\n",
       "    }\n",
       "</style>\n",
       "<table border=\"1\" class=\"dataframe\">\n",
       "  <thead>\n",
       "    <tr style=\"text-align: right;\">\n",
       "      <th></th>\n",
       "      <th>pred 1</th>\n",
       "      <th>pred 0</th>\n",
       "    </tr>\n",
       "  </thead>\n",
       "  <tbody>\n",
       "    <tr>\n",
       "      <th>akt1</th>\n",
       "      <td>667</td>\n",
       "      <td>261</td>\n",
       "    </tr>\n",
       "    <tr>\n",
       "      <th>akt0</th>\n",
       "      <td>1840</td>\n",
       "      <td>5468</td>\n",
       "    </tr>\n",
       "  </tbody>\n",
       "</table>\n",
       "</div>"
      ],
      "text/plain": [
       "      pred 1  pred 0\n",
       "akt1     667     261\n",
       "akt0    1840    5468"
      ]
     },
     "metadata": {},
     "execution_count": 469
    }
   ],
   "metadata": {}
  },
  {
   "cell_type": "code",
   "execution_count": 470,
   "source": [
    "print(lr_cw_cr)"
   ],
   "outputs": [
    {
     "output_type": "stream",
     "name": "stdout",
     "text": [
      "              precision    recall  f1-score   support\n",
      "\n",
      "           0       0.95      0.75      0.84      7308\n",
      "           1       0.27      0.72      0.39       928\n",
      "\n",
      "    accuracy                           0.74      8236\n",
      "   macro avg       0.61      0.73      0.61      8236\n",
      "weighted avg       0.88      0.74      0.79      8236\n",
      "\n"
     ]
    }
   ],
   "metadata": {}
  },
  {
   "cell_type": "markdown",
   "source": [
    "#### OVERSAMPLING"
   ],
   "metadata": {}
  },
  {
   "cell_type": "code",
   "execution_count": 409,
   "source": [
    "x_train_prep = preprocessor.fit_transform(x_train)\n",
    "x_test_prep = preprocessor.fit_transform(x_test)"
   ],
   "outputs": [],
   "metadata": {}
  },
  {
   "cell_type": "code",
   "execution_count": 714,
   "source": [
    "df_sample = pd.concat([x_train,y_train],axis=1)"
   ],
   "outputs": [],
   "metadata": {}
  },
  {
   "cell_type": "code",
   "execution_count": 715,
   "source": [
    "accept = df_sample[df_sample['y'] == 1] ##class minority\n",
    "reject = df_sample[df_sample['y'] == 0] ##class majority"
   ],
   "outputs": [],
   "metadata": {}
  },
  {
   "cell_type": "code",
   "execution_count": 680,
   "source": [
    "from sklearn.utils import resample"
   ],
   "outputs": [],
   "metadata": {}
  },
  {
   "cell_type": "code",
   "execution_count": 681,
   "source": [
    "accept_oversample = resample(accept, ##kelas minority\n",
    "                            replace = True,#data asli di replace karena udah disampling\n",
    "                            n_samples = len(reject), ## kelas majoritylen\n",
    "                            random_state = 42)"
   ],
   "outputs": [],
   "metadata": {}
  },
  {
   "cell_type": "code",
   "execution_count": 682,
   "source": [
    "len(reject)"
   ],
   "outputs": [
    {
     "output_type": "execute_result",
     "data": {
      "text/plain": [
       "29229"
      ]
     },
     "metadata": {},
     "execution_count": 682
    }
   ],
   "metadata": {}
  },
  {
   "cell_type": "code",
   "execution_count": 683,
   "source": [
    "len(accept_oversample)"
   ],
   "outputs": [
    {
     "output_type": "execute_result",
     "data": {
      "text/plain": [
       "29229"
      ]
     },
     "metadata": {},
     "execution_count": 683
    }
   ],
   "metadata": {}
  },
  {
   "cell_type": "code",
   "execution_count": 684,
   "source": [
    "df_oversample = pd.concat([accept_oversample, reject])"
   ],
   "outputs": [],
   "metadata": {}
  },
  {
   "cell_type": "code",
   "execution_count": 386,
   "source": [
    "df_oversample.dtypes"
   ],
   "outputs": [
    {
     "output_type": "execute_result",
     "data": {
      "text/plain": [
       "marital             object\n",
       "default             object\n",
       "housing             object\n",
       "loan                object\n",
       "contact             object\n",
       "pdays               object\n",
       "previous             int64\n",
       "poutcome            object\n",
       "emp.var.rate       float64\n",
       "cons.price.idx     float64\n",
       "cons.conf.idx      float64\n",
       "euribor3m          float64\n",
       "y                    int64\n",
       "age_group         category\n",
       "Job_Type            object\n",
       "Edu_Cat             object\n",
       "dtype: object"
      ]
     },
     "metadata": {},
     "execution_count": 386
    }
   ],
   "metadata": {}
  },
  {
   "cell_type": "code",
   "execution_count": 387,
   "source": [
    "df_oversample.replace([np.inf, -np.inf], np.nan, inplace=True)"
   ],
   "outputs": [],
   "metadata": {}
  },
  {
   "cell_type": "code",
   "execution_count": 388,
   "source": [
    "df_oversample.isna().sum()"
   ],
   "outputs": [
    {
     "output_type": "execute_result",
     "data": {
      "text/plain": [
       "marital           0\n",
       "default           0\n",
       "housing           0\n",
       "loan              0\n",
       "contact           0\n",
       "pdays             0\n",
       "previous          0\n",
       "poutcome          0\n",
       "emp.var.rate      0\n",
       "cons.price.idx    0\n",
       "cons.conf.idx     0\n",
       "euribor3m         0\n",
       "y                 0\n",
       "age_group         0\n",
       "Job_Type          0\n",
       "Edu_Cat           0\n",
       "dtype: int64"
      ]
     },
     "metadata": {},
     "execution_count": 388
    }
   ],
   "metadata": {}
  },
  {
   "cell_type": "code",
   "execution_count": 685,
   "source": [
    "x_train_os = df_oversample.drop(columns='y')\n",
    "y_train_os = df_oversample['y']"
   ],
   "outputs": [],
   "metadata": {}
  },
  {
   "cell_type": "code",
   "execution_count": 686,
   "source": [
    "pm_lr_os = {\n",
    "    'algo__C' : np.arange(0,2,0.1),\n",
    "    'algo__penalty' : [\"l2\",\"none\"]\n",
    "    \n",
    "}"
   ],
   "outputs": [],
   "metadata": {}
  },
  {
   "cell_type": "code",
   "execution_count": 687,
   "source": [
    "gs_lr_os = GridSearchCV(Pipe_lr, pm_lr_os, cv=skf, n_jobs=-1, verbose=-1,scoring = \"recall\")"
   ],
   "outputs": [],
   "metadata": {}
  },
  {
   "cell_type": "code",
   "execution_count": 688,
   "source": [
    "gs_lr_os.fit(x_train_os,y_train_os)"
   ],
   "outputs": [
    {
     "output_type": "execute_result",
     "data": {
      "text/plain": [
       "GridSearchCV(cv=StratifiedKFold(n_splits=4, random_state=None, shuffle=False),\n",
       "             estimator=Pipeline(steps=[('prep',\n",
       "                                        ColumnTransformer(transformers=[('numeric',\n",
       "                                                                         Pipeline(steps=[('imputer',\n",
       "                                                                                          SimpleImputer())]),\n",
       "                                                                         ['previous',\n",
       "                                                                          'emp.var.rate',\n",
       "                                                                          'cons.price.idx',\n",
       "                                                                          'cons.conf.idx',\n",
       "                                                                          'euribor3m']),\n",
       "                                                                        ('categoric1',\n",
       "                                                                         Pipeline(steps=[('encoder',\n",
       "                                                                                          OneHotEncoder())]),\n",
       "                                                                         ['marital',\n",
       "                                                                          'default',\n",
       "                                                                          'housing',\n",
       "                                                                          'loan',\n",
       "                                                                          'contact',\n",
       "                                                                          'pdays',\n",
       "                                                                          'poutcome',\n",
       "                                                                          'Job_Type',\n",
       "                                                                          'age_group',\n",
       "                                                                          'Edu_Cat'])])),\n",
       "                                       ('algo', LogisticRegression())]),\n",
       "             n_jobs=-1,\n",
       "             param_grid={'algo__C': array([0. , 0.1, 0.2, 0.3, 0.4, 0.5, 0.6, 0.7, 0.8, 0.9, 1. , 1.1, 1.2,\n",
       "       1.3, 1.4, 1.5, 1.6, 1.7, 1.8, 1.9]),\n",
       "                         'algo__penalty': ['l2', 'none']},\n",
       "             scoring='recall', verbose=-1)"
      ]
     },
     "metadata": {},
     "execution_count": 688
    }
   ],
   "metadata": {}
  },
  {
   "cell_type": "code",
   "execution_count": 689,
   "source": [
    "gs_lr_os.best_params_"
   ],
   "outputs": [
    {
     "output_type": "execute_result",
     "data": {
      "text/plain": [
       "{'algo__C': 0.2, 'algo__penalty': 'l2'}"
      ]
     },
     "metadata": {},
     "execution_count": 689
    }
   ],
   "metadata": {}
  },
  {
   "cell_type": "code",
   "execution_count": 690,
   "source": [
    "lr_os = gs_lr_os.best_estimator_"
   ],
   "outputs": [],
   "metadata": {}
  },
  {
   "cell_type": "code",
   "execution_count": 705,
   "source": [
    "lr_os_hasil_train, lr_os_hasil_test, lr_os_evaluation, lr_os_cm, lr_os_cr = log_evaluation(x_train_os, x_test, y_train_os, y_test, lr_os)"
   ],
   "outputs": [],
   "metadata": {}
  },
  {
   "cell_type": "code",
   "execution_count": 706,
   "source": [
    "lr_os_evaluation"
   ],
   "outputs": [
    {
     "output_type": "execute_result",
     "data": {
      "text/html": [
       "<div>\n",
       "<style scoped>\n",
       "    .dataframe tbody tr th:only-of-type {\n",
       "        vertical-align: middle;\n",
       "    }\n",
       "\n",
       "    .dataframe tbody tr th {\n",
       "        vertical-align: top;\n",
       "    }\n",
       "\n",
       "    .dataframe thead th {\n",
       "        text-align: right;\n",
       "    }\n",
       "</style>\n",
       "<table border=\"1\" class=\"dataframe\">\n",
       "  <thead>\n",
       "    <tr style=\"text-align: right;\">\n",
       "      <th></th>\n",
       "      <th>Training</th>\n",
       "      <th>Testing</th>\n",
       "    </tr>\n",
       "  </thead>\n",
       "  <tbody>\n",
       "    <tr>\n",
       "      <th>accuracy</th>\n",
       "      <td>0.723135</td>\n",
       "      <td>0.766391</td>\n",
       "    </tr>\n",
       "    <tr>\n",
       "      <th>recall</th>\n",
       "      <td>0.679565</td>\n",
       "      <td>0.701509</td>\n",
       "    </tr>\n",
       "    <tr>\n",
       "      <th>precission</th>\n",
       "      <td>0.744434</td>\n",
       "      <td>0.283290</td>\n",
       "    </tr>\n",
       "    <tr>\n",
       "      <th>F1 Score</th>\n",
       "      <td>0.710522</td>\n",
       "      <td>0.403596</td>\n",
       "    </tr>\n",
       "    <tr>\n",
       "      <th>ROCAUC</th>\n",
       "      <td>0.723135</td>\n",
       "      <td>0.738070</td>\n",
       "    </tr>\n",
       "  </tbody>\n",
       "</table>\n",
       "</div>"
      ],
      "text/plain": [
       "            Training   Testing\n",
       "accuracy    0.723135  0.766391\n",
       "recall      0.679565  0.701509\n",
       "precission  0.744434  0.283290\n",
       "F1 Score    0.710522  0.403596\n",
       "ROCAUC      0.723135  0.738070"
      ]
     },
     "metadata": {},
     "execution_count": 706
    }
   ],
   "metadata": {}
  },
  {
   "cell_type": "code",
   "execution_count": 707,
   "source": [
    "lr_os_cm"
   ],
   "outputs": [
    {
     "output_type": "execute_result",
     "data": {
      "text/html": [
       "<div>\n",
       "<style scoped>\n",
       "    .dataframe tbody tr th:only-of-type {\n",
       "        vertical-align: middle;\n",
       "    }\n",
       "\n",
       "    .dataframe tbody tr th {\n",
       "        vertical-align: top;\n",
       "    }\n",
       "\n",
       "    .dataframe thead th {\n",
       "        text-align: right;\n",
       "    }\n",
       "</style>\n",
       "<table border=\"1\" class=\"dataframe\">\n",
       "  <thead>\n",
       "    <tr style=\"text-align: right;\">\n",
       "      <th></th>\n",
       "      <th>pred 1</th>\n",
       "      <th>pred 0</th>\n",
       "    </tr>\n",
       "  </thead>\n",
       "  <tbody>\n",
       "    <tr>\n",
       "      <th>akt1</th>\n",
       "      <td>651</td>\n",
       "      <td>277</td>\n",
       "    </tr>\n",
       "    <tr>\n",
       "      <th>akt0</th>\n",
       "      <td>1647</td>\n",
       "      <td>5661</td>\n",
       "    </tr>\n",
       "  </tbody>\n",
       "</table>\n",
       "</div>"
      ],
      "text/plain": [
       "      pred 1  pred 0\n",
       "akt1     651     277\n",
       "akt0    1647    5661"
      ]
     },
     "metadata": {},
     "execution_count": 707
    }
   ],
   "metadata": {}
  },
  {
   "cell_type": "code",
   "execution_count": 708,
   "source": [
    "print(lr_os_cr)"
   ],
   "outputs": [
    {
     "output_type": "stream",
     "name": "stdout",
     "text": [
      "              precision    recall  f1-score   support\n",
      "\n",
      "           0       0.95      0.77      0.85      7308\n",
      "           1       0.28      0.70      0.40       928\n",
      "\n",
      "    accuracy                           0.77      8236\n",
      "   macro avg       0.62      0.74      0.63      8236\n",
      "weighted avg       0.88      0.77      0.80      8236\n",
      "\n"
     ]
    }
   ],
   "metadata": {}
  },
  {
   "cell_type": "markdown",
   "source": [
    "### KNN "
   ],
   "metadata": {}
  },
  {
   "cell_type": "code",
   "execution_count": 435,
   "source": [
    "Pipe_knn.get_params()"
   ],
   "outputs": [
    {
     "output_type": "execute_result",
     "data": {
      "text/plain": [
       "{'memory': None,\n",
       " 'steps': [('prep', ColumnTransformer(transformers=[('numeric',\n",
       "                                    Pipeline(steps=[('imputer', SimpleImputer())]),\n",
       "                                    ['previous', 'emp.var.rate', 'cons.price.idx',\n",
       "                                     'cons.conf.idx', 'euribor3m']),\n",
       "                                   ('categoric1',\n",
       "                                    Pipeline(steps=[('encoder', OneHotEncoder())]),\n",
       "                                    ['marital', 'default', 'housing', 'loan',\n",
       "                                     'contact', 'pdays', 'poutcome', 'Job_Type',\n",
       "                                     'age_group', 'Edu_Cat'])])),\n",
       "  ('algo', KNeighborsClassifier())],\n",
       " 'verbose': False,\n",
       " 'prep': ColumnTransformer(transformers=[('numeric',\n",
       "                                  Pipeline(steps=[('imputer', SimpleImputer())]),\n",
       "                                  ['previous', 'emp.var.rate', 'cons.price.idx',\n",
       "                                   'cons.conf.idx', 'euribor3m']),\n",
       "                                 ('categoric1',\n",
       "                                  Pipeline(steps=[('encoder', OneHotEncoder())]),\n",
       "                                  ['marital', 'default', 'housing', 'loan',\n",
       "                                   'contact', 'pdays', 'poutcome', 'Job_Type',\n",
       "                                   'age_group', 'Edu_Cat'])]),\n",
       " 'algo': KNeighborsClassifier(),\n",
       " 'prep__n_jobs': None,\n",
       " 'prep__remainder': 'drop',\n",
       " 'prep__sparse_threshold': 0.3,\n",
       " 'prep__transformer_weights': None,\n",
       " 'prep__transformers': [('numeric',\n",
       "   Pipeline(steps=[('imputer', SimpleImputer())]),\n",
       "   ['previous',\n",
       "    'emp.var.rate',\n",
       "    'cons.price.idx',\n",
       "    'cons.conf.idx',\n",
       "    'euribor3m']),\n",
       "  ('categoric1',\n",
       "   Pipeline(steps=[('encoder', OneHotEncoder())]),\n",
       "   ['marital',\n",
       "    'default',\n",
       "    'housing',\n",
       "    'loan',\n",
       "    'contact',\n",
       "    'pdays',\n",
       "    'poutcome',\n",
       "    'Job_Type',\n",
       "    'age_group',\n",
       "    'Edu_Cat'])],\n",
       " 'prep__verbose': False,\n",
       " 'prep__numeric': Pipeline(steps=[('imputer', SimpleImputer())]),\n",
       " 'prep__categoric1': Pipeline(steps=[('encoder', OneHotEncoder())]),\n",
       " 'prep__numeric__memory': None,\n",
       " 'prep__numeric__steps': [('imputer', SimpleImputer())],\n",
       " 'prep__numeric__verbose': False,\n",
       " 'prep__numeric__imputer': SimpleImputer(),\n",
       " 'prep__numeric__imputer__add_indicator': False,\n",
       " 'prep__numeric__imputer__copy': True,\n",
       " 'prep__numeric__imputer__fill_value': None,\n",
       " 'prep__numeric__imputer__missing_values': nan,\n",
       " 'prep__numeric__imputer__strategy': 'mean',\n",
       " 'prep__numeric__imputer__verbose': 0,\n",
       " 'prep__categoric1__memory': None,\n",
       " 'prep__categoric1__steps': [('encoder', OneHotEncoder())],\n",
       " 'prep__categoric1__verbose': False,\n",
       " 'prep__categoric1__encoder': OneHotEncoder(),\n",
       " 'prep__categoric1__encoder__categories': 'auto',\n",
       " 'prep__categoric1__encoder__drop': None,\n",
       " 'prep__categoric1__encoder__dtype': numpy.float64,\n",
       " 'prep__categoric1__encoder__handle_unknown': 'error',\n",
       " 'prep__categoric1__encoder__sparse': True,\n",
       " 'algo__algorithm': 'auto',\n",
       " 'algo__leaf_size': 30,\n",
       " 'algo__metric': 'minkowski',\n",
       " 'algo__metric_params': None,\n",
       " 'algo__n_jobs': None,\n",
       " 'algo__n_neighbors': 5,\n",
       " 'algo__p': 2,\n",
       " 'algo__weights': 'uniform'}"
      ]
     },
     "metadata": {},
     "execution_count": 435
    }
   ],
   "metadata": {}
  },
  {
   "cell_type": "code",
   "execution_count": 436,
   "source": [
    "pr_knn = {\n",
    "    \"algo__n_neighbors\" : np.arange(1,5,2) ,\n",
    "    \"algo__weights\" : [\"uniform\", \"distance\"] ,\n",
    "    \"algo__p\" : [1,2] ,\n",
    "}"
   ],
   "outputs": [],
   "metadata": {}
  },
  {
   "cell_type": "code",
   "execution_count": 437,
   "source": [
    "gs_knn = GridSearchCV(Pipe_knn, pr_knn ,cv=skf,n_jobs=-1,verbose=-1, scoring = \"recall\")"
   ],
   "outputs": [],
   "metadata": {}
  },
  {
   "cell_type": "code",
   "execution_count": 472,
   "source": [
    "gs_knn.fit(x_train,y_train)"
   ],
   "outputs": [
    {
     "output_type": "execute_result",
     "data": {
      "text/plain": [
       "GridSearchCV(cv=StratifiedKFold(n_splits=4, random_state=None, shuffle=False),\n",
       "             estimator=Pipeline(steps=[('prep',\n",
       "                                        ColumnTransformer(transformers=[('numeric',\n",
       "                                                                         Pipeline(steps=[('imputer',\n",
       "                                                                                          SimpleImputer())]),\n",
       "                                                                         ['previous',\n",
       "                                                                          'emp.var.rate',\n",
       "                                                                          'cons.price.idx',\n",
       "                                                                          'cons.conf.idx',\n",
       "                                                                          'euribor3m']),\n",
       "                                                                        ('categoric1',\n",
       "                                                                         Pipeline(steps=[('encoder',\n",
       "                                                                                          OneHotEncoder())]),\n",
       "                                                                         ['marital',\n",
       "                                                                          'default',\n",
       "                                                                          'housing',\n",
       "                                                                          'loan',\n",
       "                                                                          'contact',\n",
       "                                                                          'pdays',\n",
       "                                                                          'poutcome',\n",
       "                                                                          'Job_Type',\n",
       "                                                                          'age_group',\n",
       "                                                                          'Edu_Cat'])])),\n",
       "                                       ('algo', KNeighborsClassifier())]),\n",
       "             n_jobs=-1,\n",
       "             param_grid={'algo__n_neighbors': array([1, 3]), 'algo__p': [1, 2],\n",
       "                         'algo__weights': ['uniform', 'distance']},\n",
       "             scoring='recall', verbose=-1)"
      ]
     },
     "metadata": {},
     "execution_count": 472
    }
   ],
   "metadata": {}
  },
  {
   "cell_type": "code",
   "execution_count": 473,
   "source": [
    "gs_knn.best_params_"
   ],
   "outputs": [
    {
     "output_type": "execute_result",
     "data": {
      "text/plain": [
       "{'algo__n_neighbors': 1, 'algo__p': 1, 'algo__weights': 'uniform'}"
      ]
     },
     "metadata": {},
     "execution_count": 473
    }
   ],
   "metadata": {}
  },
  {
   "cell_type": "code",
   "execution_count": 474,
   "source": [
    "knn_t = gs_knn.best_estimator_"
   ],
   "outputs": [],
   "metadata": {}
  },
  {
   "cell_type": "code",
   "execution_count": 674,
   "source": [
    "knn_t_hasil_train, knn_t_hasil_test, knn_t_evaluation, knn_t_cm, knn_t_cr = log_evaluation(x_train, x_test, y_train, y_test, knn_t)"
   ],
   "outputs": [],
   "metadata": {}
  },
  {
   "cell_type": "code",
   "execution_count": 675,
   "source": [
    "knn_t_evaluation"
   ],
   "outputs": [
    {
     "output_type": "execute_result",
     "data": {
      "text/html": [
       "<div>\n",
       "<style scoped>\n",
       "    .dataframe tbody tr th:only-of-type {\n",
       "        vertical-align: middle;\n",
       "    }\n",
       "\n",
       "    .dataframe tbody tr th {\n",
       "        vertical-align: top;\n",
       "    }\n",
       "\n",
       "    .dataframe thead th {\n",
       "        text-align: right;\n",
       "    }\n",
       "</style>\n",
       "<table border=\"1\" class=\"dataframe\">\n",
       "  <thead>\n",
       "    <tr style=\"text-align: right;\">\n",
       "      <th></th>\n",
       "      <th>Training</th>\n",
       "      <th>Testing</th>\n",
       "    </tr>\n",
       "  </thead>\n",
       "  <tbody>\n",
       "    <tr>\n",
       "      <th>accuracy</th>\n",
       "      <td>0.945112</td>\n",
       "      <td>0.849441</td>\n",
       "    </tr>\n",
       "    <tr>\n",
       "      <th>recall</th>\n",
       "      <td>0.745621</td>\n",
       "      <td>0.300647</td>\n",
       "    </tr>\n",
       "    <tr>\n",
       "      <th>precission</th>\n",
       "      <td>0.762049</td>\n",
       "      <td>0.320690</td>\n",
       "    </tr>\n",
       "    <tr>\n",
       "      <th>F1 Score</th>\n",
       "      <td>0.753746</td>\n",
       "      <td>0.310345</td>\n",
       "    </tr>\n",
       "    <tr>\n",
       "      <th>ROCAUC</th>\n",
       "      <td>0.858031</td>\n",
       "      <td>0.609888</td>\n",
       "    </tr>\n",
       "  </tbody>\n",
       "</table>\n",
       "</div>"
      ],
      "text/plain": [
       "            Training   Testing\n",
       "accuracy    0.945112  0.849441\n",
       "recall      0.745621  0.300647\n",
       "precission  0.762049  0.320690\n",
       "F1 Score    0.753746  0.310345\n",
       "ROCAUC      0.858031  0.609888"
      ]
     },
     "metadata": {},
     "execution_count": 675
    }
   ],
   "metadata": {}
  },
  {
   "cell_type": "code",
   "execution_count": 676,
   "source": [
    "knn_t_cm"
   ],
   "outputs": [
    {
     "output_type": "execute_result",
     "data": {
      "text/html": [
       "<div>\n",
       "<style scoped>\n",
       "    .dataframe tbody tr th:only-of-type {\n",
       "        vertical-align: middle;\n",
       "    }\n",
       "\n",
       "    .dataframe tbody tr th {\n",
       "        vertical-align: top;\n",
       "    }\n",
       "\n",
       "    .dataframe thead th {\n",
       "        text-align: right;\n",
       "    }\n",
       "</style>\n",
       "<table border=\"1\" class=\"dataframe\">\n",
       "  <thead>\n",
       "    <tr style=\"text-align: right;\">\n",
       "      <th></th>\n",
       "      <th>pred 1</th>\n",
       "      <th>pred 0</th>\n",
       "    </tr>\n",
       "  </thead>\n",
       "  <tbody>\n",
       "    <tr>\n",
       "      <th>akt1</th>\n",
       "      <td>279</td>\n",
       "      <td>649</td>\n",
       "    </tr>\n",
       "    <tr>\n",
       "      <th>akt0</th>\n",
       "      <td>591</td>\n",
       "      <td>6717</td>\n",
       "    </tr>\n",
       "  </tbody>\n",
       "</table>\n",
       "</div>"
      ],
      "text/plain": [
       "      pred 1  pred 0\n",
       "akt1     279     649\n",
       "akt0     591    6717"
      ]
     },
     "metadata": {},
     "execution_count": 676
    }
   ],
   "metadata": {}
  },
  {
   "cell_type": "code",
   "execution_count": 677,
   "source": [
    "print(knn_t_cr)"
   ],
   "outputs": [
    {
     "output_type": "stream",
     "name": "stdout",
     "text": [
      "              precision    recall  f1-score   support\n",
      "\n",
      "           0       0.91      0.92      0.92      7308\n",
      "           1       0.32      0.30      0.31       928\n",
      "\n",
      "    accuracy                           0.85      8236\n",
      "   macro avg       0.62      0.61      0.61      8236\n",
      "weighted avg       0.85      0.85      0.85      8236\n",
      "\n"
     ]
    }
   ],
   "metadata": {}
  },
  {
   "cell_type": "markdown",
   "source": [
    "### SVM "
   ],
   "metadata": {}
  },
  {
   "cell_type": "code",
   "execution_count": 481,
   "source": [
    "Pipe_SVC.get_params()"
   ],
   "outputs": [
    {
     "output_type": "execute_result",
     "data": {
      "text/plain": [
       "{'memory': None,\n",
       " 'steps': [('prep', ColumnTransformer(transformers=[('numeric',\n",
       "                                    Pipeline(steps=[('imputer', SimpleImputer()),\n",
       "                                                    ('scaler', RobustScaler())]),\n",
       "                                    ['previous', 'emp.var.rate', 'cons.price.idx',\n",
       "                                     'cons.conf.idx', 'euribor3m']),\n",
       "                                   ('categoric1',\n",
       "                                    Pipeline(steps=[('encoder', OneHotEncoder())]),\n",
       "                                    ['marital', 'default', 'housing', 'loan',\n",
       "                                     'contact', 'pdays', 'poutcome', 'Job_Type',\n",
       "                                     'age_group', 'Edu_Cat'])])),\n",
       "  ('algo', SVC(max_iter=400, probability=True))],\n",
       " 'verbose': False,\n",
       " 'prep': ColumnTransformer(transformers=[('numeric',\n",
       "                                  Pipeline(steps=[('imputer', SimpleImputer()),\n",
       "                                                  ('scaler', RobustScaler())]),\n",
       "                                  ['previous', 'emp.var.rate', 'cons.price.idx',\n",
       "                                   'cons.conf.idx', 'euribor3m']),\n",
       "                                 ('categoric1',\n",
       "                                  Pipeline(steps=[('encoder', OneHotEncoder())]),\n",
       "                                  ['marital', 'default', 'housing', 'loan',\n",
       "                                   'contact', 'pdays', 'poutcome', 'Job_Type',\n",
       "                                   'age_group', 'Edu_Cat'])]),\n",
       " 'algo': SVC(max_iter=400, probability=True),\n",
       " 'prep__n_jobs': None,\n",
       " 'prep__remainder': 'drop',\n",
       " 'prep__sparse_threshold': 0.3,\n",
       " 'prep__transformer_weights': None,\n",
       " 'prep__transformers': [('numeric',\n",
       "   Pipeline(steps=[('imputer', SimpleImputer()), ('scaler', RobustScaler())]),\n",
       "   ['previous',\n",
       "    'emp.var.rate',\n",
       "    'cons.price.idx',\n",
       "    'cons.conf.idx',\n",
       "    'euribor3m']),\n",
       "  ('categoric1',\n",
       "   Pipeline(steps=[('encoder', OneHotEncoder())]),\n",
       "   ['marital',\n",
       "    'default',\n",
       "    'housing',\n",
       "    'loan',\n",
       "    'contact',\n",
       "    'pdays',\n",
       "    'poutcome',\n",
       "    'Job_Type',\n",
       "    'age_group',\n",
       "    'Edu_Cat'])],\n",
       " 'prep__verbose': False,\n",
       " 'prep__numeric': Pipeline(steps=[('imputer', SimpleImputer()), ('scaler', RobustScaler())]),\n",
       " 'prep__categoric1': Pipeline(steps=[('encoder', OneHotEncoder())]),\n",
       " 'prep__numeric__memory': None,\n",
       " 'prep__numeric__steps': [('imputer', SimpleImputer()),\n",
       "  ('scaler', RobustScaler())],\n",
       " 'prep__numeric__verbose': False,\n",
       " 'prep__numeric__imputer': SimpleImputer(),\n",
       " 'prep__numeric__scaler': RobustScaler(),\n",
       " 'prep__numeric__imputer__add_indicator': False,\n",
       " 'prep__numeric__imputer__copy': True,\n",
       " 'prep__numeric__imputer__fill_value': None,\n",
       " 'prep__numeric__imputer__missing_values': nan,\n",
       " 'prep__numeric__imputer__strategy': 'mean',\n",
       " 'prep__numeric__imputer__verbose': 0,\n",
       " 'prep__numeric__scaler__copy': True,\n",
       " 'prep__numeric__scaler__quantile_range': (25.0, 75.0),\n",
       " 'prep__numeric__scaler__unit_variance': False,\n",
       " 'prep__numeric__scaler__with_centering': True,\n",
       " 'prep__numeric__scaler__with_scaling': True,\n",
       " 'prep__categoric1__memory': None,\n",
       " 'prep__categoric1__steps': [('encoder', OneHotEncoder())],\n",
       " 'prep__categoric1__verbose': False,\n",
       " 'prep__categoric1__encoder': OneHotEncoder(),\n",
       " 'prep__categoric1__encoder__categories': 'auto',\n",
       " 'prep__categoric1__encoder__drop': None,\n",
       " 'prep__categoric1__encoder__dtype': numpy.float64,\n",
       " 'prep__categoric1__encoder__handle_unknown': 'error',\n",
       " 'prep__categoric1__encoder__sparse': True,\n",
       " 'algo__C': 1.0,\n",
       " 'algo__break_ties': False,\n",
       " 'algo__cache_size': 200,\n",
       " 'algo__class_weight': None,\n",
       " 'algo__coef0': 0.0,\n",
       " 'algo__decision_function_shape': 'ovr',\n",
       " 'algo__degree': 3,\n",
       " 'algo__gamma': 'scale',\n",
       " 'algo__kernel': 'rbf',\n",
       " 'algo__max_iter': 400,\n",
       " 'algo__probability': True,\n",
       " 'algo__random_state': None,\n",
       " 'algo__shrinking': True,\n",
       " 'algo__tol': 0.001,\n",
       " 'algo__verbose': False}"
      ]
     },
     "metadata": {},
     "execution_count": 481
    }
   ],
   "metadata": {}
  },
  {
   "cell_type": "code",
   "execution_count": 491,
   "source": [
    "weights1 = np.arange(0.1,1.0,0.1)\n",
    "weights1"
   ],
   "outputs": [
    {
     "output_type": "execute_result",
     "data": {
      "text/plain": [
       "array([0.1, 0.2, 0.3, 0.4, 0.5, 0.6, 0.7, 0.8, 0.9])"
      ]
     },
     "metadata": {},
     "execution_count": 491
    }
   ],
   "metadata": {}
  },
  {
   "cell_type": "code",
   "execution_count": 492,
   "source": [
    "pm_svm = {\n",
    "    \"algo__C\" : np.arange(1,20,1),\n",
    "    \"algo__gamma\" : np.arange(1,20,1),\n",
    "    'algo__class_weight': [{0:x, 1:1.0-x} for x in weights]\n",
    "    \n",
    "}"
   ],
   "outputs": [],
   "metadata": {}
  },
  {
   "cell_type": "code",
   "execution_count": 493,
   "source": [
    "gs_svm = RandomizedSearchCV(Pipe_SVC, pm_svm, cv = skf, n_jobs=-1,verbose = -1, random_state=42, scoring=\"accuracy\")"
   ],
   "outputs": [],
   "metadata": {}
  },
  {
   "cell_type": "code",
   "execution_count": 494,
   "source": [
    "gs_svm.fit(x_train,y_train)"
   ],
   "outputs": [
    {
     "output_type": "execute_result",
     "data": {
      "text/plain": [
       "RandomizedSearchCV(cv=StratifiedKFold(n_splits=4, random_state=None, shuffle=False),\n",
       "                   estimator=Pipeline(steps=[('prep',\n",
       "                                              ColumnTransformer(transformers=[('numeric',\n",
       "                                                                               Pipeline(steps=[('imputer',\n",
       "                                                                                                SimpleImputer()),\n",
       "                                                                                               ('scaler',\n",
       "                                                                                                RobustScaler())]),\n",
       "                                                                               ['previous',\n",
       "                                                                                'emp.var.rate',\n",
       "                                                                                'cons.price.idx',\n",
       "                                                                                'cons.conf.idx',\n",
       "                                                                                'euribor3m']),\n",
       "                                                                              ('categoric1',\n",
       "                                                                               Pipeline(steps=[('encoder',\n",
       "                                                                                                OneH...\n",
       "                                                  probability=True))]),\n",
       "                   n_jobs=-1,\n",
       "                   param_distributions={'algo__C': array([ 1,  2,  3,  4,  5,  6,  7,  8,  9, 10, 11, 12, 13, 14, 15, 16, 17,\n",
       "       18, 19]),\n",
       "                                        'algo__class_weight': [{0: 0.1, 1: 0.9},\n",
       "                                                               {0: 0.25,\n",
       "                                                                1: 0.75},\n",
       "                                                               {0: 0.5, 1: 0.5},\n",
       "                                                               {0: 0.75,\n",
       "                                                                1: 0.25},\n",
       "                                                               {0: 0.9,\n",
       "                                                                1: 0.09999999999999998}],\n",
       "                                        'algo__gamma': array([ 1,  2,  3,  4,  5,  6,  7,  8,  9, 10, 11, 12, 13, 14, 15, 16, 17,\n",
       "       18, 19])},\n",
       "                   random_state=42, scoring='accuracy', verbose=-1)"
      ]
     },
     "metadata": {},
     "execution_count": 494
    }
   ],
   "metadata": {}
  },
  {
   "cell_type": "code",
   "execution_count": 495,
   "source": [
    "gs_svm.best_params_"
   ],
   "outputs": [
    {
     "output_type": "execute_result",
     "data": {
      "text/plain": [
       "{'algo__gamma': 10,\n",
       " 'algo__class_weight': {0: 0.9, 1: 0.09999999999999998},\n",
       " 'algo__C': 12}"
      ]
     },
     "metadata": {},
     "execution_count": 495
    }
   ],
   "metadata": {}
  },
  {
   "cell_type": "code",
   "execution_count": 496,
   "source": [
    "svm_t = gs_svm.best_estimator_"
   ],
   "outputs": [],
   "metadata": {}
  },
  {
   "cell_type": "code",
   "execution_count": 497,
   "source": [
    "svmt_hasil_train, svmt_hasil_test, svmt_evaluation, svmt_cm, svmt_cr = log_evaluation(x_train, x_test, y_train, y_test, svm_t)"
   ],
   "outputs": [],
   "metadata": {}
  },
  {
   "cell_type": "code",
   "execution_count": 498,
   "source": [
    "svmt_evaluation"
   ],
   "outputs": [
    {
     "output_type": "execute_result",
     "data": {
      "text/html": [
       "<div>\n",
       "<style scoped>\n",
       "    .dataframe tbody tr th:only-of-type {\n",
       "        vertical-align: middle;\n",
       "    }\n",
       "\n",
       "    .dataframe tbody tr th {\n",
       "        vertical-align: top;\n",
       "    }\n",
       "\n",
       "    .dataframe thead th {\n",
       "        text-align: right;\n",
       "    }\n",
       "</style>\n",
       "<table border=\"1\" class=\"dataframe\">\n",
       "  <thead>\n",
       "    <tr style=\"text-align: right;\">\n",
       "      <th></th>\n",
       "      <th>Training</th>\n",
       "      <th>Testing</th>\n",
       "    </tr>\n",
       "  </thead>\n",
       "  <tbody>\n",
       "    <tr>\n",
       "      <th>accuracy</th>\n",
       "      <td>0.888221</td>\n",
       "      <td>0.887688</td>\n",
       "    </tr>\n",
       "    <tr>\n",
       "      <th>recall</th>\n",
       "      <td>0.008623</td>\n",
       "      <td>0.008621</td>\n",
       "    </tr>\n",
       "    <tr>\n",
       "      <th>precission</th>\n",
       "      <td>0.914286</td>\n",
       "      <td>0.615385</td>\n",
       "    </tr>\n",
       "    <tr>\n",
       "      <th>F1 Score</th>\n",
       "      <td>0.017085</td>\n",
       "      <td>0.017003</td>\n",
       "    </tr>\n",
       "    <tr>\n",
       "      <th>ROCAUC</th>\n",
       "      <td>0.504260</td>\n",
       "      <td>0.503968</td>\n",
       "    </tr>\n",
       "  </tbody>\n",
       "</table>\n",
       "</div>"
      ],
      "text/plain": [
       "            Training   Testing\n",
       "accuracy    0.888221  0.887688\n",
       "recall      0.008623  0.008621\n",
       "precission  0.914286  0.615385\n",
       "F1 Score    0.017085  0.017003\n",
       "ROCAUC      0.504260  0.503968"
      ]
     },
     "metadata": {},
     "execution_count": 498
    }
   ],
   "metadata": {}
  },
  {
   "cell_type": "code",
   "execution_count": 500,
   "source": [
    "svm_cm"
   ],
   "outputs": [
    {
     "output_type": "execute_result",
     "data": {
      "text/html": [
       "<div>\n",
       "<style scoped>\n",
       "    .dataframe tbody tr th:only-of-type {\n",
       "        vertical-align: middle;\n",
       "    }\n",
       "\n",
       "    .dataframe tbody tr th {\n",
       "        vertical-align: top;\n",
       "    }\n",
       "\n",
       "    .dataframe thead th {\n",
       "        text-align: right;\n",
       "    }\n",
       "</style>\n",
       "<table border=\"1\" class=\"dataframe\">\n",
       "  <thead>\n",
       "    <tr style=\"text-align: right;\">\n",
       "      <th></th>\n",
       "      <th>pred 1</th>\n",
       "      <th>pred 0</th>\n",
       "    </tr>\n",
       "  </thead>\n",
       "  <tbody>\n",
       "    <tr>\n",
       "      <th>akt1</th>\n",
       "      <td>133</td>\n",
       "      <td>795</td>\n",
       "    </tr>\n",
       "    <tr>\n",
       "      <th>akt0</th>\n",
       "      <td>1544</td>\n",
       "      <td>5764</td>\n",
       "    </tr>\n",
       "  </tbody>\n",
       "</table>\n",
       "</div>"
      ],
      "text/plain": [
       "      pred 1  pred 0\n",
       "akt1     133     795\n",
       "akt0    1544    5764"
      ]
     },
     "metadata": {},
     "execution_count": 500
    }
   ],
   "metadata": {}
  },
  {
   "cell_type": "code",
   "execution_count": 501,
   "source": [
    "print(svmt_cr)"
   ],
   "outputs": [
    {
     "output_type": "stream",
     "name": "stdout",
     "text": [
      "              precision    recall  f1-score   support\n",
      "\n",
      "           0       0.89      1.00      0.94      7308\n",
      "           1       0.62      0.01      0.02       928\n",
      "\n",
      "    accuracy                           0.89      8236\n",
      "   macro avg       0.75      0.50      0.48      8236\n",
      "weighted avg       0.86      0.89      0.84      8236\n",
      "\n"
     ]
    }
   ],
   "metadata": {}
  },
  {
   "cell_type": "markdown",
   "source": [
    "### Random Forest"
   ],
   "metadata": {}
  },
  {
   "cell_type": "code",
   "execution_count": 502,
   "source": [
    "Pipe_rf.get_params()"
   ],
   "outputs": [
    {
     "output_type": "execute_result",
     "data": {
      "text/plain": [
       "{'memory': None,\n",
       " 'steps': [('prep', ColumnTransformer(transformers=[('numeric',\n",
       "                                    Pipeline(steps=[('imputer', SimpleImputer())]),\n",
       "                                    ['previous', 'emp.var.rate', 'cons.price.idx',\n",
       "                                     'cons.conf.idx', 'euribor3m']),\n",
       "                                   ('categoric1',\n",
       "                                    Pipeline(steps=[('encoder', OneHotEncoder())]),\n",
       "                                    ['marital', 'default', 'housing', 'loan',\n",
       "                                     'contact', 'pdays', 'poutcome', 'Job_Type',\n",
       "                                     'age_group', 'Edu_Cat'])])),\n",
       "  ('algo', RandomForestClassifier())],\n",
       " 'verbose': False,\n",
       " 'prep': ColumnTransformer(transformers=[('numeric',\n",
       "                                  Pipeline(steps=[('imputer', SimpleImputer())]),\n",
       "                                  ['previous', 'emp.var.rate', 'cons.price.idx',\n",
       "                                   'cons.conf.idx', 'euribor3m']),\n",
       "                                 ('categoric1',\n",
       "                                  Pipeline(steps=[('encoder', OneHotEncoder())]),\n",
       "                                  ['marital', 'default', 'housing', 'loan',\n",
       "                                   'contact', 'pdays', 'poutcome', 'Job_Type',\n",
       "                                   'age_group', 'Edu_Cat'])]),\n",
       " 'algo': RandomForestClassifier(),\n",
       " 'prep__n_jobs': None,\n",
       " 'prep__remainder': 'drop',\n",
       " 'prep__sparse_threshold': 0.3,\n",
       " 'prep__transformer_weights': None,\n",
       " 'prep__transformers': [('numeric',\n",
       "   Pipeline(steps=[('imputer', SimpleImputer())]),\n",
       "   ['previous',\n",
       "    'emp.var.rate',\n",
       "    'cons.price.idx',\n",
       "    'cons.conf.idx',\n",
       "    'euribor3m']),\n",
       "  ('categoric1',\n",
       "   Pipeline(steps=[('encoder', OneHotEncoder())]),\n",
       "   ['marital',\n",
       "    'default',\n",
       "    'housing',\n",
       "    'loan',\n",
       "    'contact',\n",
       "    'pdays',\n",
       "    'poutcome',\n",
       "    'Job_Type',\n",
       "    'age_group',\n",
       "    'Edu_Cat'])],\n",
       " 'prep__verbose': False,\n",
       " 'prep__numeric': Pipeline(steps=[('imputer', SimpleImputer())]),\n",
       " 'prep__categoric1': Pipeline(steps=[('encoder', OneHotEncoder())]),\n",
       " 'prep__numeric__memory': None,\n",
       " 'prep__numeric__steps': [('imputer', SimpleImputer())],\n",
       " 'prep__numeric__verbose': False,\n",
       " 'prep__numeric__imputer': SimpleImputer(),\n",
       " 'prep__numeric__imputer__add_indicator': False,\n",
       " 'prep__numeric__imputer__copy': True,\n",
       " 'prep__numeric__imputer__fill_value': None,\n",
       " 'prep__numeric__imputer__missing_values': nan,\n",
       " 'prep__numeric__imputer__strategy': 'mean',\n",
       " 'prep__numeric__imputer__verbose': 0,\n",
       " 'prep__categoric1__memory': None,\n",
       " 'prep__categoric1__steps': [('encoder', OneHotEncoder())],\n",
       " 'prep__categoric1__verbose': False,\n",
       " 'prep__categoric1__encoder': OneHotEncoder(),\n",
       " 'prep__categoric1__encoder__categories': 'auto',\n",
       " 'prep__categoric1__encoder__drop': None,\n",
       " 'prep__categoric1__encoder__dtype': numpy.float64,\n",
       " 'prep__categoric1__encoder__handle_unknown': 'error',\n",
       " 'prep__categoric1__encoder__sparse': True,\n",
       " 'algo__bootstrap': True,\n",
       " 'algo__ccp_alpha': 0.0,\n",
       " 'algo__class_weight': None,\n",
       " 'algo__criterion': 'gini',\n",
       " 'algo__max_depth': None,\n",
       " 'algo__max_features': 'auto',\n",
       " 'algo__max_leaf_nodes': None,\n",
       " 'algo__max_samples': None,\n",
       " 'algo__min_impurity_decrease': 0.0,\n",
       " 'algo__min_impurity_split': None,\n",
       " 'algo__min_samples_leaf': 1,\n",
       " 'algo__min_samples_split': 2,\n",
       " 'algo__min_weight_fraction_leaf': 0.0,\n",
       " 'algo__n_estimators': 100,\n",
       " 'algo__n_jobs': None,\n",
       " 'algo__oob_score': False,\n",
       " 'algo__random_state': None,\n",
       " 'algo__verbose': 0,\n",
       " 'algo__warm_start': False}"
      ]
     },
     "metadata": {},
     "execution_count": 502
    }
   ],
   "metadata": {}
  },
  {
   "cell_type": "code",
   "execution_count": 503,
   "source": [
    "weights2 = np.arange(0.05,0.9,0.05)\n",
    "weights2"
   ],
   "outputs": [
    {
     "output_type": "execute_result",
     "data": {
      "text/plain": [
       "array([0.05, 0.1 , 0.15, 0.2 , 0.25, 0.3 , 0.35, 0.4 , 0.45, 0.5 , 0.55,\n",
       "       0.6 , 0.65, 0.7 , 0.75, 0.8 , 0.85])"
      ]
     },
     "metadata": {},
     "execution_count": 503
    }
   ],
   "metadata": {}
  },
  {
   "cell_type": "code",
   "execution_count": 504,
   "source": [
    "pm_rf = {\n",
    "    'algo__n_estimators': np.arange(10,1500,10),\n",
    "    'algo__max_depth': np.arange(0,200,1),\n",
    "    'algo__min_samples_split' : np.arange(1,200,1),\n",
    "    'algo__min_samples_leaf': np.arange(1,200,1),\n",
    "    'algo__class_weight': [{0:x, 1:1.0-x} for x in weights1],\n",
    "    \"algo__random_state\" : [42]\n",
    "\n",
    "}"
   ],
   "outputs": [],
   "metadata": {}
  },
  {
   "cell_type": "code",
   "execution_count": 505,
   "source": [
    "gs_rft = RandomizedSearchCV(Pipe_rf, pm_rf, cv = skf, n_jobs=-1,verbose = -1,scoring=\"balanced_accuracy\", random_state= 3)"
   ],
   "outputs": [],
   "metadata": {}
  },
  {
   "cell_type": "code",
   "execution_count": 506,
   "source": [
    "gs_rft.fit(x_train,y_train)"
   ],
   "outputs": [
    {
     "output_type": "execute_result",
     "data": {
      "text/plain": [
       "RandomizedSearchCV(cv=StratifiedKFold(n_splits=4, random_state=None, shuffle=False),\n",
       "                   estimator=Pipeline(steps=[('prep',\n",
       "                                              ColumnTransformer(transformers=[('numeric',\n",
       "                                                                               Pipeline(steps=[('imputer',\n",
       "                                                                                                SimpleImputer())]),\n",
       "                                                                               ['previous',\n",
       "                                                                                'emp.var.rate',\n",
       "                                                                                'cons.price.idx',\n",
       "                                                                                'cons.conf.idx',\n",
       "                                                                                'euribor3m']),\n",
       "                                                                              ('categoric1',\n",
       "                                                                               Pipeline(steps=[('encoder',\n",
       "                                                                                                OneHotEncoder())]),\n",
       "                                                                               ['marital',...\n",
       "        890,  900,  910,  920,  930,  940,  950,  960,  970,  980,  990,\n",
       "       1000, 1010, 1020, 1030, 1040, 1050, 1060, 1070, 1080, 1090, 1100,\n",
       "       1110, 1120, 1130, 1140, 1150, 1160, 1170, 1180, 1190, 1200, 1210,\n",
       "       1220, 1230, 1240, 1250, 1260, 1270, 1280, 1290, 1300, 1310, 1320,\n",
       "       1330, 1340, 1350, 1360, 1370, 1380, 1390, 1400, 1410, 1420, 1430,\n",
       "       1440, 1450, 1460, 1470, 1480, 1490]),\n",
       "                                        'algo__random_state': [42]},\n",
       "                   random_state=3, scoring='balanced_accuracy', verbose=-1)"
      ]
     },
     "metadata": {},
     "execution_count": 506
    }
   ],
   "metadata": {}
  },
  {
   "cell_type": "code",
   "execution_count": 507,
   "source": [
    "gs_rft.best_params_"
   ],
   "outputs": [
    {
     "output_type": "execute_result",
     "data": {
      "text/plain": [
       "{'algo__random_state': 42,\n",
       " 'algo__n_estimators': 1110,\n",
       " 'algo__min_samples_split': 105,\n",
       " 'algo__min_samples_leaf': 63,\n",
       " 'algo__max_depth': 88,\n",
       " 'algo__class_weight': {0: 0.1, 1: 0.9}}"
      ]
     },
     "metadata": {},
     "execution_count": 507
    }
   ],
   "metadata": {}
  },
  {
   "cell_type": "code",
   "execution_count": 508,
   "source": [
    "rf_t = gs_rft.best_estimator_"
   ],
   "outputs": [],
   "metadata": {}
  },
  {
   "cell_type": "code",
   "execution_count": 799,
   "source": [
    "rft_hasil_train, rft_hasil_test, rft_evaluation, rft_cm, rft_cr = log_evaluation(x_train, x_test, y_train, y_test, rf_t)"
   ],
   "outputs": [],
   "metadata": {}
  },
  {
   "cell_type": "code",
   "execution_count": 800,
   "source": [
    "rft_evaluation"
   ],
   "outputs": [
    {
     "output_type": "execute_result",
     "data": {
      "text/html": [
       "<div>\n",
       "<style scoped>\n",
       "    .dataframe tbody tr th:only-of-type {\n",
       "        vertical-align: middle;\n",
       "    }\n",
       "\n",
       "    .dataframe tbody tr th {\n",
       "        vertical-align: top;\n",
       "    }\n",
       "\n",
       "    .dataframe thead th {\n",
       "        text-align: right;\n",
       "    }\n",
       "</style>\n",
       "<table border=\"1\" class=\"dataframe\">\n",
       "  <thead>\n",
       "    <tr style=\"text-align: right;\">\n",
       "      <th></th>\n",
       "      <th>Training</th>\n",
       "      <th>Testing</th>\n",
       "    </tr>\n",
       "  </thead>\n",
       "  <tbody>\n",
       "    <tr>\n",
       "      <th>accuracy</th>\n",
       "      <td>0.816758</td>\n",
       "      <td>0.816780</td>\n",
       "    </tr>\n",
       "    <tr>\n",
       "      <th>recall</th>\n",
       "      <td>0.663164</td>\n",
       "      <td>0.673491</td>\n",
       "    </tr>\n",
       "    <tr>\n",
       "      <th>precission</th>\n",
       "      <td>0.339589</td>\n",
       "      <td>0.341344</td>\n",
       "    </tr>\n",
       "    <tr>\n",
       "      <th>F1 Score</th>\n",
       "      <td>0.449170</td>\n",
       "      <td>0.453063</td>\n",
       "    </tr>\n",
       "    <tr>\n",
       "      <th>ROCAUC</th>\n",
       "      <td>0.749711</td>\n",
       "      <td>0.754233</td>\n",
       "    </tr>\n",
       "  </tbody>\n",
       "</table>\n",
       "</div>"
      ],
      "text/plain": [
       "            Training   Testing\n",
       "accuracy    0.816758  0.816780\n",
       "recall      0.663164  0.673491\n",
       "precission  0.339589  0.341344\n",
       "F1 Score    0.449170  0.453063\n",
       "ROCAUC      0.749711  0.754233"
      ]
     },
     "metadata": {},
     "execution_count": 800
    }
   ],
   "metadata": {}
  },
  {
   "cell_type": "code",
   "execution_count": 801,
   "source": [
    "rft_cm"
   ],
   "outputs": [
    {
     "output_type": "execute_result",
     "data": {
      "text/html": [
       "<div>\n",
       "<style scoped>\n",
       "    .dataframe tbody tr th:only-of-type {\n",
       "        vertical-align: middle;\n",
       "    }\n",
       "\n",
       "    .dataframe tbody tr th {\n",
       "        vertical-align: top;\n",
       "    }\n",
       "\n",
       "    .dataframe thead th {\n",
       "        text-align: right;\n",
       "    }\n",
       "</style>\n",
       "<table border=\"1\" class=\"dataframe\">\n",
       "  <thead>\n",
       "    <tr style=\"text-align: right;\">\n",
       "      <th></th>\n",
       "      <th>pred 1</th>\n",
       "      <th>pred 0</th>\n",
       "    </tr>\n",
       "  </thead>\n",
       "  <tbody>\n",
       "    <tr>\n",
       "      <th>akt1</th>\n",
       "      <td>625</td>\n",
       "      <td>303</td>\n",
       "    </tr>\n",
       "    <tr>\n",
       "      <th>akt0</th>\n",
       "      <td>1206</td>\n",
       "      <td>6102</td>\n",
       "    </tr>\n",
       "  </tbody>\n",
       "</table>\n",
       "</div>"
      ],
      "text/plain": [
       "      pred 1  pred 0\n",
       "akt1     625     303\n",
       "akt0    1206    6102"
      ]
     },
     "metadata": {},
     "execution_count": 801
    }
   ],
   "metadata": {}
  },
  {
   "cell_type": "code",
   "execution_count": 802,
   "source": [
    "print(rft_cr)"
   ],
   "outputs": [
    {
     "output_type": "stream",
     "name": "stdout",
     "text": [
      "              precision    recall  f1-score   support\n",
      "\n",
      "           0       0.95      0.83      0.89      7308\n",
      "           1       0.34      0.67      0.45       928\n",
      "\n",
      "    accuracy                           0.82      8236\n",
      "   macro avg       0.65      0.75      0.67      8236\n",
      "weighted avg       0.88      0.82      0.84      8236\n",
      "\n"
     ]
    }
   ],
   "metadata": {}
  },
  {
   "cell_type": "markdown",
   "source": [
    "## Machine Learning Overview"
   ],
   "metadata": {}
  },
  {
   "cell_type": "markdown",
   "source": [
    "Melihat dari 4 algoritma yang sudah dibuat dan dilakukan modeling, kami menyimpulkan bahwa kedua algoritma yang memberikan hasil yang memenuhi kebutuhan dalam project ini adalah logistic regression dan juga random forest. yang dimana kedua algoritma ini akan kami analysis lebih lanjut pada chapter ini."
   ],
   "metadata": {}
  },
  {
   "cell_type": "markdown",
   "source": [
    "### Logisitic Regression analysis"
   ],
   "metadata": {}
  },
  {
   "cell_type": "markdown",
   "source": [
    "Base Model and Hyperparameter result"
   ],
   "metadata": {}
  },
  {
   "cell_type": "markdown",
   "source": [
    "Notes: base model terletak pada sisi kiri dan imporvement dari model yang sebelah kanan"
   ],
   "metadata": {}
  },
  {
   "cell_type": "code",
   "execution_count": 524,
   "source": [
    "pd.concat([lr_evaluation,lr_cw_evaluation], axis= 1)"
   ],
   "outputs": [
    {
     "output_type": "execute_result",
     "data": {
      "text/html": [
       "<div>\n",
       "<style scoped>\n",
       "    .dataframe tbody tr th:only-of-type {\n",
       "        vertical-align: middle;\n",
       "    }\n",
       "\n",
       "    .dataframe tbody tr th {\n",
       "        vertical-align: top;\n",
       "    }\n",
       "\n",
       "    .dataframe thead th {\n",
       "        text-align: right;\n",
       "    }\n",
       "</style>\n",
       "<table border=\"1\" class=\"dataframe\">\n",
       "  <thead>\n",
       "    <tr style=\"text-align: right;\">\n",
       "      <th></th>\n",
       "      <th>Training</th>\n",
       "      <th>Testing</th>\n",
       "      <th>Training</th>\n",
       "      <th>Testing</th>\n",
       "    </tr>\n",
       "  </thead>\n",
       "  <tbody>\n",
       "    <tr>\n",
       "      <th>accuracy</th>\n",
       "      <td>0.898937</td>\n",
       "      <td>0.898130</td>\n",
       "      <td>0.736460</td>\n",
       "      <td>0.744900</td>\n",
       "    </tr>\n",
       "    <tr>\n",
       "      <th>recall</th>\n",
       "      <td>0.190245</td>\n",
       "      <td>0.183190</td>\n",
       "      <td>0.694422</td>\n",
       "      <td>0.718750</td>\n",
       "    </tr>\n",
       "    <tr>\n",
       "      <th>precission</th>\n",
       "      <td>0.685437</td>\n",
       "      <td>0.677291</td>\n",
       "      <td>0.254544</td>\n",
       "      <td>0.266055</td>\n",
       "    </tr>\n",
       "    <tr>\n",
       "      <th>F1 Score</th>\n",
       "      <td>0.297827</td>\n",
       "      <td>0.288380</td>\n",
       "      <td>0.372533</td>\n",
       "      <td>0.388355</td>\n",
       "    </tr>\n",
       "    <tr>\n",
       "      <th>ROCAUC</th>\n",
       "      <td>0.589580</td>\n",
       "      <td>0.586053</td>\n",
       "      <td>0.718110</td>\n",
       "      <td>0.733486</td>\n",
       "    </tr>\n",
       "  </tbody>\n",
       "</table>\n",
       "</div>"
      ],
      "text/plain": [
       "            Training   Testing  Training   Testing\n",
       "accuracy    0.898937  0.898130  0.736460  0.744900\n",
       "recall      0.190245  0.183190  0.694422  0.718750\n",
       "precission  0.685437  0.677291  0.254544  0.266055\n",
       "F1 Score    0.297827  0.288380  0.372533  0.388355\n",
       "ROCAUC      0.589580  0.586053  0.718110  0.733486"
      ]
     },
     "metadata": {},
     "execution_count": 524
    }
   ],
   "metadata": {}
  },
  {
   "cell_type": "code",
   "execution_count": 525,
   "source": [
    "pd.concat([lr_cm,lr_cw_cm], axis= 1)"
   ],
   "outputs": [
    {
     "output_type": "execute_result",
     "data": {
      "text/html": [
       "<div>\n",
       "<style scoped>\n",
       "    .dataframe tbody tr th:only-of-type {\n",
       "        vertical-align: middle;\n",
       "    }\n",
       "\n",
       "    .dataframe tbody tr th {\n",
       "        vertical-align: top;\n",
       "    }\n",
       "\n",
       "    .dataframe thead th {\n",
       "        text-align: right;\n",
       "    }\n",
       "</style>\n",
       "<table border=\"1\" class=\"dataframe\">\n",
       "  <thead>\n",
       "    <tr style=\"text-align: right;\">\n",
       "      <th></th>\n",
       "      <th>pred 1</th>\n",
       "      <th>pred 0</th>\n",
       "      <th>pred 1</th>\n",
       "      <th>pred 0</th>\n",
       "    </tr>\n",
       "  </thead>\n",
       "  <tbody>\n",
       "    <tr>\n",
       "      <th>akt1</th>\n",
       "      <td>170</td>\n",
       "      <td>758</td>\n",
       "      <td>667</td>\n",
       "      <td>261</td>\n",
       "    </tr>\n",
       "    <tr>\n",
       "      <th>akt0</th>\n",
       "      <td>81</td>\n",
       "      <td>7227</td>\n",
       "      <td>1840</td>\n",
       "      <td>5468</td>\n",
       "    </tr>\n",
       "  </tbody>\n",
       "</table>\n",
       "</div>"
      ],
      "text/plain": [
       "      pred 1  pred 0  pred 1  pred 0\n",
       "akt1     170     758     667     261\n",
       "akt0      81    7227    1840    5468"
      ]
     },
     "metadata": {},
     "execution_count": 525
    }
   ],
   "metadata": {}
  },
  {
   "cell_type": "code",
   "execution_count": 522,
   "source": [
    "print(lr_cr)"
   ],
   "outputs": [
    {
     "output_type": "stream",
     "name": "stdout",
     "text": [
      "              precision    recall  f1-score   support\n",
      "\n",
      "           0       0.91      0.99      0.95      7308\n",
      "           1       0.68      0.18      0.29       928\n",
      "\n",
      "    accuracy                           0.90      8236\n",
      "   macro avg       0.79      0.59      0.62      8236\n",
      "weighted avg       0.88      0.90      0.87      8236\n",
      "\n"
     ]
    }
   ],
   "metadata": {}
  },
  {
   "cell_type": "code",
   "execution_count": 526,
   "source": [
    "print(lr_cw_cr)"
   ],
   "outputs": [
    {
     "output_type": "stream",
     "name": "stdout",
     "text": [
      "              precision    recall  f1-score   support\n",
      "\n",
      "           0       0.95      0.75      0.84      7308\n",
      "           1       0.27      0.72      0.39       928\n",
      "\n",
      "    accuracy                           0.74      8236\n",
      "   macro avg       0.61      0.73      0.61      8236\n",
      "weighted avg       0.88      0.74      0.79      8236\n",
      "\n"
     ]
    }
   ],
   "metadata": {}
  },
  {
   "cell_type": "markdown",
   "source": [
    "terlihat dari perbandingan antara kedua hasil model bahwa model yang menggunakan class weight dan juga hyperparameter tuning memiliki kenaikan hasil yang cukup signifikan dimana telah kami jelaskan di awal dari analysis ini bahwa tujuan yang ingin kami cari pada modeling ini adalah untuk fokus kepada recall yang dimana ini membandingkan antara prediksi dengan seluruh data aktual yang ada, dan juga kami ingin bagaimana mengurangi false negatif seminim mungkin agar kita mendpatkan hasil positif sebanyak mungkin dari keseluruhan data yang ada.\n",
    "\n",
    "kenaikan hasil yang terjadi cukup terlihat jelas pada recall positif dari 0.18 menjadi 0.72 dengan menaiknya recall positif mengakibatkan ada nya kompensasi yang terjadi pada model nya yang bisa di lihat pada confusion matrix bahwa false positif yang tadi nya sudah sangat minim menjadi naik tetapi bila melihat keseluruhan model, model yang sudah di improve menggunakan hypermeter tuning mengalami perubahan yang cukup bagus"
   ],
   "metadata": {}
  },
  {
   "cell_type": "markdown",
   "source": [
    "### Random Forest Analysis"
   ],
   "metadata": {}
  },
  {
   "cell_type": "markdown",
   "source": [
    "Base Model and Hyperparameter result"
   ],
   "metadata": {}
  },
  {
   "cell_type": "markdown",
   "source": [
    "Notes: base model terletak pada sisi kiri dan imporvement dari model yang sebelah kanan"
   ],
   "metadata": {}
  },
  {
   "cell_type": "code",
   "execution_count": 803,
   "source": [
    "pd.concat([rf_evaluation,rft_evaluation], axis= 1)"
   ],
   "outputs": [
    {
     "output_type": "execute_result",
     "data": {
      "text/html": [
       "<div>\n",
       "<style scoped>\n",
       "    .dataframe tbody tr th:only-of-type {\n",
       "        vertical-align: middle;\n",
       "    }\n",
       "\n",
       "    .dataframe tbody tr th {\n",
       "        vertical-align: top;\n",
       "    }\n",
       "\n",
       "    .dataframe thead th {\n",
       "        text-align: right;\n",
       "    }\n",
       "</style>\n",
       "<table border=\"1\" class=\"dataframe\">\n",
       "  <thead>\n",
       "    <tr style=\"text-align: right;\">\n",
       "      <th></th>\n",
       "      <th>Training</th>\n",
       "      <th>Testing</th>\n",
       "      <th>Training</th>\n",
       "      <th>Testing</th>\n",
       "    </tr>\n",
       "  </thead>\n",
       "  <tbody>\n",
       "    <tr>\n",
       "      <th>accuracy</th>\n",
       "      <td>0.960231</td>\n",
       "      <td>0.884046</td>\n",
       "      <td>0.816758</td>\n",
       "      <td>0.816780</td>\n",
       "    </tr>\n",
       "    <tr>\n",
       "      <th>recall</th>\n",
       "      <td>0.680949</td>\n",
       "      <td>0.281250</td>\n",
       "      <td>0.663164</td>\n",
       "      <td>0.673491</td>\n",
       "    </tr>\n",
       "    <tr>\n",
       "      <th>precission</th>\n",
       "      <td>0.952507</td>\n",
       "      <td>0.475410</td>\n",
       "      <td>0.339589</td>\n",
       "      <td>0.341344</td>\n",
       "    </tr>\n",
       "    <tr>\n",
       "      <th>F1 Score</th>\n",
       "      <td>0.794155</td>\n",
       "      <td>0.353419</td>\n",
       "      <td>0.449170</td>\n",
       "      <td>0.453063</td>\n",
       "    </tr>\n",
       "    <tr>\n",
       "      <th>ROCAUC</th>\n",
       "      <td>0.838319</td>\n",
       "      <td>0.620921</td>\n",
       "      <td>0.749711</td>\n",
       "      <td>0.754233</td>\n",
       "    </tr>\n",
       "  </tbody>\n",
       "</table>\n",
       "</div>"
      ],
      "text/plain": [
       "            Training   Testing  Training   Testing\n",
       "accuracy    0.960231  0.884046  0.816758  0.816780\n",
       "recall      0.680949  0.281250  0.663164  0.673491\n",
       "precission  0.952507  0.475410  0.339589  0.341344\n",
       "F1 Score    0.794155  0.353419  0.449170  0.453063\n",
       "ROCAUC      0.838319  0.620921  0.749711  0.754233"
      ]
     },
     "metadata": {},
     "execution_count": 803
    }
   ],
   "metadata": {}
  },
  {
   "cell_type": "code",
   "execution_count": 529,
   "source": [
    "pd.concat([rf_cm,rft_cm], axis= 1)"
   ],
   "outputs": [
    {
     "output_type": "execute_result",
     "data": {
      "text/html": [
       "<div>\n",
       "<style scoped>\n",
       "    .dataframe tbody tr th:only-of-type {\n",
       "        vertical-align: middle;\n",
       "    }\n",
       "\n",
       "    .dataframe tbody tr th {\n",
       "        vertical-align: top;\n",
       "    }\n",
       "\n",
       "    .dataframe thead th {\n",
       "        text-align: right;\n",
       "    }\n",
       "</style>\n",
       "<table border=\"1\" class=\"dataframe\">\n",
       "  <thead>\n",
       "    <tr style=\"text-align: right;\">\n",
       "      <th></th>\n",
       "      <th>pred 1</th>\n",
       "      <th>pred 0</th>\n",
       "      <th>pred 1</th>\n",
       "      <th>pred 0</th>\n",
       "    </tr>\n",
       "  </thead>\n",
       "  <tbody>\n",
       "    <tr>\n",
       "      <th>akt1</th>\n",
       "      <td>261</td>\n",
       "      <td>667</td>\n",
       "      <td>625</td>\n",
       "      <td>303</td>\n",
       "    </tr>\n",
       "    <tr>\n",
       "      <th>akt0</th>\n",
       "      <td>288</td>\n",
       "      <td>7020</td>\n",
       "      <td>1206</td>\n",
       "      <td>6102</td>\n",
       "    </tr>\n",
       "  </tbody>\n",
       "</table>\n",
       "</div>"
      ],
      "text/plain": [
       "      pred 1  pred 0  pred 1  pred 0\n",
       "akt1     261     667     625     303\n",
       "akt0     288    7020    1206    6102"
      ]
     },
     "metadata": {},
     "execution_count": 529
    }
   ],
   "metadata": {}
  },
  {
   "cell_type": "code",
   "execution_count": 530,
   "source": [
    "print(rf_cr)"
   ],
   "outputs": [
    {
     "output_type": "stream",
     "name": "stdout",
     "text": [
      "              precision    recall  f1-score   support\n",
      "\n",
      "           0       0.91      0.96      0.94      7308\n",
      "           1       0.48      0.28      0.35       928\n",
      "\n",
      "    accuracy                           0.88      8236\n",
      "   macro avg       0.69      0.62      0.64      8236\n",
      "weighted avg       0.86      0.88      0.87      8236\n",
      "\n"
     ]
    }
   ],
   "metadata": {}
  },
  {
   "cell_type": "code",
   "execution_count": 531,
   "source": [
    "print(rft_cr)"
   ],
   "outputs": [
    {
     "output_type": "stream",
     "name": "stdout",
     "text": [
      "              precision    recall  f1-score   support\n",
      "\n",
      "           0       0.95      0.83      0.89      7308\n",
      "           1       0.34      0.67      0.45       928\n",
      "\n",
      "    accuracy                           0.82      8236\n",
      "   macro avg       0.65      0.75      0.67      8236\n",
      "weighted avg       0.88      0.82      0.84      8236\n",
      "\n"
     ]
    }
   ],
   "metadata": {}
  },
  {
   "cell_type": "markdown",
   "source": [
    "sama seperti analysis diatas yang dimana kami memfokuskan untuk menminimalisir false negatif untuk benar2 memaksimalkan hasil orang yang kemungkinan untuk menajawab yes terhadap campaign yang nnti nya akan dilakukan. \n",
    "\n",
    "pada model random forest berikut, terlihat hasil peningkatan yang cukup signifikan dari hasil evaluasi recall positif yang di mana pada basemodel recall positif sebesar 0.28 yang mengalami kenaikan setelah menggunakan hyperparameter tuning menjadi 0.67 dan juga bila kita lihat pada recall negatif walaupun ada nya kenaikan apda recall positif tetapi pada recall negatif tidak mengalami penurunan yang cukup drastis. \n",
    "\n",
    "yang dimana bila kita lihat pada confusion matrix bahwa adanya penurunan false negatif yang cukup signifikan tetapi peningkatan pada false positif yang tidak signifikan bila melihat dari jumlah keseluruhan data aktual. \n",
    "\n",
    "dan juga bila kita melihat accuracy dan nilai dari ROC_AUC model ini yang cukup bagus"
   ],
   "metadata": {}
  },
  {
   "cell_type": "markdown",
   "source": [
    "## Final Result"
   ],
   "metadata": {}
  },
  {
   "cell_type": "markdown",
   "source": [
    "berikut adalah perbandingan hasil kedua model yang terbaik dari analysis yang telah di lakukan antara Logistic Regression dan Random Forest"
   ],
   "metadata": {}
  },
  {
   "cell_type": "markdown",
   "source": [
    "Notes: Logistic Regression terletak pada sisi kiri dan Random Forest dari model yang sebelah kanan"
   ],
   "metadata": {}
  },
  {
   "cell_type": "code",
   "execution_count": 805,
   "source": [
    "pd.concat([lr_cw_evaluation,rft_evaluation], axis= 1).round(2)"
   ],
   "outputs": [
    {
     "output_type": "execute_result",
     "data": {
      "text/html": [
       "<div>\n",
       "<style scoped>\n",
       "    .dataframe tbody tr th:only-of-type {\n",
       "        vertical-align: middle;\n",
       "    }\n",
       "\n",
       "    .dataframe tbody tr th {\n",
       "        vertical-align: top;\n",
       "    }\n",
       "\n",
       "    .dataframe thead th {\n",
       "        text-align: right;\n",
       "    }\n",
       "</style>\n",
       "<table border=\"1\" class=\"dataframe\">\n",
       "  <thead>\n",
       "    <tr style=\"text-align: right;\">\n",
       "      <th></th>\n",
       "      <th>Training</th>\n",
       "      <th>Testing</th>\n",
       "      <th>Training</th>\n",
       "      <th>Testing</th>\n",
       "    </tr>\n",
       "  </thead>\n",
       "  <tbody>\n",
       "    <tr>\n",
       "      <th>accuracy</th>\n",
       "      <td>0.74</td>\n",
       "      <td>0.74</td>\n",
       "      <td>0.82</td>\n",
       "      <td>0.82</td>\n",
       "    </tr>\n",
       "    <tr>\n",
       "      <th>recall</th>\n",
       "      <td>0.69</td>\n",
       "      <td>0.72</td>\n",
       "      <td>0.66</td>\n",
       "      <td>0.67</td>\n",
       "    </tr>\n",
       "    <tr>\n",
       "      <th>precission</th>\n",
       "      <td>0.25</td>\n",
       "      <td>0.27</td>\n",
       "      <td>0.34</td>\n",
       "      <td>0.34</td>\n",
       "    </tr>\n",
       "    <tr>\n",
       "      <th>F1 Score</th>\n",
       "      <td>0.37</td>\n",
       "      <td>0.39</td>\n",
       "      <td>0.45</td>\n",
       "      <td>0.45</td>\n",
       "    </tr>\n",
       "    <tr>\n",
       "      <th>ROCAUC</th>\n",
       "      <td>0.72</td>\n",
       "      <td>0.73</td>\n",
       "      <td>0.75</td>\n",
       "      <td>0.75</td>\n",
       "    </tr>\n",
       "  </tbody>\n",
       "</table>\n",
       "</div>"
      ],
      "text/plain": [
       "            Training  Testing  Training  Testing\n",
       "accuracy        0.74     0.74      0.82     0.82\n",
       "recall          0.69     0.72      0.66     0.67\n",
       "precission      0.25     0.27      0.34     0.34\n",
       "F1 Score        0.37     0.39      0.45     0.45\n",
       "ROCAUC          0.72     0.73      0.75     0.75"
      ]
     },
     "metadata": {},
     "execution_count": 805
    }
   ],
   "metadata": {}
  },
  {
   "cell_type": "code",
   "execution_count": 533,
   "source": [
    "pd.concat([lr_cw_cm,rft_cm], axis= 1)"
   ],
   "outputs": [
    {
     "output_type": "execute_result",
     "data": {
      "text/html": [
       "<div>\n",
       "<style scoped>\n",
       "    .dataframe tbody tr th:only-of-type {\n",
       "        vertical-align: middle;\n",
       "    }\n",
       "\n",
       "    .dataframe tbody tr th {\n",
       "        vertical-align: top;\n",
       "    }\n",
       "\n",
       "    .dataframe thead th {\n",
       "        text-align: right;\n",
       "    }\n",
       "</style>\n",
       "<table border=\"1\" class=\"dataframe\">\n",
       "  <thead>\n",
       "    <tr style=\"text-align: right;\">\n",
       "      <th></th>\n",
       "      <th>pred 1</th>\n",
       "      <th>pred 0</th>\n",
       "      <th>pred 1</th>\n",
       "      <th>pred 0</th>\n",
       "    </tr>\n",
       "  </thead>\n",
       "  <tbody>\n",
       "    <tr>\n",
       "      <th>akt1</th>\n",
       "      <td>667</td>\n",
       "      <td>261</td>\n",
       "      <td>625</td>\n",
       "      <td>303</td>\n",
       "    </tr>\n",
       "    <tr>\n",
       "      <th>akt0</th>\n",
       "      <td>1840</td>\n",
       "      <td>5468</td>\n",
       "      <td>1206</td>\n",
       "      <td>6102</td>\n",
       "    </tr>\n",
       "  </tbody>\n",
       "</table>\n",
       "</div>"
      ],
      "text/plain": [
       "      pred 1  pred 0  pred 1  pred 0\n",
       "akt1     667     261     625     303\n",
       "akt0    1840    5468    1206    6102"
      ]
     },
     "metadata": {},
     "execution_count": 533
    }
   ],
   "metadata": {}
  },
  {
   "cell_type": "code",
   "execution_count": 534,
   "source": [
    "print(rft_cr)"
   ],
   "outputs": [
    {
     "output_type": "stream",
     "name": "stdout",
     "text": [
      "              precision    recall  f1-score   support\n",
      "\n",
      "           0       0.95      0.83      0.89      7308\n",
      "           1       0.34      0.67      0.45       928\n",
      "\n",
      "    accuracy                           0.82      8236\n",
      "   macro avg       0.65      0.75      0.67      8236\n",
      "weighted avg       0.88      0.82      0.84      8236\n",
      "\n"
     ]
    }
   ],
   "metadata": {}
  },
  {
   "cell_type": "code",
   "execution_count": 535,
   "source": [
    "print(lr_cw_cr)"
   ],
   "outputs": [
    {
     "output_type": "stream",
     "name": "stdout",
     "text": [
      "              precision    recall  f1-score   support\n",
      "\n",
      "           0       0.95      0.75      0.84      7308\n",
      "           1       0.27      0.72      0.39       928\n",
      "\n",
      "    accuracy                           0.74      8236\n",
      "   macro avg       0.61      0.73      0.61      8236\n",
      "weighted avg       0.88      0.74      0.79      8236\n",
      "\n"
     ]
    }
   ],
   "metadata": {}
  },
  {
   "cell_type": "markdown",
   "source": [
    "jika kita melihat kedua model diatas terlihat bahwa Logistic Regression memiliki recal positif yang lebih baik yang dimana itu terefleksikan pada confusion matrix dimana nilai false negatif yang dimiliki dari model logistic regression juga lebih rendah dari nilai false negatif modle random forest, tetapi bila kita melihat keseluruhan analysis yang dimana bila kita melihat ke false positif yang dimiliki oleh model logistic regression terlihat bahawa adanya perbedaan yang cukup jauh anatara 1840 dan 1206 yang dimana false positif pada model ini akan menimbukan kerugian dalam mengimplementasikan marketing strategy yang ada yang di mana kita ingin menaikan tingkat konversi dari tele marketing akar lebih baik dengan memberikan promo kepada nasabah. \n",
    "\n",
    "dan juga bila kila melihat dari keseluruhan model random forest memiliki accuracy, precission, f1 score, dan ROC_AUC yang lebih baik dan juga pebedaan recall positif kedua model tersebut hanya berbeda 5% yang di mana itu dapat disimpulkan kecil, melihat pada aspek kesuluruhan dari model kedua nya kami menyimpulkan bahwa Random Forest model adalah model yang terbaik digunakan untuk case ini dikarenakan kestabilan dari model tersebut dan juga hasil evaluasi yang balance dan juga tepat kepada kasus yang ingin kami selesaikan. "
   ],
   "metadata": {}
  },
  {
   "cell_type": "markdown",
   "source": [
    "## Probability"
   ],
   "metadata": {}
  },
  {
   "cell_type": "markdown",
   "source": [
    "Dari hasil model yang telah kita pilih kita dapat mengeluarkan probability dari hasil prediksi tersebut dengan menggunakan predict_proba, yang dimana hasil dari predict proba dapat digunakan sebagai threshold yang akan menentukan promo apa yang akan diberikan kepada nasabah yang bersangkutan. "
   ],
   "metadata": {}
  },
  {
   "cell_type": "code",
   "execution_count": 544,
   "source": [
    "hasil_probability = rf_t.predict_proba(x)"
   ],
   "outputs": [],
   "metadata": {}
  },
  {
   "cell_type": "code",
   "execution_count": 545,
   "source": [
    "tabel_probability = pd.DataFrame(hasil_probability)\n",
    "tabel_probability"
   ],
   "outputs": [
    {
     "output_type": "execute_result",
     "data": {
      "text/html": [
       "<div>\n",
       "<style scoped>\n",
       "    .dataframe tbody tr th:only-of-type {\n",
       "        vertical-align: middle;\n",
       "    }\n",
       "\n",
       "    .dataframe tbody tr th {\n",
       "        vertical-align: top;\n",
       "    }\n",
       "\n",
       "    .dataframe thead th {\n",
       "        text-align: right;\n",
       "    }\n",
       "</style>\n",
       "<table border=\"1\" class=\"dataframe\">\n",
       "  <thead>\n",
       "    <tr style=\"text-align: right;\">\n",
       "      <th></th>\n",
       "      <th>0</th>\n",
       "      <th>1</th>\n",
       "    </tr>\n",
       "  </thead>\n",
       "  <tbody>\n",
       "    <tr>\n",
       "      <th>0</th>\n",
       "      <td>0.774405</td>\n",
       "      <td>0.225595</td>\n",
       "    </tr>\n",
       "    <tr>\n",
       "      <th>1</th>\n",
       "      <td>0.791106</td>\n",
       "      <td>0.208894</td>\n",
       "    </tr>\n",
       "    <tr>\n",
       "      <th>2</th>\n",
       "      <td>0.736224</td>\n",
       "      <td>0.263776</td>\n",
       "    </tr>\n",
       "    <tr>\n",
       "      <th>3</th>\n",
       "      <td>0.846074</td>\n",
       "      <td>0.153926</td>\n",
       "    </tr>\n",
       "    <tr>\n",
       "      <th>4</th>\n",
       "      <td>0.787817</td>\n",
       "      <td>0.212183</td>\n",
       "    </tr>\n",
       "    <tr>\n",
       "      <th>...</th>\n",
       "      <td>...</td>\n",
       "      <td>...</td>\n",
       "    </tr>\n",
       "    <tr>\n",
       "      <th>41171</th>\n",
       "      <td>0.164172</td>\n",
       "      <td>0.835828</td>\n",
       "    </tr>\n",
       "    <tr>\n",
       "      <th>41172</th>\n",
       "      <td>0.243217</td>\n",
       "      <td>0.756783</td>\n",
       "    </tr>\n",
       "    <tr>\n",
       "      <th>41173</th>\n",
       "      <td>0.167362</td>\n",
       "      <td>0.832638</td>\n",
       "    </tr>\n",
       "    <tr>\n",
       "      <th>41174</th>\n",
       "      <td>0.194308</td>\n",
       "      <td>0.805692</td>\n",
       "    </tr>\n",
       "    <tr>\n",
       "      <th>41175</th>\n",
       "      <td>0.230817</td>\n",
       "      <td>0.769183</td>\n",
       "    </tr>\n",
       "  </tbody>\n",
       "</table>\n",
       "<p>41176 rows × 2 columns</p>\n",
       "</div>"
      ],
      "text/plain": [
       "              0         1\n",
       "0      0.774405  0.225595\n",
       "1      0.791106  0.208894\n",
       "2      0.736224  0.263776\n",
       "3      0.846074  0.153926\n",
       "4      0.787817  0.212183\n",
       "...         ...       ...\n",
       "41171  0.164172  0.835828\n",
       "41172  0.243217  0.756783\n",
       "41173  0.167362  0.832638\n",
       "41174  0.194308  0.805692\n",
       "41175  0.230817  0.769183\n",
       "\n",
       "[41176 rows x 2 columns]"
      ]
     },
     "metadata": {},
     "execution_count": 545
    }
   ],
   "metadata": {}
  },
  {
   "cell_type": "code",
   "execution_count": 546,
   "source": [
    "tabel_probability[1].round(1)"
   ],
   "outputs": [
    {
     "output_type": "execute_result",
     "data": {
      "text/plain": [
       "0        0.2\n",
       "1        0.2\n",
       "2        0.3\n",
       "3        0.2\n",
       "4        0.2\n",
       "        ... \n",
       "41171    0.8\n",
       "41172    0.8\n",
       "41173    0.8\n",
       "41174    0.8\n",
       "41175    0.8\n",
       "Name: 1, Length: 41176, dtype: float64"
      ]
     },
     "metadata": {},
     "execution_count": 546
    }
   ],
   "metadata": {}
  },
  {
   "cell_type": "code",
   "execution_count": 556,
   "source": [
    "plt.figure(figsize=(15, 8))\n",
    "sns.countplot(x= tabel_probability[1].round(1) , data=tabel_probability)\n",
    "plt.title('Probality yang akan menerima campaign')\n",
    "plt.show()"
   ],
   "outputs": [
    {
     "output_type": "display_data",
     "data": {
      "image/png": "[encoded data removed]",
      "text/plain": [
       "<Figure size 1080x576 with 1 Axes>"
      ]
     },
     "metadata": {
      "needs_background": "light"
     }
    }
   ],
   "metadata": {}
  },
  {
   "cell_type": "code",
   "execution_count": 552,
   "source": [
    "tabel_akhir = tabel_probability[1].round(1)"
   ],
   "outputs": [],
   "metadata": {}
  },
  {
   "cell_type": "code",
   "execution_count": 553,
   "source": [
    "tabel_akhir.value_counts()"
   ],
   "outputs": [
    {
     "output_type": "execute_result",
     "data": {
      "text/plain": [
       "0.3    12948\n",
       "0.4     9181\n",
       "0.2     7424\n",
       "0.5     3532\n",
       "0.8     3219\n",
       "0.9     1387\n",
       "0.7     1262\n",
       "0.6     1257\n",
       "1.0      484\n",
       "0.1      482\n",
       "Name: 1, dtype: int64"
      ]
     },
     "metadata": {},
     "execution_count": 553
    }
   ],
   "metadata": {}
  },
  {
   "cell_type": "markdown",
   "source": [
    "Dari hasil analysis probability diatas maka terlihat bahwa probability dengan besat 0.3 mempunyai value yang sangat banyak yang dimana berarti itu adalah possible customer yang akan menolak campaign yang dilakukan oleh team marketing"
   ],
   "metadata": {}
  },
  {
   "cell_type": "markdown",
   "source": [
    "dengan adanya hasil tersebut kita dapat membuat threshold dimana probability dengan:\n",
    "\n",
    "- 0.1 - 0.2 : Diabakan       \n",
    "- 0.3 - 0.5 : diberikan promo terbaik kelas 1 (GROUP 1)\n",
    "- 0.6 - 0.8 : diberikan promo kelas 2  (GROUP 2)\n",
    "- 0.8 > : tidak perlu diberikan promo (GROUP 3)"
   ],
   "metadata": {}
  },
  {
   "cell_type": "markdown",
   "source": [
    "Dengah threshold yang ada maka kita dapat memfokusan promo dan budget marketing yang kita miliki tepat sasaran dan dapat meningkatkan konversi customer yang akan menjawab ya pada campaign yang kita berikan, dan juga meningkatkan efisiensi dalam telemarketing. "
   ],
   "metadata": {}
  },
  {
   "cell_type": "markdown",
   "source": [
    "## SIMULASI KEUNTUNGAN"
   ],
   "metadata": {}
  },
  {
   "cell_type": "markdown",
   "source": [
    "Data berdasarkan bank indonesia"
   ],
   "metadata": {}
  },
  {
   "cell_type": "markdown",
   "source": [
    "https://www.bi.go.id/id/statistik/ekonomi-keuangan/seki/Default.aspx"
   ],
   "metadata": {}
  },
  {
   "cell_type": "markdown",
   "source": [
    "rata-rata suku bunga pertahun dari kelompok-kelompok bank adalah 15.5%\n"
   ],
   "metadata": {}
  },
  {
   "cell_type": "markdown",
   "source": [
    "Kita asumsikan orang yang tertarik dengan campaign ini meminjam sekitar 50 juta rupiah "
   ],
   "metadata": {}
  },
  {
   "cell_type": "code",
   "execution_count": 808,
   "source": [
    "50000000 * 0.155"
   ],
   "outputs": [
    {
     "output_type": "execute_result",
     "data": {
      "text/plain": [
       "7750000.0"
      ]
     },
     "metadata": {},
     "execution_count": 808
    }
   ],
   "metadata": {}
  },
  {
   "cell_type": "markdown",
   "source": [
    "bank mendapatkan 7 juta rupiah per tahun dari bunga 1 customer yang meminjam dr campaign ini"
   ],
   "metadata": {}
  },
  {
   "cell_type": "markdown",
   "source": [
    "bila kita ingin mengkonversiakn group 1 dan group 2 kita akan memberikan promo kepada mereka yang berupa:\n",
    "\n",
    "- Group 1 mendapatkan HP seharga 5 juta rupiah\n",
    "- Group 2 mendapatkan Headset bluetooth seharga 2 juta rupiah"
   ],
   "metadata": {}
  },
  {
   "cell_type": "markdown",
   "source": [
    "maka profit yang didapat sebesar \n",
    "- group 1 = 2 juta rupiah per tahun per nasabah\n",
    "- group 2 = 5 juta rupiah per tahun per nasabah"
   ],
   "metadata": {}
  },
  {
   "cell_type": "code",
   "execution_count": 809,
   "source": [
    "(12948 + 9181 + 3532)/3 "
   ],
   "outputs": [
    {
     "output_type": "execute_result",
     "data": {
      "text/plain": [
       "8553.666666666666"
      ]
     },
     "metadata": {},
     "execution_count": 809
    }
   ],
   "metadata": {}
  },
  {
   "cell_type": "markdown",
   "source": [
    "rata-rata group 1 yang menerima campaign sekitar 8 ribu orang "
   ],
   "metadata": {}
  },
  {
   "cell_type": "code",
   "execution_count": 810,
   "source": [
    "2000000 * 8000"
   ],
   "outputs": [
    {
     "output_type": "execute_result",
     "data": {
      "text/plain": [
       "16000000000"
      ]
     },
     "metadata": {},
     "execution_count": 810
    }
   ],
   "metadata": {}
  },
  {
   "cell_type": "markdown",
   "source": [
    "total keuntungan dari nasabah group 1 adalah 16 miliar rupiah per tahun"
   ],
   "metadata": {}
  },
  {
   "cell_type": "code",
   "execution_count": 811,
   "source": [
    "(1257 + 1262 + 3219)/3"
   ],
   "outputs": [
    {
     "output_type": "execute_result",
     "data": {
      "text/plain": [
       "1912.6666666666667"
      ]
     },
     "metadata": {},
     "execution_count": 811
    }
   ],
   "metadata": {}
  },
  {
   "cell_type": "markdown",
   "source": [
    "rata-rata group 2 yang menerima campaign sekitar 1 ribu orang"
   ],
   "metadata": {}
  },
  {
   "cell_type": "code",
   "execution_count": 812,
   "source": [
    "1000 * 5000000"
   ],
   "outputs": [
    {
     "output_type": "execute_result",
     "data": {
      "text/plain": [
       "5000000000"
      ]
     },
     "metadata": {},
     "execution_count": 812
    }
   ],
   "metadata": {}
  },
  {
   "cell_type": "markdown",
   "source": [
    "jumlah keuntungan dari group 2 adalah 5 miliar rupiah per tahun"
   ],
   "metadata": {}
  },
  {
   "cell_type": "code",
   "execution_count": 814,
   "source": [
    "(1387 + 484)/2"
   ],
   "outputs": [
    {
     "output_type": "execute_result",
     "data": {
      "text/plain": [
       "935.5"
      ]
     },
     "metadata": {},
     "execution_count": 814
    }
   ],
   "metadata": {}
  },
  {
   "cell_type": "markdown",
   "source": [
    "rata-rata penerima campaign untuk group 3 adalah 900 orang"
   ],
   "metadata": {}
  },
  {
   "cell_type": "code",
   "execution_count": 815,
   "source": [
    "900 * 7000000"
   ],
   "outputs": [
    {
     "output_type": "execute_result",
     "data": {
      "text/plain": [
       "6300000000"
      ]
     },
     "metadata": {},
     "execution_count": 815
    }
   ],
   "metadata": {}
  },
  {
   "cell_type": "markdown",
   "source": [
    "keuntungan yang di dapat dari group 3 adalah 6 miliar per tahun"
   ],
   "metadata": {}
  },
  {
   "cell_type": "markdown",
   "source": [
    "posibility keuntungan seluruh nya dari campaign ini sebesar 27 miliar rupiah, berdasarkan dataset yang digunakan yang memiliki sampel sebesar 41 ribu sampel"
   ],
   "metadata": {}
  },
  {
   "cell_type": "markdown",
   "source": [],
   "metadata": {}
  }
 ],
 "metadata": {
  "kernelspec": {
   "name": "python3",
   "display_name": "Python 3.8.8 64-bit ('base': conda)"
  },
  "language_info": {
   "codemirror_mode": {
    "name": "ipython",
    "version": 3
   },
   "file_extension": ".py",
   "mimetype": "text/x-python",
   "name": "python",
   "nbconvert_exporter": "python",
   "pygments_lexer": "ipython3",
   "version": "3.8.8"
  },
  "interpreter": {
   "hash": "dca0ade3e726a953b501b15e8e990130d2b7799f14cfd9f4271676035ebe5511"
  }
 },
 "nbformat": 4,
 "nbformat_minor": 5
}